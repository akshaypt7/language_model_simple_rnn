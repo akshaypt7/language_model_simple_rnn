{
  "cells": [
    {
      "cell_type": "markdown",
      "metadata": {
        "id": "view-in-github",
        "colab_type": "text"
      },
      "source": [
        "<a href=\"https://colab.research.google.com/github/akshaypt7/language_model_simple_rnn/blob/main/AI3_HW1_Language_Modeling.ipynb\" target=\"_parent\"><img src=\"https://colab.research.google.com/assets/colab-badge.svg\" alt=\"Open In Colab\"/></a>"
      ]
    },
    {
      "cell_type": "markdown",
      "metadata": {
        "id": "c28bSQkcLRKn"
      },
      "source": [
        "# Language Models\n",
        "## Homework 1: Language Modeling\n",
        "\n",
        "**Instructor**: Pavlos Protopapas<br />\n",
        "**Maximum Score**: 70\n",
        "\n",
        "<hr style=\"height:2pt\">"
      ]
    },
    {
      "cell_type": "markdown",
      "metadata": {
        "id": "inKAshSLL7U1"
      },
      "source": [
        "\n",
        "## INSTRUCTIONS\n",
        "\n",
        "- This homework is a notebook. Download and work on it on your local machine or work on it in Colab.\n",
        "\n",
        "- This homework should be submitted in pairs.\n",
        "\n",
        "- Ensure you and your partner together have submitted the homework only once. Multiple submissions of the same work will be penalised and will cost you 2 points.\n",
        "\n",
        "- Please restart the kernel and run the entire notebook again before you submit.\n",
        "\n",
        "- Running cells out of order is a common pitfall in Jupyter Notebooks. To make sure your code works restart the kernel and run the whole notebook again before you submit. \n",
        "\n",
        "- To submit the homework, either one of you upload the working notebook on edStem and click the submit button on the bottom right corner.\n",
        "\n",
        "- Submit the homework well before the given deadline. Submissions after the deadline will not be graded.\n",
        "\n",
        "- We have tried to include all the libraries you may need to do the assignment in the imports statement at the top of this notebook. We strongly suggest that you use those and not others as we may not be familiar with them.\n",
        "\n",
        "- Comment your code well. This would help the graders in case there is any issue with the notebook while running. It is important to remember that the graders will not troubleshoot your code. \n",
        "\n",
        "- Please use .head() when viewing data. Do not submit a notebook that is **excessively long**. \n",
        "\n",
        "- In questions that require code to answer, such as \"calculate the $R^2$\", do not just output the value from a cell. Write a `print()` function that includes a reference to the calculated value, **not hardcoded**. For example: \n",
        "```\n",
        "print(f'The R^2 is {R:.4f}')\n",
        "```\n",
        "- Your plots should include clear labels for the $x$ and $y$ axes as well as a descriptive title (\"MSE plot\" is not a descriptive title; \"95 % confidence interval of coefficients of polynomial degree 5\" is).\n",
        "\n",
        "- **Ensure you make appropriate plots for all the questions it is applicable to, regardless of it being explicitly asked for.**\n",
        "\n",
        "<hr style=\"height:2pt\">"
      ]
    },
    {
      "cell_type": "markdown",
      "metadata": {
        "id": "oDJ0FICOrxoy"
      },
      "source": [
        "## **Names of the people who worked on this homework together**\n",
        "#### / Names here/"
      ]
    },
    {
      "cell_type": "markdown",
      "metadata": {
        "id": "WkQ9H3dgXimi"
      },
      "source": [
        "## **HOMEWORK QUIZ**\n",
        "\n",
        "**For each part of the homework, there is an associated quiz on edStem. You are required to attempt that after completing each section of this homework.**"
      ]
    },
    {
      "cell_type": "markdown",
      "metadata": {
        "id": "B2p5Wx_BMPUu"
      },
      "source": [
        "## **Setup Notebook**"
      ]
    },
    {
      "cell_type": "markdown",
      "metadata": {
        "id": "_gOe-gtbMVD5"
      },
      "source": [
        "**Imports**"
      ]
    },
    {
      "cell_type": "code",
      "execution_count": 29,
      "metadata": {
        "colab": {
          "base_uri": "https://localhost:8080/"
        },
        "id": "i8F79dR16Im-",
        "outputId": "35b1d88f-944e-43e1-e64e-1e658c433b54"
      },
      "outputs": [
        {
          "output_type": "stream",
          "name": "stdout",
          "text": [
            "Looking in indexes: https://pypi.org/simple, https://us-python.pkg.dev/colab-wheels/public/simple/\n",
            "Requirement already satisfied: nltk in /usr/local/lib/python3.7/dist-packages (3.2.5)\n",
            "Requirement already satisfied: six in /usr/local/lib/python3.7/dist-packages (from nltk) (1.15.0)\n"
          ]
        }
      ],
      "source": [
        "pip install nltk"
      ]
    },
    {
      "cell_type": "code",
      "execution_count": 52,
      "metadata": {
        "colab": {
          "base_uri": "https://localhost:8080/"
        },
        "id": "bWsstoz5KnwW",
        "outputId": "e061d29d-73f3-4338-c554-5bcd841099af"
      },
      "outputs": [
        {
          "output_type": "stream",
          "name": "stdout",
          "text": [
            "[nltk_data] Downloading package punkt to /root/nltk_data...\n",
            "[nltk_data]   Package punkt is already up-to-date!\n"
          ]
        }
      ],
      "source": [
        "import requests\n",
        "import re\n",
        "import os\n",
        "import zipfile\n",
        "import collections\n",
        "import numpy as np\n",
        "import pandas as pd\n",
        "import urllib.request\n",
        "import matplotlib.pyplot as plt\n",
        "from collections import defaultdict\n",
        "%matplotlib inline\n",
        "from IPython.core.display import HTML\n",
        "\n",
        "import tensorflow as tf\n",
        "from tensorflow import keras\n",
        "from tensorflow.python.keras import backend as K\n",
        "from tensorflow.keras.models import Model\n",
        "from collections import defaultdict\n",
        "\n",
        "from sklearn.model_selection import train_test_split\n",
        "import nltk\n",
        "from nltk.tokenize import sent_tokenize, word_tokenize\n",
        "nltk.download('punkt')\n",
        "import tensorflow as tf\n",
        "from tensorflow.keras.layers import Input, Embedding, SimpleRNN, Dense\n",
        "from tensorflow.keras.models import Model, Sequential"
      ]
    },
    {
      "cell_type": "markdown",
      "metadata": {
        "id": "RCKMuo0TM5dH"
      },
      "source": [
        "**Verify Setup**"
      ]
    },
    {
      "cell_type": "code",
      "execution_count": 4,
      "metadata": {
        "colab": {
          "base_uri": "https://localhost:8080/"
        },
        "id": "F5Eh4YpOQTlW",
        "outputId": "72a2e207-3218-45c8-8d4a-ff962f8c2055"
      },
      "outputs": [
        {
          "output_type": "stream",
          "name": "stdout",
          "text": [
            "tensorflow version 2.8.0\n",
            "keras version 2.8.0\n",
            "Eager Execution Enabled: True\n",
            "INFO:tensorflow:Using MirroredStrategy with devices ('/job:localhost/replica:0/task:0/device:GPU:0',)\n",
            "Number of replicas: 1\n",
            "Devices: [PhysicalDevice(name='/physical_device:CPU:0', device_type='CPU'), PhysicalDevice(name='/physical_device:GPU:0', device_type='GPU')]\n",
            "[LogicalDevice(name='/device:GPU:0', device_type='GPU')]\n",
            "GPU Available:  [PhysicalDevice(name='/physical_device:GPU:0', device_type='GPU')]\n",
            "All Physical Devices [PhysicalDevice(name='/physical_device:CPU:0', device_type='CPU'), PhysicalDevice(name='/physical_device:GPU:0', device_type='GPU')]\n"
          ]
        }
      ],
      "source": [
        "# Enable/Disable Eager Execution\n",
        "# Reference: https://www.tensorflow.org/guide/eager\n",
        "# TensorFlow's eager execution is an imperative programming environment that evaluates operations immediately, \n",
        "# without building graphs\n",
        "\n",
        "#tf.compat.v1.disable_eager_execution()\n",
        "#tf.compat.v1.enable_eager_execution()\n",
        "\n",
        "print(\"tensorflow version\", tf.__version__)\n",
        "print(\"keras version\", tf.keras.__version__)\n",
        "print(\"Eager Execution Enabled:\", tf.executing_eagerly())\n",
        "\n",
        "# Get the number of replicas \n",
        "strategy = tf.distribute.MirroredStrategy()\n",
        "print(\"Number of replicas:\", strategy.num_replicas_in_sync)\n",
        "\n",
        "devices = tf.config.experimental.get_visible_devices()\n",
        "print(\"Devices:\", devices)\n",
        "print(tf.config.experimental.list_logical_devices('GPU'))\n",
        "\n",
        "print(\"GPU Available: \", tf.config.list_physical_devices('GPU'))\n",
        "print(\"All Physical Devices\", tf.config.list_physical_devices())\n",
        "\n",
        "# Better performance with the tf.data API\n",
        "# Reference: https://www.tensorflow.org/guide/data_performance\n",
        "AUTOTUNE = tf.data.experimental.AUTOTUNE"
      ]
    },
    {
      "cell_type": "markdown",
      "metadata": {
        "id": "8kAR4k4uHXkP"
      },
      "source": [
        "\n",
        "    \n",
        "## **PART 1 [35 points]: Language Modeling using ngrams**\n",
        "<br />    \n",
        "\n",
        "You have been tasked with developing a language model to complete messages that for some reason arrive incomplete to a disaster response station. Given the delicate situation, you will have to be extra careful. Each word in the sentence conveys a lot of information, and improper handling of the data could cause someone to come to harm. \n",
        "\n",
        "Your language model will be based on bigrams. You'll develop your own sub-word tokenization to analyze disaster messages from multiple natural disasters. All the sentences are translated into English.\n",
        "    \n",
        "    \n",
        "\n",
        "    "
      ]
    },
    {
      "cell_type": "markdown",
      "metadata": {
        "id": "3G-7bWnyHXkQ"
      },
      "source": [
        "### **PART 1: Questions**\n",
        "<br />\n",
        "\n",
        "### **1.1 [5 points] PREPROCESS THE DATASET**\n",
        "<br />\n",
        "\n",
        "**1.1.1** - Read in the dataset `disaster_response_messages_training.csv` and select only the column \"message\" and display the head of the DataFrame.\n",
        "<br /><br />\n",
        "\n",
        "**1.1.2** - Define a function `clean_data` that takes the data frame as input, converts the characters to lower case and removes any non-alphanumeric characters,  adds the start token `<s>` and the end token `</s>` to every sentence (row) in the data frame and returns the processed data frame.\n",
        "<br />\n",
        "**Sample Input:** \"Is there a dog^ on the road?\" <br />\n",
        "**Sample Output:** \"\\<s> is there a dog on the road \\</s>\"\n",
        "<br /><br />\n",
        "\n",
        "\n",
        "**1.1.3** - Split the dataset into train and test sets. The proportion should be 0.95 and 0.05, respectively. You will create the language model based on the train set and validate your results on the test set.\n",
        "<br /><br />    \n",
        "\n",
        "\n",
        "\n",
        "    \n",
        "### **1.2 [8 points] TOKENIZE AND COUNT**\n",
        "<br />\n",
        "\n",
        "In this section, you will create three different tokenizers that you will build LM based on. The tokenization functions must divide the text into tokens, count their frequency and return a dictionary with a mapping of token to number.\n",
        "<br />\n",
        "\n",
        "**1.2.1** - Create your own tokenization function ('tokenizer_1') based on whitespace. Pick the top 1000 tokens with the highest frequency to include in the vocabulary. Include the `<UNK>` token for out of the vocabulary (OOV) words.  <br /><br />\n",
        "\n",
        "**1.2.2** - Create a second tokenization function ('tokenizer_2') based on whitespace, but do not limit the vocabulary size.\n",
        "<br /><br />\n",
        "\n",
        "**1.2.3** - Create a third tokenization function ('tokenizer_3') based on sub-words. You have to define a set of common sub-words in the English language, for example, the subtokens _ing_ and _n't_. Here again, do not limit the vocabulary size.\n",
        "\n",
        "In this example, the sentence \"_It is raining outside_\" would be tokenized as [_It_, _is_, _rain_, _ing_, _outside_ ].\n",
        "\n",
        "\n",
        "**Note:** Use words only from the train data to create the vocabulary. Add an additional `<UNK>` token for **1.2.2** and **1.2.3** to handle new words found in the test set. Remove the empty character token as it provides no information\n",
        "<br /><br />\n",
        "    \n",
        "### **1.3 [6 points] CONSTRUCTING BIGRAMS**\n",
        "<br />\n",
        "\n",
        "**1.3.1** - Using each of the tokenizer functions you created, split each sentence into tokens in their numerical representation. \n",
        "<br /><br />\n",
        "\n",
        "**1.3.2** - For each tokenizer, count the occurances of each bigram (w1,w2) in the train dataset and divide them by the total occurences of the first word (w1). This will give you the probability of each bigram.\n",
        "<br /><br />\n",
        "    \n",
        "    \n",
        "### **1.4 [8 points] PREDICTING THE NEXT WORDS**\n",
        "<br />\n",
        "\n",
        "**1.4.1** - Simulate incomplete messages by dividing each sentence of the test set in two. The first $75\\%$ will represent the received message, and the final $25\\%$ will convey the missing information. You will use this dataset to evaluate the predictions of your language model.\n",
        "    \n",
        "For example in the sentence: \"*I will go out on a vacation, now that my semester ended.*\"\n",
        "\n",
        "The first 75% will be \"*I will go out on a vacation, now*\"\n",
        "\n",
        "The last 25% will be \"*that my semeter ended*\"\n",
        "\n",
        "Your aim is to predict the last part by giving your model the first \"part\" of the sentence.\n",
        "\n",
        "\n",
        "**Note:** In an n-gram language model, only the last $n-1$ words are used to make a prediction. \n",
        "\n",
        "For example, for the above sentence, if you are using bigrams, the input to your model would only be \"now\" and you are expected to predict \"that\". \n",
        "<br /><br />\n",
        "\n",
        "    \n",
        "**1.4.2** - Given 5 sentences from the previous question (test set), predict the next word. \n",
        "Append this predicted word to the input sequence and predict the next one. Repeat this process until you reach the 10th predicted token or the end of a sentence (end of a sentence - `</s>`). Compare your results qualitatively with the original sentences. Do the results make sense wrt the context and semantics?\n",
        "\n",
        "Repeat this for all the models built using different tokenization techniques.\n",
        "\n",
        "\n",
        "**Note:** For model 2 and 3 (using tokenizer 2 and 3), if there is an `<UNK>` word as the last word in the test set, predict the next word based on unigram probabilities (calculate this by using word count from Section **1.2**).\n",
        "<br /><br />\n",
        "\n",
        "**1.4.3** - Repeat the same exercise, for all 3 models, but this time, the next token will be sampled from a distribution given by the bigram frequency. Compare and comment on the results?\n",
        "\n",
        "\n",
        "**Hint:** In a model of two bigrams with frequencies 0.7 and 0.3, a deterministic prediction will only predict the first bigram. Sampling from a distribution, will enable the model to predict the second bigram with a probability of 0.3. In this way we can still predict infrequent tokens. \n",
        "<br /><br />\n",
        "    \n",
        "\n",
        "### **1.5 [5 points] EVALUATE THE LANGUAGE MODELS**\n",
        "<br />\n",
        "\n",
        "    \n",
        "**1.5.1** - For each of your models, compute the average perplexity on the test set (These are the complete test messages as tokenized in 1.3.1, **not** the incomplete test messages from 1.4.1). If the tokens of the test set are not present in the train split, define a minimum probability (smoothing). Based on this metric, which model is better?\n",
        "\n",
        "**Note:** Use the bigram probabilities for this. N (from the perplexity formula) - Number of words in the sentence.\n",
        "<br /><br />\n",
        "\n",
        "**1.5.2** - Given the perplexities, which model do you think is better? Why do you think so? Does this reflect the quality of the prediction as seen in part 1.4? \n",
        " What is the effect of UNK words?\n",
        "\n",
        "<br /><br />\n",
        "\n",
        "### **1.6 [3 points] HOMEWORK QUIZ**\n",
        "<br />\n",
        "\n",
        "After attempting this part of the homework, answer the questions on edStem. All the questions depend on this part of the homework and you will not be able to answer them without attempting this part.\n",
        "\n",
        "<br /><br />\n",
        "\n",
        "</div>"
      ]
    },
    {
      "cell_type": "markdown",
      "metadata": {
        "id": "cZQGJVcwx6q5"
      },
      "source": [
        "---"
      ]
    },
    {
      "cell_type": "markdown",
      "metadata": {
        "id": "xf9ieRV5NU38"
      },
      "source": [
        "## **PART 1: Solutions**"
      ]
    },
    {
      "cell_type": "markdown",
      "metadata": {
        "id": "g0Zhd1UxHXkR"
      },
      "source": [
        "<div class=\"alert alert-block alert-danger\" style=\"color:black;background-color:#E7F4FA\">\n",
        "    \n",
        "### **1.1 [5 points] PREPROCESS THE DATASET**\n",
        "<br />\n",
        "\n",
        "**1.1.1** - Read in the dataset `disaster_response_messages_training.csv`. Select only the column \"message\" and display the head of the DataFrame.\n",
        "<br />\n",
        "\n",
        "If you want to download the file you can get it from [here](https://drive.google.com/uc?id=1JRWRywWDZRdxTG1n9H9xTHXNapNdrTOJ&export=download)\n",
        "</div>"
      ]
    },
    {
      "cell_type": "code",
      "execution_count": null,
      "metadata": {
        "id": "0--qw-2RHXkR"
      },
      "outputs": [],
      "source": [
        "file_path = \"https://drive.google.com/uc?id=1JRWRywWDZRdxTG1n9H9xTHXNapNdrTOJ&export=download\"\n",
        "# Your code here\n"
      ]
    },
    {
      "cell_type": "markdown",
      "metadata": {
        "id": "haGkdXvqHXkS"
      },
      "source": [
        "<div class=\"alert alert-block alert-danger\" style=\"color:black;background-color:#E7F4FA\">\n",
        "    \n",
        "**1.1.2** - Define a function `clean_data` that takes the data frame as input, converts the characters to lower case and removes any non-alphanumeric,  adds the start token `<s>` and the end token `</s>` to every sentence (row) in the data frame and returns the processed data frame.\n",
        "<br />\n",
        "**Sample Input:** \"Is there a dog^ on the road?\" <br />\n",
        "**Sample Output:** \"\\<s> is there a dog on the road \\</s>\"\n",
        "    \n",
        "</div>"
      ]
    },
    {
      "cell_type": "code",
      "execution_count": null,
      "metadata": {
        "id": "nzSqQLiRHXkS"
      },
      "outputs": [],
      "source": [
        "# Your code here\n"
      ]
    },
    {
      "cell_type": "markdown",
      "metadata": {
        "id": "FE_csbO_HXkS"
      },
      "source": [
        "<div class=\"alert alert-block alert-danger\" style=\"color:black;background-color:#E7F4FA\">\n",
        "\n",
        "**1.1.3** - Split the dataset into train and test sets. The proportion should be 0.95 and 0.05, respectively. You will create the language model based on the train set and validate your results on the test set.\n",
        "<br /><br />  \n",
        "\n",
        "</div>"
      ]
    },
    {
      "cell_type": "code",
      "execution_count": null,
      "metadata": {
        "id": "GqhLV4IDHXkT"
      },
      "outputs": [],
      "source": [
        "# Your code here\n"
      ]
    },
    {
      "cell_type": "markdown",
      "metadata": {
        "id": "OE3BueW8HXkT"
      },
      "source": [
        "<div class=\"alert alert-block alert-danger\" style=\"color:black;background-color:#E7F4FA\">\n",
        "\n",
        "### **1.2 [8 points] TOKENIZE AND COUNT**\n",
        "<br />\n",
        "\n",
        "In this section, you will create three different tokenizers and build an LM based on each one of them. The tokenization functions must divide the text into tokens, count their frequency and return a dictionary with a mapping of token to number.\n",
        "<br /><br />\n",
        "    \n",
        "**Note:** Use words only from the train data to create the vocabulary. Add an additional `<UNK>` token for **1.2.2** and **1.2.3** to handle new words found in the test set. Remove the empty character token as it provides no information. \n",
        "<br /><br />\n",
        "\n",
        "**1.2.1** - Create your own tokenization function ('tokenizer_1') based on whitespace. Pick the top 1000 tokens with the highest frequency to include in the vocabulary. Include the `<UNK>` token for out of the vocabulary (OOV) words. \n",
        "<br /><br />\n",
        "    \n",
        "</div> "
      ]
    },
    {
      "cell_type": "code",
      "execution_count": null,
      "metadata": {
        "id": "XsuySgwlHXkT"
      },
      "outputs": [],
      "source": [
        "# Your code here"
      ]
    },
    {
      "cell_type": "markdown",
      "metadata": {
        "id": "m1xu8CZ-HXkU"
      },
      "source": [
        "<div class=\"alert alert-block alert-danger\" style=\"color:black;background-color:#E7F4FA\">\n",
        "\n",
        "**1.2.2** - Create a second tokenization function ('tokenizer_2') based on whitespace, but do not limit the vocabulary size.\n",
        "<br /><br />\n",
        "    \n",
        "</div>"
      ]
    },
    {
      "cell_type": "code",
      "execution_count": null,
      "metadata": {
        "id": "XlFMii2QHXkU"
      },
      "outputs": [],
      "source": [
        "# Your code here"
      ]
    },
    {
      "cell_type": "markdown",
      "metadata": {
        "id": "Tc8kGcbKHXkU"
      },
      "source": [
        "<div class=\"alert alert-block alert-danger\" style=\"color:black;background-color:#E7F4FA\">\n",
        "\n",
        "**1.2.3** - Create a third tokenization function ('tokenizer_3') based on sub-words. You have to define a set of common sub-words in the English language, for example, the subtokens _ing_ and _n't_.  Here again, do not limit the vocabulary size.\n",
        "    \n",
        "In this example, the sentence \"_It is raining outside_\" would be tokenized as [_It_, _is_, _rain_, _ing_, _outside_ ].\n",
        "<br /><br />\n",
        "    \n",
        "</div>"
      ]
    },
    {
      "cell_type": "code",
      "execution_count": null,
      "metadata": {
        "id": "VUddvhyfHXkU"
      },
      "outputs": [],
      "source": [
        "# Your code here"
      ]
    },
    {
      "cell_type": "markdown",
      "metadata": {
        "id": "lPRIT0WCHXkV"
      },
      "source": [
        "<div class=\"alert alert-block alert-danger\" style=\"color:black;background-color:#E7F4FA\">\n",
        "\n",
        "### **1.3 [7 points] CONSTRUCTING BIGRAMS**\n",
        "<br />\n",
        "\n",
        "**1.3.1** - Using each of the tokenizer functions you created, split each sentence into tokens in their numerical representation. \n",
        "<br /><br />\n",
        "    \n",
        "</div>"
      ]
    },
    {
      "cell_type": "markdown",
      "metadata": {
        "id": "HIgSWDWEHXkV"
      },
      "source": [
        "**Tokenizer_1**"
      ]
    },
    {
      "cell_type": "code",
      "execution_count": null,
      "metadata": {
        "id": "50JWqq4THXkV"
      },
      "outputs": [],
      "source": [
        "# Your code here"
      ]
    },
    {
      "cell_type": "markdown",
      "metadata": {
        "id": "yzPLeOJHHXkV"
      },
      "source": [
        "**Tokenizer_2**"
      ]
    },
    {
      "cell_type": "code",
      "execution_count": null,
      "metadata": {
        "id": "6CB5Z1fhHXkV"
      },
      "outputs": [],
      "source": [
        "# Your code here"
      ]
    },
    {
      "cell_type": "markdown",
      "metadata": {
        "id": "p8C1SwPxHXkV"
      },
      "source": [
        "**Tokenizer_3**"
      ]
    },
    {
      "cell_type": "code",
      "execution_count": null,
      "metadata": {
        "id": "9UL8xpqyHXkV"
      },
      "outputs": [],
      "source": [
        "# Your code here"
      ]
    },
    {
      "cell_type": "markdown",
      "metadata": {
        "id": "zCxmJSwyHXkW"
      },
      "source": [
        "<div class=\"alert alert-block alert-danger\" style=\"color:black;background-color:#E7F4FA\">\n",
        "\n",
        "**1.3.2** - For each tokenizer, count the occurances of each bigram (w1,w2) in the train dataset and divide them by the total occurences of the first word (w1). This will give you the probability of each bigram.\n",
        "<br /><br />\n",
        "    \n",
        "</div>"
      ]
    },
    {
      "cell_type": "code",
      "execution_count": null,
      "metadata": {
        "id": "5nNj0_i9HXkW"
      },
      "outputs": [],
      "source": [
        "# Your code here"
      ]
    },
    {
      "cell_type": "markdown",
      "metadata": {
        "id": "M8icmHoiHXkW"
      },
      "source": [
        "<div class=\"alert alert-block alert-danger\" style=\"color:black;background-color:#E7F4FA\">\n",
        "\n",
        "### **1.4 [9 points] PREDICTING THE NEXT WORDS**\n",
        "<br />\n",
        "\n",
        "**1.4.1** - Simulate incomplete messages by dividing each sentence of the test set in two. The first $75\\%$ will represent the received message, and the final $25\\%$ will convey the missing information. You will use this dataset to evaluate the predictions of your language model.\n",
        "    \n",
        "For example in the sentence: \"*I will go out on a vacation, now that my semester ended.*\"\n",
        "\n",
        "The first 75% will be \"*I will go out on a vacation, now*\"\n",
        "\n",
        "The last 25% will be \"*that my semeter ended*\"\n",
        "\n",
        "Your aim is to predict the last part by giving your model the first \"part\" of the sentence.\n",
        "\n",
        "\n",
        "**Note:** In an n-gram language model, only the last $n-1$ words are used to make a prediction. \n",
        "\n",
        "For example, for the above sentence, if you are using bigrams, the input to your model would only be \"now\" and you are expected to predict \"that\". \n",
        "<br /><br />\n",
        "    \n",
        "</div>"
      ]
    },
    {
      "cell_type": "code",
      "execution_count": null,
      "metadata": {
        "id": "yCFq-wyOHXkW"
      },
      "outputs": [],
      "source": [
        "# Your code here"
      ]
    },
    {
      "cell_type": "markdown",
      "metadata": {
        "id": "q668WN8JHXkW"
      },
      "source": [
        "<div class=\"alert alert-block alert-danger\" style=\"color:black;background-color:#E7F4FA\">\n",
        "\n",
        "\n",
        "**1.4.2** - For 5 sentences from the previous question (test set), predict the next word. \n",
        "Append this predicted word to the input sequence and predict the next one. Repeat this process until you reach the 10th predicted token or the end of a sentence (end of a sentence - `</s>`). Compare your results qualitatively with the original sentences. Do the results make sense wrt the context and semantics?\n",
        "\n",
        "Repeat this for all the models built using different tokenization techniques.\n",
        "\n",
        "\n",
        "**Note:** For model 2 and 3  (using tokenizer 2 and 3),, if there is an `<UNK>` word as the last word in the test set, predict the next word based on unigram probabilities (calculate this by using word count from Section **1.2**)\n",
        "<br /><br />\n",
        "    \n",
        "</div>"
      ]
    },
    {
      "cell_type": "code",
      "execution_count": null,
      "metadata": {
        "id": "3XqmN2OAHXkW"
      },
      "outputs": [],
      "source": [
        "# Your code here"
      ]
    },
    {
      "cell_type": "markdown",
      "metadata": {
        "id": "EtpZFMe8HXkX"
      },
      "source": [
        "**Tokenizer1**"
      ]
    },
    {
      "cell_type": "code",
      "execution_count": null,
      "metadata": {
        "id": "orucigd_HXkX"
      },
      "outputs": [],
      "source": [
        "# Your code here"
      ]
    },
    {
      "cell_type": "markdown",
      "metadata": {
        "id": "pf7IJrptHXkX"
      },
      "source": [
        "**Tokenizer2**"
      ]
    },
    {
      "cell_type": "code",
      "execution_count": null,
      "metadata": {
        "id": "rl3aQERDHXkX"
      },
      "outputs": [],
      "source": [
        "# Your code here"
      ]
    },
    {
      "cell_type": "markdown",
      "metadata": {
        "id": "aV0jyNHFHXkX"
      },
      "source": [
        "**Tokenizer3**"
      ]
    },
    {
      "cell_type": "code",
      "execution_count": null,
      "metadata": {
        "id": "wMUlZeAhHXkX"
      },
      "outputs": [],
      "source": [
        "# Your code here"
      ]
    },
    {
      "cell_type": "markdown",
      "metadata": {
        "id": "5ebMOukaHXkY"
      },
      "source": [
        "<div class=\"alert alert-block alert-danger\" style=\"color:black;background-color:#E7F4FA\">\n",
        "\n",
        "**1.4.3** - Repeat the same exercise, but this time, the next token will be _sampled_ from a distribution given by the bigram frequency. Are the results better?\n",
        "\n",
        "In a model of two bigrams with frequencies 0.7 and 0.3, a deterministic prediction will only predict the first bigram. Sampling from a distribution, will enable the model to predict the second bigram with a probability of 0.3. In this way we can still predict infrequent tokens. \n",
        "<br /><br />\n",
        "    \n",
        "</div>"
      ]
    },
    {
      "cell_type": "code",
      "execution_count": null,
      "metadata": {
        "id": "nw5C2t38HXkY"
      },
      "outputs": [],
      "source": [
        "# Your code here"
      ]
    },
    {
      "cell_type": "markdown",
      "metadata": {
        "id": "ACZ7LVm0HXkY"
      },
      "source": [
        "**Tokenizer_1**"
      ]
    },
    {
      "cell_type": "code",
      "execution_count": null,
      "metadata": {
        "id": "P9pISmymHXkY"
      },
      "outputs": [],
      "source": [
        "# Your code here"
      ]
    },
    {
      "cell_type": "markdown",
      "metadata": {
        "id": "7w_gG_4AHXkY"
      },
      "source": [
        "**Tokenizer_2**"
      ]
    },
    {
      "cell_type": "code",
      "execution_count": null,
      "metadata": {
        "id": "eqYkoDt4HXkY"
      },
      "outputs": [],
      "source": [
        "# Your code here"
      ]
    },
    {
      "cell_type": "markdown",
      "metadata": {
        "id": "BB4ESZF9HXkY"
      },
      "source": [
        "**Tokenizer_3**"
      ]
    },
    {
      "cell_type": "code",
      "execution_count": null,
      "metadata": {
        "id": "88g1jRSMHXkZ"
      },
      "outputs": [],
      "source": [
        "# Your code here"
      ]
    },
    {
      "cell_type": "markdown",
      "metadata": {
        "id": "1ZcTt2wsHXkZ"
      },
      "source": [
        "<div class=\"alert alert-block alert-danger\" style=\"color:black;background-color:#E7F4FA\">\n",
        "\n",
        "### **1.5 [6 points] EVALUATE THE LANGUAGE MODELS**\n",
        "<br />\n",
        "\n",
        "    \n",
        "**1.5.1** - For each of your models, compute the average perplexity on the test set (These are the complete test messages as tokenized in 1.3.1, **not** the incomplete test messages from 1.4.1). If the tokens of the test set are not present in the train split, define a minimum probability (smoothing). Based on this metric, which model is better?\n",
        "\n",
        "**Note:** Use the bigram probabilities for this. N - (from the perplexity formula) Number of words in the sentence.\n",
        "<br /><br />\n",
        "    \n",
        "</div>"
      ]
    },
    {
      "cell_type": "code",
      "execution_count": null,
      "metadata": {
        "id": "yt8RfxTJHXkZ"
      },
      "outputs": [],
      "source": [
        "# Your code here"
      ]
    },
    {
      "cell_type": "markdown",
      "metadata": {
        "id": "QyHHj10DHXkZ"
      },
      "source": [
        "<div class=\"alert alert-block alert-danger\" style=\"color:black;background-color:#E7F4FA\">\n",
        "\n",
        "**1.5.2** - Given the perplexities, which model do you think is better? Why do you think so? Does this reflect the quality of the prediction as seen in part 1.4? \n",
        " What is the effect of UNK words?\n",
        "<br /><br />\n",
        "    \n",
        "</div>"
      ]
    },
    {
      "cell_type": "markdown",
      "metadata": {
        "id": "wSMZ8TueHXkZ"
      },
      "source": [
        "Type your answer here"
      ]
    },
    {
      "cell_type": "markdown",
      "metadata": {
        "id": "QLx_dIVbwW_y"
      },
      "source": [
        "___\n",
        "___\n"
      ]
    },
    {
      "cell_type": "markdown",
      "metadata": {
        "id": "5s8tzWckHXkf"
      },
      "source": [
        "## **PART 2 [35 points] : Language Modelling using RNNs**\n",
        "<br />    \n",
        "\n",
        "In this part of the homework, you are to build and train a new language model. For this, we will be using Prof. Protopapas's famous texts which end with `...` for prediction. Here, you will preprocess a data corpus and train your simple RNN network with it. With this network you will try to predict what he meant when he typed `...`. For this task we will use a form of transfer learning: first training a network on the larger dataset, such as IMDB reviews, and then 'fine tuning' the network to the professor's texts.\n",
        "<br /><br />\n",
        "    \n",
        "</div>"
      ]
    },
    {
      "cell_type": "markdown",
      "metadata": {
        "id": "AWrWbR1eHXkf"
      },
      "source": [
        "## **PART 2: Questions**\n",
        "<br />\n",
        "\n",
        "### **2.1 [2 points] PREPROCESS THE DATASET**\n",
        "<br />\n",
        "\n",
        "**2.1.1** - Read in the dataset `imdb.csv`. Create a new dataframe by splitting each review into individual sentences. The sentences can be delimited by different characters such as period and question mark (eroteme). Call this column as `text` in the new dataframe.\n",
        "<br /><br />\n",
        "\n",
        "**2.1.2** - Define a function `clean_data` that takes the new dataframe as input and removes all html tags and non-alphanumeric characters from the dataframe. Additionally, convert all characters to lower case. Remove all the sentences where the number of words is less than 10 and higher than 30. Finally, add the start token `<s>` and the end token `</s>` to every sentence (row) in the dataframe. Return the processed the dataframe. \n",
        "<br /><br />\n",
        "\n",
        "### **2.2 [2 points] TOKENIZE THE DATASET**\n",
        "<br />\n",
        "\n",
        "**2.2.1** - Instantiate a Tokenizer for the dataset using `tensorflow.keras.preprocessing.text.Tokenizer` with a vocabulary size of 5000.  Do **not** use an additional token for unknown, out of vocabulary words (oov). That is, you will **not** have the equivalent of the `<UNK>` token.\n",
        "\n",
        "*Hint:* Remove all filters from the function as we have already perfomed data cleaning. Set the value of filter to be `''`.\n",
        "<br /><br />\n",
        "\n",
        "**2.2.2** - Fit the tokenizer on the dataset and get the sequence representation of each sentence.\n",
        "<br /><br />\n",
        "\n",
        "### **2.3 [10 points] MODELLING THE DATA**\n",
        "<br />\n",
        "\n",
        "**2.3.1** - The first step is to split the dataset into the predictors ($X$) and the response ($Y$). The predictors for each observation (sentence) are all tokens in that sentence _except_ the **last** token. The response for a given sentence is all tokens in that sentence _except_ the **first**. Using `tf.keras.preprocessing.sequence.pad_sequences` post-pad each sequence in $X$ and $Y$ to a length of 30.\n",
        "    \n",
        "**Hint:** You may need to use `tf.convert_to_tensor` on the objects returned by the padding operation. \n",
        "```\n",
        "Example:\n",
        "if token for <s> = 1 and </s> = 2\n",
        "sentence_i = [1, 48, 2498, 22, 16, 4, 4, 1554, 149, 14, 22, 2]\n",
        "x_i = [1,  48,   2498, 22, 16, 4, 4,    1554, 149, 14, 22, 0, ..., 0]\n",
        "y_i = [48, 2498, 22,   16, 4,  4, 1554, 149,  14,  22, 2,  0, ..., 0]\n",
        "```\n",
        "<br /><br />\n",
        "\n",
        "**2.3.2** - Define a simple RNN model that has an embedding layer with an embedding dimension of 300. You can define any number of RNN layers. The output of the RNN model will be a dense layer with size of the vocabulary and softmax activation. Using the functional API here may make it easier to reuse parts of the network later on.\n",
        "<br /><br />\n",
        "\n",
        "**2.3.3** - Train the model with the $X$ and $Y$ data formed in 2.3.1. Use a validation split of 0.2. The choice of number epochs and batch size is left to you.\n",
        "<br /><br />\n",
        "\n",
        "**2.3.4** - Plot the train and validation loss from the training history.\n",
        "<br /><br />\n",
        "\n",
        "### **2.4 [9 points] PREDICTING THE NEXT WORD**\n",
        "<br />\n",
        "\n",
        "**2.4.1** -Read the dataset `pp_text.csv`. Add only the  start token to each line, remove the last word and tokenize it using the tokenizer fit previously. Convert each sentence to a sequence vector and post-pad to a length of 30. This will be the input for the prediction phase.\n",
        "<br /><br />\n",
        "\n",
        "**2.4.2** - For predicting the next word, use the trained RNN model from above. \n",
        "\n",
        "NOTE - Based on your implementation, the output of the RNN model might have to be different from that of your trained network. You can make use of Keras function API for this.\n",
        "<br /><br />\n",
        "\n",
        "**2.4.3** - Choose any sentence from the list of Pavlos' texts to predict the next word. Input this to the RNN model built for prediction and print the predicted word. Try this out with multiple sentences.\n",
        "<br /><br />\n",
        "\n",
        "**2.4.4** - Do you notice any pattern in the predicted words? Do they seem approriate to the context of the texts as you understand it? What do you attribute this discrepency to? How can you resolve it?\n",
        "\n",
        "Answer in less than 150 words.\n",
        "<br /><br />\n",
        "\n",
        "### **2.5 [6 points] TRAINING AND PREDICTING WITH A DIFFERENT DATASET**\n",
        "<br />\n",
        "\n",
        "**2.5.1** - Read the dataset `cleaned_sarcasm.csv`. This dataset has been preprocessed for you, all you need to do is tokenize, convert to sequence and pad it, similar to 2.2.1, 2.2.2 and 2.3.1.\n",
        "<br /><br />\n",
        "\n",
        "**2.5.2** - Train your RNN model with this data and plot the train and validation trace plot. This part is similar to 2.3.2, 2.3.3 and 2.3.4.\n",
        "<br /><br />\n",
        "\n",
        "**2.5.3** - Repeat 2.4.1, 2.4.2 and 2.4.3 with the RNN model trained using the new dataset.\n",
        "<br /><br />\n",
        "\n",
        "**2.5.4** - How do the results with the new dataset compare to the previous ones? Why do you think so? \n",
        "\n",
        "Answer in less than 100 words.\n",
        "<br /><br />\n",
        "    \n",
        "### **2.6 [3 points] COMPLETING THE SENTENCE**\n",
        "<br />\n",
        "\n",
        "**2.6.1** Until now we have predicted a single word for a given sentence. However, what if he meant more than one word when he typed in `...`\n",
        "\n",
        "We will now predict multiple words for each input sentence. To do this we will first predict one word, append this word to the input text and then predict one more with the updated input. Continue doing this for 5 words or until the end token `</s>` (whichever comes first). \n",
        "<br /><br />\n",
        "\n",
        "### **2.7 [3 points] HOMEWORK QUIZ**\n",
        "<br />\n",
        "After attempting this part of the homework, answer the questions on edStem. All the questions depend on this part of the homework and you will not be able to answer them without attempting this part.\n",
        "\n",
        "<br />\n",
        "\n"
      ]
    },
    {
      "cell_type": "markdown",
      "metadata": {
        "id": "BaQ8lfVowoy3"
      },
      "source": [
        "---"
      ]
    },
    {
      "cell_type": "markdown",
      "metadata": {
        "id": "898ka8eIyMSY"
      },
      "source": [
        "## **PART 2: Solutions**"
      ]
    },
    {
      "cell_type": "markdown",
      "metadata": {
        "id": "GfUtlwvKHXkg"
      },
      "source": [
        "<div class=\"alert alert-block alert-danger\" style=\"color:black;background-color:#E7F4FA\">\n",
        "    \n",
        "### **2.1 [2 points] PREPROCESS THE DATASET**\n",
        "<br />    \n",
        "\n",
        "**2.1.1** - Read in the dataset `imdb.csv`. Create a new dataframe by splitting each review into individual sentences. The sentences can be delimited by different characters such as period and question mark (eroteme). Call this column as `text` in the new dataframe.\n",
        "</div>"
      ]
    },
    {
      "cell_type": "code",
      "execution_count": 31,
      "metadata": {
        "colab": {
          "base_uri": "https://localhost:8080/",
          "height": 206
        },
        "id": "B1HuszSR0_C7",
        "outputId": "ecf7f09b-eb3a-478c-f1a3-44fe1ec3a16f"
      },
      "outputs": [
        {
          "output_type": "execute_result",
          "data": {
            "text/plain": [
              "                                                text  polarity\n",
              "0  first think another Disney movie, might good, ...         1\n",
              "1  Put aside Dr. House repeat missed, Desperate H...         0\n",
              "2  big fan Stephen King's work, film made even gr...         1\n",
              "3  watched horrid thing TV. Needless say one movi...         0\n",
              "4  truly enjoyed film. acting terrific plot. Jeff...         1"
            ],
            "text/html": [
              "\n",
              "  <div id=\"df-a20d69df-e9d5-4c57-af6e-7294f3081537\">\n",
              "    <div class=\"colab-df-container\">\n",
              "      <div>\n",
              "<style scoped>\n",
              "    .dataframe tbody tr th:only-of-type {\n",
              "        vertical-align: middle;\n",
              "    }\n",
              "\n",
              "    .dataframe tbody tr th {\n",
              "        vertical-align: top;\n",
              "    }\n",
              "\n",
              "    .dataframe thead th {\n",
              "        text-align: right;\n",
              "    }\n",
              "</style>\n",
              "<table border=\"1\" class=\"dataframe\">\n",
              "  <thead>\n",
              "    <tr style=\"text-align: right;\">\n",
              "      <th></th>\n",
              "      <th>text</th>\n",
              "      <th>polarity</th>\n",
              "    </tr>\n",
              "  </thead>\n",
              "  <tbody>\n",
              "    <tr>\n",
              "      <th>0</th>\n",
              "      <td>first think another Disney movie, might good, ...</td>\n",
              "      <td>1</td>\n",
              "    </tr>\n",
              "    <tr>\n",
              "      <th>1</th>\n",
              "      <td>Put aside Dr. House repeat missed, Desperate H...</td>\n",
              "      <td>0</td>\n",
              "    </tr>\n",
              "    <tr>\n",
              "      <th>2</th>\n",
              "      <td>big fan Stephen King's work, film made even gr...</td>\n",
              "      <td>1</td>\n",
              "    </tr>\n",
              "    <tr>\n",
              "      <th>3</th>\n",
              "      <td>watched horrid thing TV. Needless say one movi...</td>\n",
              "      <td>0</td>\n",
              "    </tr>\n",
              "    <tr>\n",
              "      <th>4</th>\n",
              "      <td>truly enjoyed film. acting terrific plot. Jeff...</td>\n",
              "      <td>1</td>\n",
              "    </tr>\n",
              "  </tbody>\n",
              "</table>\n",
              "</div>\n",
              "      <button class=\"colab-df-convert\" onclick=\"convertToInteractive('df-a20d69df-e9d5-4c57-af6e-7294f3081537')\"\n",
              "              title=\"Convert this dataframe to an interactive table.\"\n",
              "              style=\"display:none;\">\n",
              "        \n",
              "  <svg xmlns=\"http://www.w3.org/2000/svg\" height=\"24px\"viewBox=\"0 0 24 24\"\n",
              "       width=\"24px\">\n",
              "    <path d=\"M0 0h24v24H0V0z\" fill=\"none\"/>\n",
              "    <path d=\"M18.56 5.44l.94 2.06.94-2.06 2.06-.94-2.06-.94-.94-2.06-.94 2.06-2.06.94zm-11 1L8.5 8.5l.94-2.06 2.06-.94-2.06-.94L8.5 2.5l-.94 2.06-2.06.94zm10 10l.94 2.06.94-2.06 2.06-.94-2.06-.94-.94-2.06-.94 2.06-2.06.94z\"/><path d=\"M17.41 7.96l-1.37-1.37c-.4-.4-.92-.59-1.43-.59-.52 0-1.04.2-1.43.59L10.3 9.45l-7.72 7.72c-.78.78-.78 2.05 0 2.83L4 21.41c.39.39.9.59 1.41.59.51 0 1.02-.2 1.41-.59l7.78-7.78 2.81-2.81c.8-.78.8-2.07 0-2.86zM5.41 20L4 18.59l7.72-7.72 1.47 1.35L5.41 20z\"/>\n",
              "  </svg>\n",
              "      </button>\n",
              "      \n",
              "  <style>\n",
              "    .colab-df-container {\n",
              "      display:flex;\n",
              "      flex-wrap:wrap;\n",
              "      gap: 12px;\n",
              "    }\n",
              "\n",
              "    .colab-df-convert {\n",
              "      background-color: #E8F0FE;\n",
              "      border: none;\n",
              "      border-radius: 50%;\n",
              "      cursor: pointer;\n",
              "      display: none;\n",
              "      fill: #1967D2;\n",
              "      height: 32px;\n",
              "      padding: 0 0 0 0;\n",
              "      width: 32px;\n",
              "    }\n",
              "\n",
              "    .colab-df-convert:hover {\n",
              "      background-color: #E2EBFA;\n",
              "      box-shadow: 0px 1px 2px rgba(60, 64, 67, 0.3), 0px 1px 3px 1px rgba(60, 64, 67, 0.15);\n",
              "      fill: #174EA6;\n",
              "    }\n",
              "\n",
              "    [theme=dark] .colab-df-convert {\n",
              "      background-color: #3B4455;\n",
              "      fill: #D2E3FC;\n",
              "    }\n",
              "\n",
              "    [theme=dark] .colab-df-convert:hover {\n",
              "      background-color: #434B5C;\n",
              "      box-shadow: 0px 1px 3px 1px rgba(0, 0, 0, 0.15);\n",
              "      filter: drop-shadow(0px 1px 2px rgba(0, 0, 0, 0.3));\n",
              "      fill: #FFFFFF;\n",
              "    }\n",
              "  </style>\n",
              "\n",
              "      <script>\n",
              "        const buttonEl =\n",
              "          document.querySelector('#df-a20d69df-e9d5-4c57-af6e-7294f3081537 button.colab-df-convert');\n",
              "        buttonEl.style.display =\n",
              "          google.colab.kernel.accessAllowed ? 'block' : 'none';\n",
              "\n",
              "        async function convertToInteractive(key) {\n",
              "          const element = document.querySelector('#df-a20d69df-e9d5-4c57-af6e-7294f3081537');\n",
              "          const dataTable =\n",
              "            await google.colab.kernel.invokeFunction('convertToInteractive',\n",
              "                                                     [key], {});\n",
              "          if (!dataTable) return;\n",
              "\n",
              "          const docLinkHtml = 'Like what you see? Visit the ' +\n",
              "            '<a target=\"_blank\" href=https://colab.research.google.com/notebooks/data_table.ipynb>data table notebook</a>'\n",
              "            + ' to learn more about interactive tables.';\n",
              "          element.innerHTML = '';\n",
              "          dataTable['output_type'] = 'display_data';\n",
              "          await google.colab.output.renderOutput(dataTable, element);\n",
              "          const docLink = document.createElement('div');\n",
              "          docLink.innerHTML = docLinkHtml;\n",
              "          element.appendChild(docLink);\n",
              "        }\n",
              "      </script>\n",
              "    </div>\n",
              "  </div>\n",
              "  "
            ]
          },
          "metadata": {},
          "execution_count": 31
        }
      ],
      "source": [
        "# Read the data\n",
        "file_path = \"https://drive.google.com/uc?id=1QDSIaV4iERVgc3b0xkW0u7EuTyQ8vncm&export=download\"\n",
        "data = pd.read_csv(file_path, encoding='latin1')\n",
        "data.head()"
      ]
    },
    {
      "cell_type": "code",
      "source": [
        "print(f'The shape of the data is {data.shape}')"
      ],
      "metadata": {
        "colab": {
          "base_uri": "https://localhost:8080/"
        },
        "id": "cZGeJpXoXa8V",
        "outputId": "9cb9ae1d-8adb-404a-91eb-560280be3d4a"
      },
      "execution_count": 32,
      "outputs": [
        {
          "output_type": "stream",
          "name": "stdout",
          "text": [
            "The shape of the data is (10000, 2)\n"
          ]
        }
      ]
    },
    {
      "cell_type": "code",
      "execution_count": 33,
      "metadata": {
        "id": "1eLvtBYfHXkg"
      },
      "outputs": [],
      "source": [
        "# Your code here\n",
        "from nltk import tokenize \n",
        "\n"
      ]
    },
    {
      "cell_type": "code",
      "execution_count": 34,
      "metadata": {
        "id": "YmoK7BOB7EtN"
      },
      "outputs": [],
      "source": [
        "df_series = data['text'].apply(lambda x : sent_tokenize(x)) # this converts each reviews into list of sentences"
      ]
    },
    {
      "cell_type": "code",
      "execution_count": 35,
      "metadata": {
        "colab": {
          "base_uri": "https://localhost:8080/"
        },
        "id": "cFtvxAtb7mbB",
        "outputId": "270cf633-922e-46c1-9789-a5ae1bd44729"
      },
      "outputs": [
        {
          "output_type": "execute_result",
          "data": {
            "text/plain": [
              "0    [first think another Disney movie, might good,...\n",
              "1    [Put aside Dr. House repeat missed, Desperate ...\n",
              "2    [big fan Stephen King's work, film made even g...\n",
              "3    [watched horrid thing TV., Needless say one mo...\n",
              "4    [truly enjoyed film., acting terrific plot., J...\n",
              "Name: text, dtype: object"
            ]
          },
          "metadata": {},
          "execution_count": 35
        }
      ],
      "source": [
        "df_series.head()"
      ]
    },
    {
      "cell_type": "code",
      "execution_count": 36,
      "metadata": {
        "id": "unaxKUiP8waM"
      },
      "outputs": [],
      "source": [
        "# sentence_list will store each of the sentences\n",
        "sentence_list = []\n",
        "for review_list in df_series:\n",
        "    for sentence in review_list:\n",
        "        sentence_list.append(sentence)\n",
        "\n"
      ]
    },
    {
      "cell_type": "code",
      "execution_count": 37,
      "metadata": {
        "colab": {
          "base_uri": "https://localhost:8080/",
          "height": 206
        },
        "id": "GKlMdn8r9ggy",
        "outputId": "91a58cae-1e24-4662-f37e-0fa82deb4f0c"
      },
      "outputs": [
        {
          "output_type": "execute_result",
          "data": {
            "text/plain": [
              "                                                text\n",
              "0  first think another Disney movie, might good, ...\n",
              "1                     watch it, can't help enjoy it.\n",
              "2                                   ages love movie.\n",
              "3    first saw movie 10 8 years later still love it!\n",
              "4        Danny Glover superb could play part better."
            ],
            "text/html": [
              "\n",
              "  <div id=\"df-f5072e27-273b-4a08-979b-3c2369f92f5d\">\n",
              "    <div class=\"colab-df-container\">\n",
              "      <div>\n",
              "<style scoped>\n",
              "    .dataframe tbody tr th:only-of-type {\n",
              "        vertical-align: middle;\n",
              "    }\n",
              "\n",
              "    .dataframe tbody tr th {\n",
              "        vertical-align: top;\n",
              "    }\n",
              "\n",
              "    .dataframe thead th {\n",
              "        text-align: right;\n",
              "    }\n",
              "</style>\n",
              "<table border=\"1\" class=\"dataframe\">\n",
              "  <thead>\n",
              "    <tr style=\"text-align: right;\">\n",
              "      <th></th>\n",
              "      <th>text</th>\n",
              "    </tr>\n",
              "  </thead>\n",
              "  <tbody>\n",
              "    <tr>\n",
              "      <th>0</th>\n",
              "      <td>first think another Disney movie, might good, ...</td>\n",
              "    </tr>\n",
              "    <tr>\n",
              "      <th>1</th>\n",
              "      <td>watch it, can't help enjoy it.</td>\n",
              "    </tr>\n",
              "    <tr>\n",
              "      <th>2</th>\n",
              "      <td>ages love movie.</td>\n",
              "    </tr>\n",
              "    <tr>\n",
              "      <th>3</th>\n",
              "      <td>first saw movie 10 8 years later still love it!</td>\n",
              "    </tr>\n",
              "    <tr>\n",
              "      <th>4</th>\n",
              "      <td>Danny Glover superb could play part better.</td>\n",
              "    </tr>\n",
              "  </tbody>\n",
              "</table>\n",
              "</div>\n",
              "      <button class=\"colab-df-convert\" onclick=\"convertToInteractive('df-f5072e27-273b-4a08-979b-3c2369f92f5d')\"\n",
              "              title=\"Convert this dataframe to an interactive table.\"\n",
              "              style=\"display:none;\">\n",
              "        \n",
              "  <svg xmlns=\"http://www.w3.org/2000/svg\" height=\"24px\"viewBox=\"0 0 24 24\"\n",
              "       width=\"24px\">\n",
              "    <path d=\"M0 0h24v24H0V0z\" fill=\"none\"/>\n",
              "    <path d=\"M18.56 5.44l.94 2.06.94-2.06 2.06-.94-2.06-.94-.94-2.06-.94 2.06-2.06.94zm-11 1L8.5 8.5l.94-2.06 2.06-.94-2.06-.94L8.5 2.5l-.94 2.06-2.06.94zm10 10l.94 2.06.94-2.06 2.06-.94-2.06-.94-.94-2.06-.94 2.06-2.06.94z\"/><path d=\"M17.41 7.96l-1.37-1.37c-.4-.4-.92-.59-1.43-.59-.52 0-1.04.2-1.43.59L10.3 9.45l-7.72 7.72c-.78.78-.78 2.05 0 2.83L4 21.41c.39.39.9.59 1.41.59.51 0 1.02-.2 1.41-.59l7.78-7.78 2.81-2.81c.8-.78.8-2.07 0-2.86zM5.41 20L4 18.59l7.72-7.72 1.47 1.35L5.41 20z\"/>\n",
              "  </svg>\n",
              "      </button>\n",
              "      \n",
              "  <style>\n",
              "    .colab-df-container {\n",
              "      display:flex;\n",
              "      flex-wrap:wrap;\n",
              "      gap: 12px;\n",
              "    }\n",
              "\n",
              "    .colab-df-convert {\n",
              "      background-color: #E8F0FE;\n",
              "      border: none;\n",
              "      border-radius: 50%;\n",
              "      cursor: pointer;\n",
              "      display: none;\n",
              "      fill: #1967D2;\n",
              "      height: 32px;\n",
              "      padding: 0 0 0 0;\n",
              "      width: 32px;\n",
              "    }\n",
              "\n",
              "    .colab-df-convert:hover {\n",
              "      background-color: #E2EBFA;\n",
              "      box-shadow: 0px 1px 2px rgba(60, 64, 67, 0.3), 0px 1px 3px 1px rgba(60, 64, 67, 0.15);\n",
              "      fill: #174EA6;\n",
              "    }\n",
              "\n",
              "    [theme=dark] .colab-df-convert {\n",
              "      background-color: #3B4455;\n",
              "      fill: #D2E3FC;\n",
              "    }\n",
              "\n",
              "    [theme=dark] .colab-df-convert:hover {\n",
              "      background-color: #434B5C;\n",
              "      box-shadow: 0px 1px 3px 1px rgba(0, 0, 0, 0.15);\n",
              "      filter: drop-shadow(0px 1px 2px rgba(0, 0, 0, 0.3));\n",
              "      fill: #FFFFFF;\n",
              "    }\n",
              "  </style>\n",
              "\n",
              "      <script>\n",
              "        const buttonEl =\n",
              "          document.querySelector('#df-f5072e27-273b-4a08-979b-3c2369f92f5d button.colab-df-convert');\n",
              "        buttonEl.style.display =\n",
              "          google.colab.kernel.accessAllowed ? 'block' : 'none';\n",
              "\n",
              "        async function convertToInteractive(key) {\n",
              "          const element = document.querySelector('#df-f5072e27-273b-4a08-979b-3c2369f92f5d');\n",
              "          const dataTable =\n",
              "            await google.colab.kernel.invokeFunction('convertToInteractive',\n",
              "                                                     [key], {});\n",
              "          if (!dataTable) return;\n",
              "\n",
              "          const docLinkHtml = 'Like what you see? Visit the ' +\n",
              "            '<a target=\"_blank\" href=https://colab.research.google.com/notebooks/data_table.ipynb>data table notebook</a>'\n",
              "            + ' to learn more about interactive tables.';\n",
              "          element.innerHTML = '';\n",
              "          dataTable['output_type'] = 'display_data';\n",
              "          await google.colab.output.renderOutput(dataTable, element);\n",
              "          const docLink = document.createElement('div');\n",
              "          docLink.innerHTML = docLinkHtml;\n",
              "          element.appendChild(docLink);\n",
              "        }\n",
              "      </script>\n",
              "    </div>\n",
              "  </div>\n",
              "  "
            ]
          },
          "metadata": {},
          "execution_count": 37
        }
      ],
      "source": [
        "df = pd.DataFrame(data=sentence_list, columns=['text'])\n",
        "df.head()"
      ]
    },
    {
      "cell_type": "markdown",
      "metadata": {
        "id": "YvCroMOhHXkg"
      },
      "source": [
        "<div class=\"alert alert-block alert-danger\" style=\"color:black;background-color:#E7F4FA\">\n",
        "\n",
        "**2.1.2** - Define a function `clean_data` that takes the new dataframe as input and removes all html tags and non-alphabetic characters from the dataframe. Additionally, convert all characters to lower case. Remove all the sentences where the number of words is less than 10 and higher than 30. Finally, add the start token `<s>` and the end token `</s>` to every sentence (row) in the dataframe. Return the processed the dataframe. \n",
        "    \n",
        "</div>"
      ]
    },
    {
      "cell_type": "code",
      "execution_count": 38,
      "metadata": {
        "id": "8Q14FLh9HXkg"
      },
      "outputs": [],
      "source": [
        "# Your code here\n",
        "\n",
        "def clean_data(df):\n",
        "    df['text'] = df['text'].apply(lambda x : x.lower())\n",
        "    \n",
        "    # Remove HTML\n",
        "    df['text'] = df['text'].apply(lambda x: re.sub('<br /><br />', ' ', x))\n",
        "    \n",
        "    # Replace all none alphanumeric characters with spaces\n",
        "    df['text'] = df['text'].apply(lambda x : re.sub(r'[^a-zA-Z0\\s]', '', x))\n",
        "\n",
        "    # getting rows based on number of words present\n",
        "    df['count_of_words'] = df['text'].apply(lambda x : len(x.split()))\n",
        "    df                   = df[(df['count_of_words'] >= 10) & (df['count_of_words'] <= 30)]\n",
        "\n",
        "    # adding start and end token\n",
        "    df['text']           = df['text'].apply(lambda x: '<s> '+x+' </s>')\n",
        "    \n",
        "    del df['count_of_words']\n",
        "\n",
        "    return df\n",
        "\n"
      ]
    },
    {
      "cell_type": "code",
      "execution_count": 39,
      "metadata": {
        "colab": {
          "base_uri": "https://localhost:8080/",
          "height": 315
        },
        "id": "xyIKxejwG-Q3",
        "outputId": "8fd3b8de-b43d-4626-8c7a-e3e1de585011"
      },
      "outputs": [
        {
          "output_type": "stream",
          "name": "stderr",
          "text": [
            "/usr/local/lib/python3.7/dist-packages/ipykernel_launcher.py:17: SettingWithCopyWarning: \n",
            "A value is trying to be set on a copy of a slice from a DataFrame.\n",
            "Try using .loc[row_indexer,col_indexer] = value instead\n",
            "\n",
            "See the caveats in the documentation: https://pandas.pydata.org/pandas-docs/stable/user_guide/indexing.html#returning-a-view-versus-a-copy\n"
          ]
        },
        {
          "output_type": "execute_result",
          "data": {
            "text/plain": [
              "                                                 text\n",
              "0   <s> first think another disney movie might goo...\n",
              "9   <s> put aside dr house repeat missed desperate...\n",
              "11  <s> never thought id say this want  minutes fa...\n",
              "12  <s> recognized stable actors the usual suspect...\n",
              "14  <s> dullsville my favorite parts office girl m..."
            ],
            "text/html": [
              "\n",
              "  <div id=\"df-06308ed8-1279-41b0-9041-22d944d82a30\">\n",
              "    <div class=\"colab-df-container\">\n",
              "      <div>\n",
              "<style scoped>\n",
              "    .dataframe tbody tr th:only-of-type {\n",
              "        vertical-align: middle;\n",
              "    }\n",
              "\n",
              "    .dataframe tbody tr th {\n",
              "        vertical-align: top;\n",
              "    }\n",
              "\n",
              "    .dataframe thead th {\n",
              "        text-align: right;\n",
              "    }\n",
              "</style>\n",
              "<table border=\"1\" class=\"dataframe\">\n",
              "  <thead>\n",
              "    <tr style=\"text-align: right;\">\n",
              "      <th></th>\n",
              "      <th>text</th>\n",
              "    </tr>\n",
              "  </thead>\n",
              "  <tbody>\n",
              "    <tr>\n",
              "      <th>0</th>\n",
              "      <td>&lt;s&gt; first think another disney movie might goo...</td>\n",
              "    </tr>\n",
              "    <tr>\n",
              "      <th>9</th>\n",
              "      <td>&lt;s&gt; put aside dr house repeat missed desperate...</td>\n",
              "    </tr>\n",
              "    <tr>\n",
              "      <th>11</th>\n",
              "      <td>&lt;s&gt; never thought id say this want  minutes fa...</td>\n",
              "    </tr>\n",
              "    <tr>\n",
              "      <th>12</th>\n",
              "      <td>&lt;s&gt; recognized stable actors the usual suspect...</td>\n",
              "    </tr>\n",
              "    <tr>\n",
              "      <th>14</th>\n",
              "      <td>&lt;s&gt; dullsville my favorite parts office girl m...</td>\n",
              "    </tr>\n",
              "  </tbody>\n",
              "</table>\n",
              "</div>\n",
              "      <button class=\"colab-df-convert\" onclick=\"convertToInteractive('df-06308ed8-1279-41b0-9041-22d944d82a30')\"\n",
              "              title=\"Convert this dataframe to an interactive table.\"\n",
              "              style=\"display:none;\">\n",
              "        \n",
              "  <svg xmlns=\"http://www.w3.org/2000/svg\" height=\"24px\"viewBox=\"0 0 24 24\"\n",
              "       width=\"24px\">\n",
              "    <path d=\"M0 0h24v24H0V0z\" fill=\"none\"/>\n",
              "    <path d=\"M18.56 5.44l.94 2.06.94-2.06 2.06-.94-2.06-.94-.94-2.06-.94 2.06-2.06.94zm-11 1L8.5 8.5l.94-2.06 2.06-.94-2.06-.94L8.5 2.5l-.94 2.06-2.06.94zm10 10l.94 2.06.94-2.06 2.06-.94-2.06-.94-.94-2.06-.94 2.06-2.06.94z\"/><path d=\"M17.41 7.96l-1.37-1.37c-.4-.4-.92-.59-1.43-.59-.52 0-1.04.2-1.43.59L10.3 9.45l-7.72 7.72c-.78.78-.78 2.05 0 2.83L4 21.41c.39.39.9.59 1.41.59.51 0 1.02-.2 1.41-.59l7.78-7.78 2.81-2.81c.8-.78.8-2.07 0-2.86zM5.41 20L4 18.59l7.72-7.72 1.47 1.35L5.41 20z\"/>\n",
              "  </svg>\n",
              "      </button>\n",
              "      \n",
              "  <style>\n",
              "    .colab-df-container {\n",
              "      display:flex;\n",
              "      flex-wrap:wrap;\n",
              "      gap: 12px;\n",
              "    }\n",
              "\n",
              "    .colab-df-convert {\n",
              "      background-color: #E8F0FE;\n",
              "      border: none;\n",
              "      border-radius: 50%;\n",
              "      cursor: pointer;\n",
              "      display: none;\n",
              "      fill: #1967D2;\n",
              "      height: 32px;\n",
              "      padding: 0 0 0 0;\n",
              "      width: 32px;\n",
              "    }\n",
              "\n",
              "    .colab-df-convert:hover {\n",
              "      background-color: #E2EBFA;\n",
              "      box-shadow: 0px 1px 2px rgba(60, 64, 67, 0.3), 0px 1px 3px 1px rgba(60, 64, 67, 0.15);\n",
              "      fill: #174EA6;\n",
              "    }\n",
              "\n",
              "    [theme=dark] .colab-df-convert {\n",
              "      background-color: #3B4455;\n",
              "      fill: #D2E3FC;\n",
              "    }\n",
              "\n",
              "    [theme=dark] .colab-df-convert:hover {\n",
              "      background-color: #434B5C;\n",
              "      box-shadow: 0px 1px 3px 1px rgba(0, 0, 0, 0.15);\n",
              "      filter: drop-shadow(0px 1px 2px rgba(0, 0, 0, 0.3));\n",
              "      fill: #FFFFFF;\n",
              "    }\n",
              "  </style>\n",
              "\n",
              "      <script>\n",
              "        const buttonEl =\n",
              "          document.querySelector('#df-06308ed8-1279-41b0-9041-22d944d82a30 button.colab-df-convert');\n",
              "        buttonEl.style.display =\n",
              "          google.colab.kernel.accessAllowed ? 'block' : 'none';\n",
              "\n",
              "        async function convertToInteractive(key) {\n",
              "          const element = document.querySelector('#df-06308ed8-1279-41b0-9041-22d944d82a30');\n",
              "          const dataTable =\n",
              "            await google.colab.kernel.invokeFunction('convertToInteractive',\n",
              "                                                     [key], {});\n",
              "          if (!dataTable) return;\n",
              "\n",
              "          const docLinkHtml = 'Like what you see? Visit the ' +\n",
              "            '<a target=\"_blank\" href=https://colab.research.google.com/notebooks/data_table.ipynb>data table notebook</a>'\n",
              "            + ' to learn more about interactive tables.';\n",
              "          element.innerHTML = '';\n",
              "          dataTable['output_type'] = 'display_data';\n",
              "          await google.colab.output.renderOutput(dataTable, element);\n",
              "          const docLink = document.createElement('div');\n",
              "          docLink.innerHTML = docLinkHtml;\n",
              "          element.appendChild(docLink);\n",
              "        }\n",
              "      </script>\n",
              "    </div>\n",
              "  </div>\n",
              "  "
            ]
          },
          "metadata": {},
          "execution_count": 39
        }
      ],
      "source": [
        "df = clean_data(df)\n",
        "df.head()"
      ]
    },
    {
      "cell_type": "code",
      "source": [
        "# finding the most frequent words\n",
        "dic= {}\n",
        "for i in range(df.shape[0]):\n",
        "\n",
        "  for word in df.iloc[i]['text'].split():\n",
        "    try:\n",
        "      dic[word] = dic[word]+1\n",
        "\n",
        "    except:\n",
        "       dic[word] =1 \n",
        "\n"
      ],
      "metadata": {
        "id": "aI6wHmcX5wIh"
      },
      "execution_count": 40,
      "outputs": []
    },
    {
      "cell_type": "code",
      "source": [
        "# answer for the quiz question\n",
        "print(f'frequency of the: {dic[\"the\"]}')\n",
        "print(f'frequency of chime: {dic[\"chime\"]}')\n",
        "print(f'frequency of film: {dic[\"film\"]}')\n",
        "print(f'frequency of swim: {dic[\"swim\"]}')"
      ],
      "metadata": {
        "colab": {
          "base_uri": "https://localhost:8080/"
        },
        "id": "Rhe2t8ZR698B",
        "outputId": "c6c2e0b1-c426-4b8b-9b01-f27b0dbd0a61"
      },
      "execution_count": 24,
      "outputs": [
        {
          "output_type": "stream",
          "name": "stdout",
          "text": [
            "frequency of the: 3199\n",
            "frequency of chime: 1\n",
            "frequency of film: 9334\n",
            "frequency of swim: 19\n"
          ]
        }
      ]
    },
    {
      "cell_type": "markdown",
      "metadata": {
        "id": "VRMMXqdMHXkh"
      },
      "source": [
        "<div class=\"alert alert-block alert-danger\" style=\"color:black;background-color:#E7F4FA\">\n",
        "    \n",
        "### **2.2 [2 points] TOKENIZE THE DATASET**\n",
        "    \n",
        "<br />\n",
        "\n",
        "**2.2.1** - Instantiate a Tokenizer for the dataset using `tensorflow.keras.preprocessing.text.Tokenizer` with a vocabulary size of 5000.Do **not** use an additional token for unknown, out of vocabulary words (oov). That is, you will **not** have the equivalent of the `<UNK>` token.\n",
        "\n",
        "*Hint:* Remove all filters from the function as we have already perfomed data cleaning. Set the value of filter to be `''`.\n",
        "</div>"
      ]
    },
    {
      "cell_type": "code",
      "execution_count": 41,
      "metadata": {
        "id": "zxRYzZAlHXkh"
      },
      "outputs": [],
      "source": [
        "# Your code here\n",
        "vocab_size = 5000 \n",
        "tokenizer_tf = tf.keras.preprocessing.text.Tokenizer(\n",
        "    num_words=vocab_size,\n",
        "    filters='',\n",
        "    lower=True,\n",
        "    split=' ',\n",
        "    char_level=False,\n",
        "    oov_token=None,\n",
        ")\n",
        "\n",
        "# QUESTION TO ASK : when we apply tokenizer with no filters, does it mean it gives a seperate token for the expressions. Also where do we provide \n",
        "# token for unknown words"
      ]
    },
    {
      "cell_type": "markdown",
      "metadata": {
        "id": "3FoDsoziHXkh"
      },
      "source": [
        "<div class=\"alert alert-block alert-danger\" style=\"color:black;background-color:#E7F4FA\">\n",
        "\n",
        "**2.2.2** - Fit the tokenizer on the dataset and get the sequence representation of each sentence.\n",
        "    \n",
        "</div>"
      ]
    },
    {
      "cell_type": "code",
      "execution_count": 42,
      "metadata": {
        "colab": {
          "base_uri": "https://localhost:8080/",
          "height": 206
        },
        "id": "NfcKfHC8HXkh",
        "outputId": "6ef1deb1-3a14-4f53-bdec-4d3bb3319343"
      },
      "outputs": [
        {
          "output_type": "execute_result",
          "data": {
            "text/plain": [
              "                                                 text  \\\n",
              "0   <s> first think another disney movie might goo...   \n",
              "9   <s> put aside dr house repeat missed desperate...   \n",
              "11  <s> never thought id say this want  minutes fa...   \n",
              "12  <s> recognized stable actors the usual suspect...   \n",
              "14  <s> dullsville my favorite parts office girl m...   \n",
              "\n",
              "                                    sentence_as_token  \n",
              "0       [1, 22, 32, 68, 825, 4, 122, 8, 7, 279, 4, 2]  \n",
              "9   [1, 178, 999, 836, 208, 3126, 1006, 1630, 63, ...  \n",
              "11  [1, 40, 118, 361, 61, 53, 96, 142, 1863, 59, 1...  \n",
              "12  [1, 3870, 73, 9, 574, 2323, 118, 737, 1405, 18...  \n",
              "14  [1, 833, 497, 416, 945, 153, 65, 41, 1242, 396...  "
            ],
            "text/html": [
              "\n",
              "  <div id=\"df-34d8ee08-c1d9-44e5-aada-019d63aa373f\">\n",
              "    <div class=\"colab-df-container\">\n",
              "      <div>\n",
              "<style scoped>\n",
              "    .dataframe tbody tr th:only-of-type {\n",
              "        vertical-align: middle;\n",
              "    }\n",
              "\n",
              "    .dataframe tbody tr th {\n",
              "        vertical-align: top;\n",
              "    }\n",
              "\n",
              "    .dataframe thead th {\n",
              "        text-align: right;\n",
              "    }\n",
              "</style>\n",
              "<table border=\"1\" class=\"dataframe\">\n",
              "  <thead>\n",
              "    <tr style=\"text-align: right;\">\n",
              "      <th></th>\n",
              "      <th>text</th>\n",
              "      <th>sentence_as_token</th>\n",
              "    </tr>\n",
              "  </thead>\n",
              "  <tbody>\n",
              "    <tr>\n",
              "      <th>0</th>\n",
              "      <td>&lt;s&gt; first think another disney movie might goo...</td>\n",
              "      <td>[1, 22, 32, 68, 825, 4, 122, 8, 7, 279, 4, 2]</td>\n",
              "    </tr>\n",
              "    <tr>\n",
              "      <th>9</th>\n",
              "      <td>&lt;s&gt; put aside dr house repeat missed desperate...</td>\n",
              "      <td>[1, 178, 999, 836, 208, 3126, 1006, 1630, 63, ...</td>\n",
              "    </tr>\n",
              "    <tr>\n",
              "      <th>11</th>\n",
              "      <td>&lt;s&gt; never thought id say this want  minutes fa...</td>\n",
              "      <td>[1, 40, 118, 361, 61, 53, 96, 142, 1863, 59, 1...</td>\n",
              "    </tr>\n",
              "    <tr>\n",
              "      <th>12</th>\n",
              "      <td>&lt;s&gt; recognized stable actors the usual suspect...</td>\n",
              "      <td>[1, 3870, 73, 9, 574, 2323, 118, 737, 1405, 18...</td>\n",
              "    </tr>\n",
              "    <tr>\n",
              "      <th>14</th>\n",
              "      <td>&lt;s&gt; dullsville my favorite parts office girl m...</td>\n",
              "      <td>[1, 833, 497, 416, 945, 153, 65, 41, 1242, 396...</td>\n",
              "    </tr>\n",
              "  </tbody>\n",
              "</table>\n",
              "</div>\n",
              "      <button class=\"colab-df-convert\" onclick=\"convertToInteractive('df-34d8ee08-c1d9-44e5-aada-019d63aa373f')\"\n",
              "              title=\"Convert this dataframe to an interactive table.\"\n",
              "              style=\"display:none;\">\n",
              "        \n",
              "  <svg xmlns=\"http://www.w3.org/2000/svg\" height=\"24px\"viewBox=\"0 0 24 24\"\n",
              "       width=\"24px\">\n",
              "    <path d=\"M0 0h24v24H0V0z\" fill=\"none\"/>\n",
              "    <path d=\"M18.56 5.44l.94 2.06.94-2.06 2.06-.94-2.06-.94-.94-2.06-.94 2.06-2.06.94zm-11 1L8.5 8.5l.94-2.06 2.06-.94-2.06-.94L8.5 2.5l-.94 2.06-2.06.94zm10 10l.94 2.06.94-2.06 2.06-.94-2.06-.94-.94-2.06-.94 2.06-2.06.94z\"/><path d=\"M17.41 7.96l-1.37-1.37c-.4-.4-.92-.59-1.43-.59-.52 0-1.04.2-1.43.59L10.3 9.45l-7.72 7.72c-.78.78-.78 2.05 0 2.83L4 21.41c.39.39.9.59 1.41.59.51 0 1.02-.2 1.41-.59l7.78-7.78 2.81-2.81c.8-.78.8-2.07 0-2.86zM5.41 20L4 18.59l7.72-7.72 1.47 1.35L5.41 20z\"/>\n",
              "  </svg>\n",
              "      </button>\n",
              "      \n",
              "  <style>\n",
              "    .colab-df-container {\n",
              "      display:flex;\n",
              "      flex-wrap:wrap;\n",
              "      gap: 12px;\n",
              "    }\n",
              "\n",
              "    .colab-df-convert {\n",
              "      background-color: #E8F0FE;\n",
              "      border: none;\n",
              "      border-radius: 50%;\n",
              "      cursor: pointer;\n",
              "      display: none;\n",
              "      fill: #1967D2;\n",
              "      height: 32px;\n",
              "      padding: 0 0 0 0;\n",
              "      width: 32px;\n",
              "    }\n",
              "\n",
              "    .colab-df-convert:hover {\n",
              "      background-color: #E2EBFA;\n",
              "      box-shadow: 0px 1px 2px rgba(60, 64, 67, 0.3), 0px 1px 3px 1px rgba(60, 64, 67, 0.15);\n",
              "      fill: #174EA6;\n",
              "    }\n",
              "\n",
              "    [theme=dark] .colab-df-convert {\n",
              "      background-color: #3B4455;\n",
              "      fill: #D2E3FC;\n",
              "    }\n",
              "\n",
              "    [theme=dark] .colab-df-convert:hover {\n",
              "      background-color: #434B5C;\n",
              "      box-shadow: 0px 1px 3px 1px rgba(0, 0, 0, 0.15);\n",
              "      filter: drop-shadow(0px 1px 2px rgba(0, 0, 0, 0.3));\n",
              "      fill: #FFFFFF;\n",
              "    }\n",
              "  </style>\n",
              "\n",
              "      <script>\n",
              "        const buttonEl =\n",
              "          document.querySelector('#df-34d8ee08-c1d9-44e5-aada-019d63aa373f button.colab-df-convert');\n",
              "        buttonEl.style.display =\n",
              "          google.colab.kernel.accessAllowed ? 'block' : 'none';\n",
              "\n",
              "        async function convertToInteractive(key) {\n",
              "          const element = document.querySelector('#df-34d8ee08-c1d9-44e5-aada-019d63aa373f');\n",
              "          const dataTable =\n",
              "            await google.colab.kernel.invokeFunction('convertToInteractive',\n",
              "                                                     [key], {});\n",
              "          if (!dataTable) return;\n",
              "\n",
              "          const docLinkHtml = 'Like what you see? Visit the ' +\n",
              "            '<a target=\"_blank\" href=https://colab.research.google.com/notebooks/data_table.ipynb>data table notebook</a>'\n",
              "            + ' to learn more about interactive tables.';\n",
              "          element.innerHTML = '';\n",
              "          dataTable['output_type'] = 'display_data';\n",
              "          await google.colab.output.renderOutput(dataTable, element);\n",
              "          const docLink = document.createElement('div');\n",
              "          docLink.innerHTML = docLinkHtml;\n",
              "          element.appendChild(docLink);\n",
              "        }\n",
              "      </script>\n",
              "    </div>\n",
              "  </div>\n",
              "  "
            ]
          },
          "metadata": {},
          "execution_count": 42
        }
      ],
      "source": [
        "# Your code here\n",
        "tokenizer_tf.fit_on_texts(df['text'])\n",
        "\n",
        "df['sentence_as_token'] = tokenizer_tf.texts_to_sequences(df['text'])\n",
        "df.head()"
      ]
    },
    {
      "cell_type": "code",
      "execution_count": null,
      "metadata": {
        "id": "d9VpgS8xpH8M"
      },
      "outputs": [],
      "source": [
        "# vocab_size = len(tokenizer_tf.word_index) + 1 # tokenizer_tf.word_index is a dictionary maping words to token, +1 is for reverse padding, index0"
      ]
    },
    {
      "cell_type": "markdown",
      "metadata": {
        "id": "mnaKCmlZHXkh"
      },
      "source": [
        "<div class=\"alert alert-block alert-danger\" style=\"color:black;background-color:#E7F4FA\">\n",
        "    \n",
        "### **2.3 [10 points] MODELLING THE DATA**\n",
        "    \n",
        "**2.3.1** - The first step is to split the dataset into the predictors ($X$) and the response ($Y$). The predictors for each observation (sentence) are all tokens in that sentence _except_ the **last** token. The response for a given sentence is all tokens in that sentence _except_ the **first**. Using `tf.keras.preprocessing.sequence.pad_sequences` post-pad each sequence in $X$ and $Y$ to a length of 30.\n",
        "    \n",
        "```\n",
        "Example:\n",
        "if token for <s> = 1 and </s> = 2\n",
        "sentence_i = [1, 48, 2498, 22, 16, 4, 4, 1554, 149, 14, 22, 2]\n",
        "x_i = [1,  48,   2498, 22, 16, 4, 4,    1554, 149, 14, 22, 0, ..., 0]\n",
        "y_i = [48, 2498, 22,   16, 4,  4, 1554, 149,  14,  22, 2,  0, ..., 0]\n",
        "```\n",
        "**Hint:** You may need to use `tf.convert_to_tensor` on the objects returned by the padding operation. \n",
        "</div>    "
      ]
    },
    {
      "cell_type": "code",
      "execution_count": 46,
      "metadata": {
        "colab": {
          "base_uri": "https://localhost:8080/"
        },
        "id": "TQYWGPhNHXkh",
        "outputId": "937fe33b-d4e9-4e43-ef53-11dd9f79956d"
      },
      "outputs": [
        {
          "output_type": "execute_result",
          "data": {
            "text/plain": [
              "(49054, 32)"
            ]
          },
          "metadata": {},
          "execution_count": 46
        }
      ],
      "source": [
        "# Your code here\n",
        "all_data = tf.keras.preprocessing.sequence.pad_sequences(df['sentence_as_token'],padding = 'post')\n",
        "all_data.shape\n"
      ]
    },
    {
      "cell_type": "code",
      "execution_count": 49,
      "metadata": {
        "colab": {
          "base_uri": "https://localhost:8080/"
        },
        "id": "3pQzG8YRQ8Tk",
        "outputId": "6d62e288-3bcd-470e-948e-f26172500560"
      },
      "outputs": [
        {
          "output_type": "stream",
          "name": "stdout",
          "text": [
            "Shape of X :(49054, 30), shape of y: (49054, 30)\n"
          ]
        }
      ],
      "source": [
        "X = all_data[:,0:30]\n",
        "y = all_data[:,1:31]\n",
        "print(f'Shape of X :{X.shape}, shape of y: {y.shape}')"
      ]
    },
    {
      "cell_type": "code",
      "source": [
        "# X and Y label of one sample\n",
        "print(f'X label: {X[0]}')\n",
        "print(f'Y label: {y[0]}')"
      ],
      "metadata": {
        "colab": {
          "base_uri": "https://localhost:8080/"
        },
        "id": "cPRfh2hfX5SM",
        "outputId": "01555ef7-16a1-43ce-dd88-d6ad516f84d6"
      },
      "execution_count": 50,
      "outputs": [
        {
          "output_type": "stream",
          "name": "stdout",
          "text": [
            "X label: [  1  22  32  68 825   4 122   8   7 279   4   2   0   0   0   0   0   0\n",
            "   0   0   0   0   0   0   0   0   0   0   0   0]\n",
            "Y label: [ 22  32  68 825   4 122   8   7 279   4   2   0   0   0   0   0   0   0\n",
            "   0   0   0   0   0   0   0   0   0   0   0   0]\n"
          ]
        }
      ]
    },
    {
      "cell_type": "code",
      "source": [
        "X = tf.convert_to_tensor(X) #converting to tensor\n",
        "y = tf.convert_to_tensor(y)"
      ],
      "metadata": {
        "id": "Ajrg5seKT1of"
      },
      "execution_count": 51,
      "outputs": []
    },
    {
      "cell_type": "code",
      "execution_count": null,
      "metadata": {
        "colab": {
          "base_uri": "https://localhost:8080/"
        },
        "id": "nMJhDMlylwQk",
        "outputId": "d8ac503c-455a-4626-fdae-fa3a5d81113b"
      },
      "outputs": [
        {
          "output_type": "stream",
          "name": "stdout",
          "text": [
            "X shape: (49054, 30)\n",
            "Y shape: (49054, 30)\n"
          ]
        }
      ],
      "source": [
        "print(f'X shape: {X.shape}')\n",
        "print(f'Y shape: {y.shape }')"
      ]
    },
    {
      "cell_type": "markdown",
      "metadata": {
        "id": "F-GPuG5XHXkh"
      },
      "source": [
        "<div class=\"alert alert-block alert-danger\" style=\"color:black;background-color:#E7F4FA\">\n",
        "    \n",
        "**2.3.2** - Define a simple RNN model that has an embedding layer with an embedding dimension of 300. You can define any number of RNN layers. The output of the RNN model will be a dense layer with size of the vocabulary and softmax activation. Using the functional API here may make it easier to reuse parts of the network later on.\n",
        "    \n",
        "</div>"
      ]
    },
    {
      "cell_type": "code",
      "source": [
        "print(f'vocab size is : {vocab_size}') # we defined it earlier during tokenizeation"
      ],
      "metadata": {
        "colab": {
          "base_uri": "https://localhost:8080/"
        },
        "id": "grCmCkziwkN-",
        "outputId": "faeb75ea-008f-42ad-8586-a9b350bfa6a1"
      },
      "execution_count": 53,
      "outputs": [
        {
          "output_type": "stream",
          "name": "stdout",
          "text": [
            "vocab size is : 5000\n"
          ]
        }
      ]
    },
    {
      "cell_type": "code",
      "execution_count": null,
      "metadata": {
        "id": "aesKHFlJQbAf"
      },
      "outputs": [],
      "source": [
        "# vocab_size = len(tokenizer_tf.word_index)+1\n",
        "# vocab_size"
      ]
    },
    {
      "cell_type": "markdown",
      "source": [
        "1D convolutions and recurrent layers use (batch_size, sequence_length, features)"
      ],
      "metadata": {
        "id": "cyYGBwyMzdIi"
      }
    },
    {
      "cell_type": "code",
      "source": [
        "# Your code here\n",
        "inputs = Input(shape=(30,))\n",
        "\n",
        "embedding = Embedding(input_dim= vocab_size+1, output_dim = 300,mask_zero=True)(inputs) # set mask_zero = True see the difference\n",
        "\n",
        "simple_rnn = SimpleRNN(50,input_shape= (300,),return_sequences= True,name ='rnn_layer')(embedding) # return_sequences = True, since we have a sequence and we need to do backprop and calculate loss for each element in the sequence\n",
        "final_layer = Dense(vocab_size+1,activation= 'softmax',name ='final_dense_layer'  )(simple_rnn)\n",
        "\n",
        "rnn_model = Model(inputs=inputs,outputs=final_layer)\n",
        "rnn_model.summary()"
      ],
      "metadata": {
        "colab": {
          "base_uri": "https://localhost:8080/"
        },
        "id": "YUG8TAxdZxEc",
        "outputId": "01acd3f1-ef5c-4c9f-b7ef-a6c3cabb7001"
      },
      "execution_count": 54,
      "outputs": [
        {
          "output_type": "stream",
          "name": "stdout",
          "text": [
            "Model: \"model\"\n",
            "_________________________________________________________________\n",
            " Layer (type)                Output Shape              Param #   \n",
            "=================================================================\n",
            " input_1 (InputLayer)        [(None, 30)]              0         \n",
            "                                                                 \n",
            " embedding (Embedding)       (None, 30, 300)           1500300   \n",
            "                                                                 \n",
            " rnn_layer (SimpleRNN)       (None, 30, 50)            17550     \n",
            "                                                                 \n",
            " final_dense_layer (Dense)   (None, 30, 5001)          255051    \n",
            "                                                                 \n",
            "=================================================================\n",
            "Total params: 1,772,901\n",
            "Trainable params: 1,772,901\n",
            "Non-trainable params: 0\n",
            "_________________________________________________________________\n"
          ]
        }
      ]
    },
    {
      "cell_type": "markdown",
      "metadata": {
        "id": "IAwjekNXq2kz"
      },
      "source": [
        "*doubt- what would happen if we made return_sequences and return_state = True*"
      ]
    },
    {
      "cell_type": "code",
      "execution_count": null,
      "metadata": {
        "id": "VyhMgVppzEUC"
      },
      "outputs": [],
      "source": [
        "# rnn_model = Sequential()\n",
        "# rnn_model.add(Input(shape=(1))) #or 30\n",
        "# rnn_model.add(Embedding(input_dim = vocab_size, output_dim=300 ,mask_zero=True)) # we can pass input length(not input_dim) as 30 too, but none as well, which is default\n",
        "# rnn_model.add(tf.keras.layers.SimpleRNN(units=50,return_sequences=True,activation='tanh'))\n",
        "# # rnn_model.add(tf.keras.layers.SimpleRNN(units=50,return_sequences=True,activation='tanh'))\n",
        "# rnn_model.add(Dense(vocab_size,activation='softmax'))\n",
        "# rnn_model.summary()"
      ]
    },
    {
      "cell_type": "markdown",
      "metadata": {
        "id": "LnWND6RSHXki"
      },
      "source": [
        "<div class=\"alert alert-block alert-danger\" style=\"color:black;background-color:#E7F4FA\">\n",
        "\n",
        "**2.3.3** - Train the model with the $X$ and $Y$ data formed in 2.3.1. Use a validation split of 0.2. The choice of number epochs and batch size is left to you.\n",
        "    \n",
        "</div>"
      ]
    },
    {
      "cell_type": "code",
      "execution_count": 55,
      "metadata": {
        "id": "GGt185PRHXki"
      },
      "outputs": [],
      "source": [
        "# Your code here\n",
        "rnn_model.compile(loss= tf.keras.losses.SparseCategoricalCrossentropy(),optimizer= tf.keras.optimizers.Adam(),\n",
        "            metrics = [tf.keras.metrics.SparseCategoricalAccuracy()])"
      ]
    },
    {
      "cell_type": "code",
      "source": [
        "no_of_epochs =20\n",
        "history_rnn = rnn_model.fit(X,y, batch_size = 256, epochs =no_of_epochs, validation_split=0.2)"
      ],
      "metadata": {
        "colab": {
          "base_uri": "https://localhost:8080/"
        },
        "id": "rLAKn2WHHFsg",
        "outputId": "95e95c53-bdf0-4907-d81f-06be33109666"
      },
      "execution_count": 56,
      "outputs": [
        {
          "output_type": "stream",
          "name": "stdout",
          "text": [
            "Epoch 1/20\n",
            "154/154 [==============================] - 17s 69ms/step - loss: 3.6269 - sparse_categorical_accuracy: 0.0629 - val_loss: 3.4816 - val_sparse_categorical_accuracy: 0.1238\n",
            "Epoch 2/20\n",
            "154/154 [==============================] - 10s 65ms/step - loss: 3.3993 - sparse_categorical_accuracy: 0.1290 - val_loss: 3.3738 - val_sparse_categorical_accuracy: 0.1345\n",
            "Epoch 3/20\n",
            "154/154 [==============================] - 11s 71ms/step - loss: 3.3234 - sparse_categorical_accuracy: 0.1360 - val_loss: 3.3246 - val_sparse_categorical_accuracy: 0.1372\n",
            "Epoch 4/20\n",
            "154/154 [==============================] - 10s 66ms/step - loss: 3.2821 - sparse_categorical_accuracy: 0.1403 - val_loss: 3.2995 - val_sparse_categorical_accuracy: 0.1406\n",
            "Epoch 5/20\n",
            "154/154 [==============================] - 10s 67ms/step - loss: 3.2533 - sparse_categorical_accuracy: 0.1440 - val_loss: 3.2774 - val_sparse_categorical_accuracy: 0.1439\n",
            "Epoch 6/20\n",
            "154/154 [==============================] - 11s 71ms/step - loss: 3.2257 - sparse_categorical_accuracy: 0.1462 - val_loss: 3.2576 - val_sparse_categorical_accuracy: 0.1451\n",
            "Epoch 7/20\n",
            "154/154 [==============================] - 11s 73ms/step - loss: 3.2002 - sparse_categorical_accuracy: 0.1478 - val_loss: 3.2408 - val_sparse_categorical_accuracy: 0.1462\n",
            "Epoch 8/20\n",
            "154/154 [==============================] - 10s 68ms/step - loss: 3.1774 - sparse_categorical_accuracy: 0.1496 - val_loss: 3.2272 - val_sparse_categorical_accuracy: 0.1478\n",
            "Epoch 9/20\n",
            "154/154 [==============================] - 10s 67ms/step - loss: 3.1552 - sparse_categorical_accuracy: 0.1518 - val_loss: 3.2149 - val_sparse_categorical_accuracy: 0.1490\n",
            "Epoch 10/20\n",
            "154/154 [==============================] - 10s 67ms/step - loss: 3.1343 - sparse_categorical_accuracy: 0.1534 - val_loss: 3.2038 - val_sparse_categorical_accuracy: 0.1498\n",
            "Epoch 11/20\n",
            "154/154 [==============================] - 10s 67ms/step - loss: 3.1148 - sparse_categorical_accuracy: 0.1551 - val_loss: 3.1948 - val_sparse_categorical_accuracy: 0.1504\n",
            "Epoch 12/20\n",
            "154/154 [==============================] - 10s 68ms/step - loss: 3.0970 - sparse_categorical_accuracy: 0.1565 - val_loss: 3.1884 - val_sparse_categorical_accuracy: 0.1516\n",
            "Epoch 13/20\n",
            "154/154 [==============================] - 10s 66ms/step - loss: 3.0808 - sparse_categorical_accuracy: 0.1582 - val_loss: 3.1837 - val_sparse_categorical_accuracy: 0.1518\n",
            "Epoch 14/20\n",
            "154/154 [==============================] - 10s 68ms/step - loss: 3.0660 - sparse_categorical_accuracy: 0.1596 - val_loss: 3.1792 - val_sparse_categorical_accuracy: 0.1522\n",
            "Epoch 15/20\n",
            "154/154 [==============================] - 10s 67ms/step - loss: 3.0523 - sparse_categorical_accuracy: 0.1609 - val_loss: 3.1777 - val_sparse_categorical_accuracy: 0.1518\n",
            "Epoch 16/20\n",
            "154/154 [==============================] - 10s 67ms/step - loss: 3.0393 - sparse_categorical_accuracy: 0.1620 - val_loss: 3.1752 - val_sparse_categorical_accuracy: 0.1527\n",
            "Epoch 17/20\n",
            "154/154 [==============================] - 10s 68ms/step - loss: 3.0273 - sparse_categorical_accuracy: 0.1631 - val_loss: 3.1736 - val_sparse_categorical_accuracy: 0.1538\n",
            "Epoch 18/20\n",
            "154/154 [==============================] - 11s 70ms/step - loss: 3.0164 - sparse_categorical_accuracy: 0.1639 - val_loss: 3.1737 - val_sparse_categorical_accuracy: 0.1532\n",
            "Epoch 19/20\n",
            "154/154 [==============================] - 10s 67ms/step - loss: 3.0055 - sparse_categorical_accuracy: 0.1648 - val_loss: 3.1732 - val_sparse_categorical_accuracy: 0.1537\n",
            "Epoch 20/20\n",
            "154/154 [==============================] - 10s 66ms/step - loss: 2.9954 - sparse_categorical_accuracy: 0.1656 - val_loss: 3.1737 - val_sparse_categorical_accuracy: 0.1539\n"
          ]
        }
      ]
    },
    {
      "cell_type": "markdown",
      "metadata": {
        "id": "4eTadAXqHXki"
      },
      "source": [
        "<div class=\"alert alert-block alert-danger\" style=\"color:black;background-color:#E7F4FA\">\n",
        "\n",
        "**2.3.4** - Plot the train and validation loss from the training history.\n",
        "\n",
        "</div>"
      ]
    },
    {
      "cell_type": "code",
      "source": [
        "from matplotlib import pyplot as plt"
      ],
      "metadata": {
        "id": "UPtOE1vd9sIG"
      },
      "execution_count": 57,
      "outputs": []
    },
    {
      "cell_type": "code",
      "execution_count": 58,
      "metadata": {
        "id": "Pf0Jp5WS0NLI",
        "colab": {
          "base_uri": "https://localhost:8080/",
          "height": 606
        },
        "outputId": "dd8af94c-566d-4fc4-9805-c631050bd51a"
      },
      "outputs": [
        {
          "output_type": "display_data",
          "data": {
            "text/plain": [
              "<Figure size 936x720 with 1 Axes>"
            ],
            "image/png": "[encoded data removed]"
          },
          "metadata": {
            "needs_background": "light"
          }
        }
      ],
      "source": [
        "plt.figure(figsize=(13,10))\n",
        "\n",
        "plt.plot(list(range(1,no_of_epochs+1)), history_rnn.history['loss'], label='Train loss')\n",
        "plt.plot(list(range(1,no_of_epochs+1)), history_rnn.history['val_loss'], label='Val loss')\n",
        "plt.legend()\n",
        "plt.xlabel('epochs')\n",
        "plt.ylabel('loss')\n",
        "plt.show();"
      ]
    },
    {
      "cell_type": "markdown",
      "metadata": {
        "id": "rHZAUp9vHXki"
      },
      "source": [
        "<div class=\"alert alert-block alert-danger\" style=\"color:black;background-color:#E7F4FA\">\n",
        "\n",
        "### **2.4 [10 points] PREDICTING THE NEXT WORD**\n",
        "    \n",
        "<br />\n",
        "    \n",
        "**2.4.1** - Read the dataset `pp_text.csv`. Add only the  start token to each line, remove the last word and tokenize it using the tokenizer fit previously. Convert each sentence to a sequence vector and post-pad to a length of 30. This will be the input for the prediction phase.\n",
        "    \n",
        "</div>"
      ]
    },
    {
      "cell_type": "code",
      "execution_count": 59,
      "metadata": {
        "id": "kJTWuX7VHXki",
        "colab": {
          "base_uri": "https://localhost:8080/",
          "height": 206
        },
        "outputId": "f525f3c6-61b4-458d-f7c6-1df48d88c675"
      },
      "outputs": [
        {
          "output_type": "execute_result",
          "data": {
            "text/plain": [
              "                                                Text\n",
              "0  When you make changes please always check if e...\n",
              "1                          I found them very similar\n",
              "2  Give some overview of what the exercises are a...\n",
              "3                         Honestly I do not remember\n",
              "4                            Can you check the video"
            ],
            "text/html": [
              "\n",
              "  <div id=\"df-9d03776d-5af1-4dcd-9f81-0a1cb37fd14a\">\n",
              "    <div class=\"colab-df-container\">\n",
              "      <div>\n",
              "<style scoped>\n",
              "    .dataframe tbody tr th:only-of-type {\n",
              "        vertical-align: middle;\n",
              "    }\n",
              "\n",
              "    .dataframe tbody tr th {\n",
              "        vertical-align: top;\n",
              "    }\n",
              "\n",
              "    .dataframe thead th {\n",
              "        text-align: right;\n",
              "    }\n",
              "</style>\n",
              "<table border=\"1\" class=\"dataframe\">\n",
              "  <thead>\n",
              "    <tr style=\"text-align: right;\">\n",
              "      <th></th>\n",
              "      <th>Text</th>\n",
              "    </tr>\n",
              "  </thead>\n",
              "  <tbody>\n",
              "    <tr>\n",
              "      <th>0</th>\n",
              "      <td>When you make changes please always check if e...</td>\n",
              "    </tr>\n",
              "    <tr>\n",
              "      <th>1</th>\n",
              "      <td>I found them very similar</td>\n",
              "    </tr>\n",
              "    <tr>\n",
              "      <th>2</th>\n",
              "      <td>Give some overview of what the exercises are a...</td>\n",
              "    </tr>\n",
              "    <tr>\n",
              "      <th>3</th>\n",
              "      <td>Honestly I do not remember</td>\n",
              "    </tr>\n",
              "    <tr>\n",
              "      <th>4</th>\n",
              "      <td>Can you check the video</td>\n",
              "    </tr>\n",
              "  </tbody>\n",
              "</table>\n",
              "</div>\n",
              "      <button class=\"colab-df-convert\" onclick=\"convertToInteractive('df-9d03776d-5af1-4dcd-9f81-0a1cb37fd14a')\"\n",
              "              title=\"Convert this dataframe to an interactive table.\"\n",
              "              style=\"display:none;\">\n",
              "        \n",
              "  <svg xmlns=\"http://www.w3.org/2000/svg\" height=\"24px\"viewBox=\"0 0 24 24\"\n",
              "       width=\"24px\">\n",
              "    <path d=\"M0 0h24v24H0V0z\" fill=\"none\"/>\n",
              "    <path d=\"M18.56 5.44l.94 2.06.94-2.06 2.06-.94-2.06-.94-.94-2.06-.94 2.06-2.06.94zm-11 1L8.5 8.5l.94-2.06 2.06-.94-2.06-.94L8.5 2.5l-.94 2.06-2.06.94zm10 10l.94 2.06.94-2.06 2.06-.94-2.06-.94-.94-2.06-.94 2.06-2.06.94z\"/><path d=\"M17.41 7.96l-1.37-1.37c-.4-.4-.92-.59-1.43-.59-.52 0-1.04.2-1.43.59L10.3 9.45l-7.72 7.72c-.78.78-.78 2.05 0 2.83L4 21.41c.39.39.9.59 1.41.59.51 0 1.02-.2 1.41-.59l7.78-7.78 2.81-2.81c.8-.78.8-2.07 0-2.86zM5.41 20L4 18.59l7.72-7.72 1.47 1.35L5.41 20z\"/>\n",
              "  </svg>\n",
              "      </button>\n",
              "      \n",
              "  <style>\n",
              "    .colab-df-container {\n",
              "      display:flex;\n",
              "      flex-wrap:wrap;\n",
              "      gap: 12px;\n",
              "    }\n",
              "\n",
              "    .colab-df-convert {\n",
              "      background-color: #E8F0FE;\n",
              "      border: none;\n",
              "      border-radius: 50%;\n",
              "      cursor: pointer;\n",
              "      display: none;\n",
              "      fill: #1967D2;\n",
              "      height: 32px;\n",
              "      padding: 0 0 0 0;\n",
              "      width: 32px;\n",
              "    }\n",
              "\n",
              "    .colab-df-convert:hover {\n",
              "      background-color: #E2EBFA;\n",
              "      box-shadow: 0px 1px 2px rgba(60, 64, 67, 0.3), 0px 1px 3px 1px rgba(60, 64, 67, 0.15);\n",
              "      fill: #174EA6;\n",
              "    }\n",
              "\n",
              "    [theme=dark] .colab-df-convert {\n",
              "      background-color: #3B4455;\n",
              "      fill: #D2E3FC;\n",
              "    }\n",
              "\n",
              "    [theme=dark] .colab-df-convert:hover {\n",
              "      background-color: #434B5C;\n",
              "      box-shadow: 0px 1px 3px 1px rgba(0, 0, 0, 0.15);\n",
              "      filter: drop-shadow(0px 1px 2px rgba(0, 0, 0, 0.3));\n",
              "      fill: #FFFFFF;\n",
              "    }\n",
              "  </style>\n",
              "\n",
              "      <script>\n",
              "        const buttonEl =\n",
              "          document.querySelector('#df-9d03776d-5af1-4dcd-9f81-0a1cb37fd14a button.colab-df-convert');\n",
              "        buttonEl.style.display =\n",
              "          google.colab.kernel.accessAllowed ? 'block' : 'none';\n",
              "\n",
              "        async function convertToInteractive(key) {\n",
              "          const element = document.querySelector('#df-9d03776d-5af1-4dcd-9f81-0a1cb37fd14a');\n",
              "          const dataTable =\n",
              "            await google.colab.kernel.invokeFunction('convertToInteractive',\n",
              "                                                     [key], {});\n",
              "          if (!dataTable) return;\n",
              "\n",
              "          const docLinkHtml = 'Like what you see? Visit the ' +\n",
              "            '<a target=\"_blank\" href=https://colab.research.google.com/notebooks/data_table.ipynb>data table notebook</a>'\n",
              "            + ' to learn more about interactive tables.';\n",
              "          element.innerHTML = '';\n",
              "          dataTable['output_type'] = 'display_data';\n",
              "          await google.colab.output.renderOutput(dataTable, element);\n",
              "          const docLink = document.createElement('div');\n",
              "          docLink.innerHTML = docLinkHtml;\n",
              "          element.appendChild(docLink);\n",
              "        }\n",
              "      </script>\n",
              "    </div>\n",
              "  </div>\n",
              "  "
            ]
          },
          "metadata": {},
          "execution_count": 59
        }
      ],
      "source": [
        "# Read the data\n",
        "file_path = \"https://drive.google.com/uc?id=1sFolPhc31mqvCxC3JxORmur21e28XeA-&export=download\"\n",
        "df_pred = pd.read_csv(file_path)\n",
        "df_pred.head()"
      ]
    },
    {
      "cell_type": "code",
      "source": [
        "print(f'Shape of df_pred : {df_pred.shape}')"
      ],
      "metadata": {
        "colab": {
          "base_uri": "https://localhost:8080/"
        },
        "id": "ZkRapScx4xxW",
        "outputId": "e001259d-4e47-4a12-dbff-44333c3616eb"
      },
      "execution_count": 61,
      "outputs": [
        {
          "output_type": "stream",
          "name": "stdout",
          "text": [
            "Shape of df_pred : (35, 1)\n"
          ]
        }
      ]
    },
    {
      "cell_type": "markdown",
      "source": [
        " Should we do preprocessing using the clean function defined above?"
      ],
      "metadata": {
        "id": "dJtCzrtjD1A5"
      }
    },
    {
      "cell_type": "code",
      "source": [
        "df_pred['last_word'] = df_pred['Text'].apply(lambda x: x.rsplit(' ',1)[1])\n",
        "df_pred['Text'] = df_pred['Text'].apply(lambda x: x.rsplit(' ',1)[0]) # removing the last word using reverse split\n",
        "df_pred['Text'] = df_pred['Text'].apply(lambda x: '<s> ' + x ) # adding initial token to sentence\n",
        "df_pred.head()"
      ],
      "metadata": {
        "colab": {
          "base_uri": "https://localhost:8080/",
          "height": 206
        },
        "id": "FhvB7rKkCMaL",
        "outputId": "7d6913cc-c400-4223-babf-892850b57d57"
      },
      "execution_count": 62,
      "outputs": [
        {
          "output_type": "execute_result",
          "data": {
            "text/plain": [
              "                                                Text last_word\n",
              "0  <s> When you make changes please always check ...   working\n",
              "1                              <s> I found them very   similar\n",
              "2  <s> Give some overview of what the exercises a...     there\n",
              "3                              <s> Honestly I do not  remember\n",
              "4                              <s> Can you check the     video"
            ],
            "text/html": [
              "\n",
              "  <div id=\"df-20be3d45-9a99-4b31-a0ee-8f2dababefcb\">\n",
              "    <div class=\"colab-df-container\">\n",
              "      <div>\n",
              "<style scoped>\n",
              "    .dataframe tbody tr th:only-of-type {\n",
              "        vertical-align: middle;\n",
              "    }\n",
              "\n",
              "    .dataframe tbody tr th {\n",
              "        vertical-align: top;\n",
              "    }\n",
              "\n",
              "    .dataframe thead th {\n",
              "        text-align: right;\n",
              "    }\n",
              "</style>\n",
              "<table border=\"1\" class=\"dataframe\">\n",
              "  <thead>\n",
              "    <tr style=\"text-align: right;\">\n",
              "      <th></th>\n",
              "      <th>Text</th>\n",
              "      <th>last_word</th>\n",
              "    </tr>\n",
              "  </thead>\n",
              "  <tbody>\n",
              "    <tr>\n",
              "      <th>0</th>\n",
              "      <td>&lt;s&gt; When you make changes please always check ...</td>\n",
              "      <td>working</td>\n",
              "    </tr>\n",
              "    <tr>\n",
              "      <th>1</th>\n",
              "      <td>&lt;s&gt; I found them very</td>\n",
              "      <td>similar</td>\n",
              "    </tr>\n",
              "    <tr>\n",
              "      <th>2</th>\n",
              "      <td>&lt;s&gt; Give some overview of what the exercises a...</td>\n",
              "      <td>there</td>\n",
              "    </tr>\n",
              "    <tr>\n",
              "      <th>3</th>\n",
              "      <td>&lt;s&gt; Honestly I do not</td>\n",
              "      <td>remember</td>\n",
              "    </tr>\n",
              "    <tr>\n",
              "      <th>4</th>\n",
              "      <td>&lt;s&gt; Can you check the</td>\n",
              "      <td>video</td>\n",
              "    </tr>\n",
              "  </tbody>\n",
              "</table>\n",
              "</div>\n",
              "      <button class=\"colab-df-convert\" onclick=\"convertToInteractive('df-20be3d45-9a99-4b31-a0ee-8f2dababefcb')\"\n",
              "              title=\"Convert this dataframe to an interactive table.\"\n",
              "              style=\"display:none;\">\n",
              "        \n",
              "  <svg xmlns=\"http://www.w3.org/2000/svg\" height=\"24px\"viewBox=\"0 0 24 24\"\n",
              "       width=\"24px\">\n",
              "    <path d=\"M0 0h24v24H0V0z\" fill=\"none\"/>\n",
              "    <path d=\"M18.56 5.44l.94 2.06.94-2.06 2.06-.94-2.06-.94-.94-2.06-.94 2.06-2.06.94zm-11 1L8.5 8.5l.94-2.06 2.06-.94-2.06-.94L8.5 2.5l-.94 2.06-2.06.94zm10 10l.94 2.06.94-2.06 2.06-.94-2.06-.94-.94-2.06-.94 2.06-2.06.94z\"/><path d=\"M17.41 7.96l-1.37-1.37c-.4-.4-.92-.59-1.43-.59-.52 0-1.04.2-1.43.59L10.3 9.45l-7.72 7.72c-.78.78-.78 2.05 0 2.83L4 21.41c.39.39.9.59 1.41.59.51 0 1.02-.2 1.41-.59l7.78-7.78 2.81-2.81c.8-.78.8-2.07 0-2.86zM5.41 20L4 18.59l7.72-7.72 1.47 1.35L5.41 20z\"/>\n",
              "  </svg>\n",
              "      </button>\n",
              "      \n",
              "  <style>\n",
              "    .colab-df-container {\n",
              "      display:flex;\n",
              "      flex-wrap:wrap;\n",
              "      gap: 12px;\n",
              "    }\n",
              "\n",
              "    .colab-df-convert {\n",
              "      background-color: #E8F0FE;\n",
              "      border: none;\n",
              "      border-radius: 50%;\n",
              "      cursor: pointer;\n",
              "      display: none;\n",
              "      fill: #1967D2;\n",
              "      height: 32px;\n",
              "      padding: 0 0 0 0;\n",
              "      width: 32px;\n",
              "    }\n",
              "\n",
              "    .colab-df-convert:hover {\n",
              "      background-color: #E2EBFA;\n",
              "      box-shadow: 0px 1px 2px rgba(60, 64, 67, 0.3), 0px 1px 3px 1px rgba(60, 64, 67, 0.15);\n",
              "      fill: #174EA6;\n",
              "    }\n",
              "\n",
              "    [theme=dark] .colab-df-convert {\n",
              "      background-color: #3B4455;\n",
              "      fill: #D2E3FC;\n",
              "    }\n",
              "\n",
              "    [theme=dark] .colab-df-convert:hover {\n",
              "      background-color: #434B5C;\n",
              "      box-shadow: 0px 1px 3px 1px rgba(0, 0, 0, 0.15);\n",
              "      filter: drop-shadow(0px 1px 2px rgba(0, 0, 0, 0.3));\n",
              "      fill: #FFFFFF;\n",
              "    }\n",
              "  </style>\n",
              "\n",
              "      <script>\n",
              "        const buttonEl =\n",
              "          document.querySelector('#df-20be3d45-9a99-4b31-a0ee-8f2dababefcb button.colab-df-convert');\n",
              "        buttonEl.style.display =\n",
              "          google.colab.kernel.accessAllowed ? 'block' : 'none';\n",
              "\n",
              "        async function convertToInteractive(key) {\n",
              "          const element = document.querySelector('#df-20be3d45-9a99-4b31-a0ee-8f2dababefcb');\n",
              "          const dataTable =\n",
              "            await google.colab.kernel.invokeFunction('convertToInteractive',\n",
              "                                                     [key], {});\n",
              "          if (!dataTable) return;\n",
              "\n",
              "          const docLinkHtml = 'Like what you see? Visit the ' +\n",
              "            '<a target=\"_blank\" href=https://colab.research.google.com/notebooks/data_table.ipynb>data table notebook</a>'\n",
              "            + ' to learn more about interactive tables.';\n",
              "          element.innerHTML = '';\n",
              "          dataTable['output_type'] = 'display_data';\n",
              "          await google.colab.output.renderOutput(dataTable, element);\n",
              "          const docLink = document.createElement('div');\n",
              "          docLink.innerHTML = docLinkHtml;\n",
              "          element.appendChild(docLink);\n",
              "        }\n",
              "      </script>\n",
              "    </div>\n",
              "  </div>\n",
              "  "
            ]
          },
          "metadata": {},
          "execution_count": 62
        }
      ]
    },
    {
      "cell_type": "code",
      "source": [
        "# adding the last word(y variable) as a column so that we can compare with the predicted word\n",
        "\n",
        "df_pred['text_as_seq'] = tokenizer_tf.texts_to_sequences(df_pred['Text'])\n",
        "df_pred['y_last_word'] = tokenizer_tf.texts_to_sequences(df_pred['last_word'])\n",
        "df_pred.head() "
      ],
      "metadata": {
        "colab": {
          "base_uri": "https://localhost:8080/",
          "height": 206
        },
        "id": "sLjQvpdRA9w1",
        "outputId": "dfac0911-e86a-4c9e-f52e-8d38c902ae92"
      },
      "execution_count": 63,
      "outputs": [
        {
          "output_type": "execute_result",
          "data": {
            "text/plain": [
              "                                                Text last_word  \\\n",
              "0  <s> When you make changes please always check ...   working   \n",
              "1                              <s> I found them very   similar   \n",
              "2  <s> Give some overview of what the exercises a...     there   \n",
              "3                              <s> Honestly I do not  remember   \n",
              "4                              <s> Can you check the     video   \n",
              "\n",
              "                                         text_as_seq y_last_word  \n",
              "0  [1, 1064, 261, 24, 1319, 695, 109, 1004, 324, ...       [708]  \n",
              "1                            [1, 49, 168, 193, 1580]       [676]  \n",
              "2  [1, 115, 1250, 533, 532, 9, 828, 86, 858, 1431...       [189]  \n",
              "3                            [1, 1295, 49, 517, 316]       [314]  \n",
              "4                            [1, 2155, 261, 1004, 9]       [321]  "
            ],
            "text/html": [
              "\n",
              "  <div id=\"df-6653ac45-aeb2-46bf-ac2e-fcccfdc3ac87\">\n",
              "    <div class=\"colab-df-container\">\n",
              "      <div>\n",
              "<style scoped>\n",
              "    .dataframe tbody tr th:only-of-type {\n",
              "        vertical-align: middle;\n",
              "    }\n",
              "\n",
              "    .dataframe tbody tr th {\n",
              "        vertical-align: top;\n",
              "    }\n",
              "\n",
              "    .dataframe thead th {\n",
              "        text-align: right;\n",
              "    }\n",
              "</style>\n",
              "<table border=\"1\" class=\"dataframe\">\n",
              "  <thead>\n",
              "    <tr style=\"text-align: right;\">\n",
              "      <th></th>\n",
              "      <th>Text</th>\n",
              "      <th>last_word</th>\n",
              "      <th>text_as_seq</th>\n",
              "      <th>y_last_word</th>\n",
              "    </tr>\n",
              "  </thead>\n",
              "  <tbody>\n",
              "    <tr>\n",
              "      <th>0</th>\n",
              "      <td>&lt;s&gt; When you make changes please always check ...</td>\n",
              "      <td>working</td>\n",
              "      <td>[1, 1064, 261, 24, 1319, 695, 109, 1004, 324, ...</td>\n",
              "      <td>[708]</td>\n",
              "    </tr>\n",
              "    <tr>\n",
              "      <th>1</th>\n",
              "      <td>&lt;s&gt; I found them very</td>\n",
              "      <td>similar</td>\n",
              "      <td>[1, 49, 168, 193, 1580]</td>\n",
              "      <td>[676]</td>\n",
              "    </tr>\n",
              "    <tr>\n",
              "      <th>2</th>\n",
              "      <td>&lt;s&gt; Give some overview of what the exercises a...</td>\n",
              "      <td>there</td>\n",
              "      <td>[1, 115, 1250, 533, 532, 9, 828, 86, 858, 1431...</td>\n",
              "      <td>[189]</td>\n",
              "    </tr>\n",
              "    <tr>\n",
              "      <th>3</th>\n",
              "      <td>&lt;s&gt; Honestly I do not</td>\n",
              "      <td>remember</td>\n",
              "      <td>[1, 1295, 49, 517, 316]</td>\n",
              "      <td>[314]</td>\n",
              "    </tr>\n",
              "    <tr>\n",
              "      <th>4</th>\n",
              "      <td>&lt;s&gt; Can you check the</td>\n",
              "      <td>video</td>\n",
              "      <td>[1, 2155, 261, 1004, 9]</td>\n",
              "      <td>[321]</td>\n",
              "    </tr>\n",
              "  </tbody>\n",
              "</table>\n",
              "</div>\n",
              "      <button class=\"colab-df-convert\" onclick=\"convertToInteractive('df-6653ac45-aeb2-46bf-ac2e-fcccfdc3ac87')\"\n",
              "              title=\"Convert this dataframe to an interactive table.\"\n",
              "              style=\"display:none;\">\n",
              "        \n",
              "  <svg xmlns=\"http://www.w3.org/2000/svg\" height=\"24px\"viewBox=\"0 0 24 24\"\n",
              "       width=\"24px\">\n",
              "    <path d=\"M0 0h24v24H0V0z\" fill=\"none\"/>\n",
              "    <path d=\"M18.56 5.44l.94 2.06.94-2.06 2.06-.94-2.06-.94-.94-2.06-.94 2.06-2.06.94zm-11 1L8.5 8.5l.94-2.06 2.06-.94-2.06-.94L8.5 2.5l-.94 2.06-2.06.94zm10 10l.94 2.06.94-2.06 2.06-.94-2.06-.94-.94-2.06-.94 2.06-2.06.94z\"/><path d=\"M17.41 7.96l-1.37-1.37c-.4-.4-.92-.59-1.43-.59-.52 0-1.04.2-1.43.59L10.3 9.45l-7.72 7.72c-.78.78-.78 2.05 0 2.83L4 21.41c.39.39.9.59 1.41.59.51 0 1.02-.2 1.41-.59l7.78-7.78 2.81-2.81c.8-.78.8-2.07 0-2.86zM5.41 20L4 18.59l7.72-7.72 1.47 1.35L5.41 20z\"/>\n",
              "  </svg>\n",
              "      </button>\n",
              "      \n",
              "  <style>\n",
              "    .colab-df-container {\n",
              "      display:flex;\n",
              "      flex-wrap:wrap;\n",
              "      gap: 12px;\n",
              "    }\n",
              "\n",
              "    .colab-df-convert {\n",
              "      background-color: #E8F0FE;\n",
              "      border: none;\n",
              "      border-radius: 50%;\n",
              "      cursor: pointer;\n",
              "      display: none;\n",
              "      fill: #1967D2;\n",
              "      height: 32px;\n",
              "      padding: 0 0 0 0;\n",
              "      width: 32px;\n",
              "    }\n",
              "\n",
              "    .colab-df-convert:hover {\n",
              "      background-color: #E2EBFA;\n",
              "      box-shadow: 0px 1px 2px rgba(60, 64, 67, 0.3), 0px 1px 3px 1px rgba(60, 64, 67, 0.15);\n",
              "      fill: #174EA6;\n",
              "    }\n",
              "\n",
              "    [theme=dark] .colab-df-convert {\n",
              "      background-color: #3B4455;\n",
              "      fill: #D2E3FC;\n",
              "    }\n",
              "\n",
              "    [theme=dark] .colab-df-convert:hover {\n",
              "      background-color: #434B5C;\n",
              "      box-shadow: 0px 1px 3px 1px rgba(0, 0, 0, 0.15);\n",
              "      filter: drop-shadow(0px 1px 2px rgba(0, 0, 0, 0.3));\n",
              "      fill: #FFFFFF;\n",
              "    }\n",
              "  </style>\n",
              "\n",
              "      <script>\n",
              "        const buttonEl =\n",
              "          document.querySelector('#df-6653ac45-aeb2-46bf-ac2e-fcccfdc3ac87 button.colab-df-convert');\n",
              "        buttonEl.style.display =\n",
              "          google.colab.kernel.accessAllowed ? 'block' : 'none';\n",
              "\n",
              "        async function convertToInteractive(key) {\n",
              "          const element = document.querySelector('#df-6653ac45-aeb2-46bf-ac2e-fcccfdc3ac87');\n",
              "          const dataTable =\n",
              "            await google.colab.kernel.invokeFunction('convertToInteractive',\n",
              "                                                     [key], {});\n",
              "          if (!dataTable) return;\n",
              "\n",
              "          const docLinkHtml = 'Like what you see? Visit the ' +\n",
              "            '<a target=\"_blank\" href=https://colab.research.google.com/notebooks/data_table.ipynb>data table notebook</a>'\n",
              "            + ' to learn more about interactive tables.';\n",
              "          element.innerHTML = '';\n",
              "          dataTable['output_type'] = 'display_data';\n",
              "          await google.colab.output.renderOutput(dataTable, element);\n",
              "          const docLink = document.createElement('div');\n",
              "          docLink.innerHTML = docLinkHtml;\n",
              "          element.appendChild(docLink);\n",
              "        }\n",
              "      </script>\n",
              "    </div>\n",
              "  </div>\n",
              "  "
            ]
          },
          "metadata": {},
          "execution_count": 63
        }
      ]
    },
    {
      "cell_type": "code",
      "source": [
        "# padding the prediction data\n",
        "maxlen=30\n",
        "X_pred_padded = tf.keras.preprocessing.sequence.pad_sequences(df_pred['text_as_seq'], maxlen =30, padding='post')\n",
        "\n",
        "X_pred_padded.shape"
      ],
      "metadata": {
        "colab": {
          "base_uri": "https://localhost:8080/"
        },
        "id": "MLzNL3EEKG4i",
        "outputId": "6d1e6066-1cd1-4d97-e313-688ea126fa80"
      },
      "execution_count": 65,
      "outputs": [
        {
          "output_type": "execute_result",
          "data": {
            "text/plain": [
              "(35, 30)"
            ]
          },
          "metadata": {},
          "execution_count": 65
        }
      ]
    },
    {
      "cell_type": "markdown",
      "metadata": {
        "id": "3nVrOByOHXki"
      },
      "source": [
        "<div class=\"alert alert-block alert-danger\" style=\"color:black;background-color:#E7F4FA\">\n",
        "\n",
        "\n",
        "**2.4.2** - Define a simple RNN model with the trained weights of the trained RNN model for predicting the next word. You can make use of Keras function API to reuse the previously written code. The output of this new model is the last element of the RNN output defined earlier.\n",
        "    \n",
        "</div>"
      ]
    },
    {
      "cell_type": "code",
      "source": [
        "rnn_model.summary() # archtitecture of previous rnn model "
      ],
      "metadata": {
        "colab": {
          "base_uri": "https://localhost:8080/"
        },
        "id": "siIllLvBJc8y",
        "outputId": "0fe68074-c6f9-4ed7-cf59-3fffa773cd34"
      },
      "execution_count": 66,
      "outputs": [
        {
          "output_type": "stream",
          "name": "stdout",
          "text": [
            "Model: \"model\"\n",
            "_________________________________________________________________\n",
            " Layer (type)                Output Shape              Param #   \n",
            "=================================================================\n",
            " input_1 (InputLayer)        [(None, 30)]              0         \n",
            "                                                                 \n",
            " embedding (Embedding)       (None, 30, 300)           1500300   \n",
            "                                                                 \n",
            " rnn_layer (SimpleRNN)       (None, 30, 50)            17550     \n",
            "                                                                 \n",
            " final_dense_layer (Dense)   (None, 30, 5001)          255051    \n",
            "                                                                 \n",
            "=================================================================\n",
            "Total params: 1,772,901\n",
            "Trainable params: 1,772,901\n",
            "Non-trainable params: 0\n",
            "_________________________________________________________________\n"
          ]
        }
      ]
    },
    {
      "cell_type": "markdown",
      "source": [
        "**Creating a new rnn model with similar architecture but with return sequence = False, that would give us the hiddenstate of only the last element, needed to predict the next word**"
      ],
      "metadata": {
        "id": "UDYqgHxXDsMw"
      }
    },
    {
      "cell_type": "code",
      "source": [
        "new_inputs = Input(shape=(30,))\n",
        "new_embedding = Embedding(input_dim= vocab_size+1, output_dim = 300, mask_zero =True)(new_inputs)\n",
        "new_simple_rnn = SimpleRNN(50,input_shape= (300,),name ='rnn_layer')(new_embedding) #without return_sequences= True, which gives hidden_state of only the last element\n",
        "new_outputs = Dense(vocab_size+1,activation= 'softmax',name ='final_dense_layer'  )(new_simple_rnn)\n",
        "\n",
        "new_rnn_model = Model(inputs=new_inputs,outputs=new_outputs)\n",
        "\n",
        "new_rnn_model.summary()"
      ],
      "metadata": {
        "colab": {
          "base_uri": "https://localhost:8080/"
        },
        "id": "6zhH_Ap-tTMY",
        "outputId": "c4bac1c8-a3fc-4675-c82a-a6133cc7000a"
      },
      "execution_count": 67,
      "outputs": [
        {
          "output_type": "stream",
          "name": "stdout",
          "text": [
            "Model: \"model_1\"\n",
            "_________________________________________________________________\n",
            " Layer (type)                Output Shape              Param #   \n",
            "=================================================================\n",
            " input_2 (InputLayer)        [(None, 30)]              0         \n",
            "                                                                 \n",
            " embedding_1 (Embedding)     (None, 30, 300)           1500300   \n",
            "                                                                 \n",
            " rnn_layer (SimpleRNN)       (None, 50)                17550     \n",
            "                                                                 \n",
            " final_dense_layer (Dense)   (None, 5001)              255051    \n",
            "                                                                 \n",
            "=================================================================\n",
            "Total params: 1,772,901\n",
            "Trainable params: 1,772,901\n",
            "Non-trainable params: 0\n",
            "_________________________________________________________________\n"
          ]
        }
      ]
    },
    {
      "cell_type": "code",
      "source": [
        "# dictionary with layers names and its weights of the 1st rnn model. which we take share with the new rnn model\n",
        "\n",
        "rnn_dic = {layer.name: layer.get_weights() for layer in rnn_model.layers} "
      ],
      "metadata": {
        "id": "RBOPYPRMwNlH"
      },
      "execution_count": 68,
      "outputs": []
    },
    {
      "cell_type": "code",
      "source": [
        "# setting weights in the new rnn model, using the weights from the old rnn model\n",
        "new_rnn_model.layers[1].set_weights(rnn_dic['embedding']) # setting weights in embedding layer from previous rnn model\n",
        "new_rnn_model.layers[2].set_weights(rnn_dic['rnn_layer']) # setting weights in rnn layer from previous rnn model\n",
        "new_rnn_model.layers[3].set_weights(rnn_dic['final_dense_layer'])"
      ],
      "metadata": {
        "id": "WUnrcZl8wr3I"
      },
      "execution_count": 70,
      "outputs": []
    },
    {
      "cell_type": "code",
      "source": [
        "df_pred.head()"
      ],
      "metadata": {
        "colab": {
          "base_uri": "https://localhost:8080/",
          "height": 206
        },
        "id": "6SZRqo9izNp4",
        "outputId": "6645a679-c68c-4fa6-c98b-bf47f51d5d4a"
      },
      "execution_count": 71,
      "outputs": [
        {
          "output_type": "execute_result",
          "data": {
            "text/plain": [
              "                                                Text last_word  \\\n",
              "0  <s> When you make changes please always check ...   working   \n",
              "1                              <s> I found them very   similar   \n",
              "2  <s> Give some overview of what the exercises a...     there   \n",
              "3                              <s> Honestly I do not  remember   \n",
              "4                              <s> Can you check the     video   \n",
              "\n",
              "                                         text_as_seq y_last_word  \n",
              "0  [1, 1064, 261, 24, 1319, 695, 109, 1004, 324, ...       [708]  \n",
              "1                            [1, 49, 168, 193, 1580]       [676]  \n",
              "2  [1, 115, 1250, 533, 532, 9, 828, 86, 858, 1431...       [189]  \n",
              "3                            [1, 1295, 49, 517, 316]       [314]  \n",
              "4                            [1, 2155, 261, 1004, 9]       [321]  "
            ],
            "text/html": [
              "\n",
              "  <div id=\"df-051c1f5c-93d6-4f67-af48-96c671da1427\">\n",
              "    <div class=\"colab-df-container\">\n",
              "      <div>\n",
              "<style scoped>\n",
              "    .dataframe tbody tr th:only-of-type {\n",
              "        vertical-align: middle;\n",
              "    }\n",
              "\n",
              "    .dataframe tbody tr th {\n",
              "        vertical-align: top;\n",
              "    }\n",
              "\n",
              "    .dataframe thead th {\n",
              "        text-align: right;\n",
              "    }\n",
              "</style>\n",
              "<table border=\"1\" class=\"dataframe\">\n",
              "  <thead>\n",
              "    <tr style=\"text-align: right;\">\n",
              "      <th></th>\n",
              "      <th>Text</th>\n",
              "      <th>last_word</th>\n",
              "      <th>text_as_seq</th>\n",
              "      <th>y_last_word</th>\n",
              "    </tr>\n",
              "  </thead>\n",
              "  <tbody>\n",
              "    <tr>\n",
              "      <th>0</th>\n",
              "      <td>&lt;s&gt; When you make changes please always check ...</td>\n",
              "      <td>working</td>\n",
              "      <td>[1, 1064, 261, 24, 1319, 695, 109, 1004, 324, ...</td>\n",
              "      <td>[708]</td>\n",
              "    </tr>\n",
              "    <tr>\n",
              "      <th>1</th>\n",
              "      <td>&lt;s&gt; I found them very</td>\n",
              "      <td>similar</td>\n",
              "      <td>[1, 49, 168, 193, 1580]</td>\n",
              "      <td>[676]</td>\n",
              "    </tr>\n",
              "    <tr>\n",
              "      <th>2</th>\n",
              "      <td>&lt;s&gt; Give some overview of what the exercises a...</td>\n",
              "      <td>there</td>\n",
              "      <td>[1, 115, 1250, 533, 532, 9, 828, 86, 858, 1431...</td>\n",
              "      <td>[189]</td>\n",
              "    </tr>\n",
              "    <tr>\n",
              "      <th>3</th>\n",
              "      <td>&lt;s&gt; Honestly I do not</td>\n",
              "      <td>remember</td>\n",
              "      <td>[1, 1295, 49, 517, 316]</td>\n",
              "      <td>[314]</td>\n",
              "    </tr>\n",
              "    <tr>\n",
              "      <th>4</th>\n",
              "      <td>&lt;s&gt; Can you check the</td>\n",
              "      <td>video</td>\n",
              "      <td>[1, 2155, 261, 1004, 9]</td>\n",
              "      <td>[321]</td>\n",
              "    </tr>\n",
              "  </tbody>\n",
              "</table>\n",
              "</div>\n",
              "      <button class=\"colab-df-convert\" onclick=\"convertToInteractive('df-051c1f5c-93d6-4f67-af48-96c671da1427')\"\n",
              "              title=\"Convert this dataframe to an interactive table.\"\n",
              "              style=\"display:none;\">\n",
              "        \n",
              "  <svg xmlns=\"http://www.w3.org/2000/svg\" height=\"24px\"viewBox=\"0 0 24 24\"\n",
              "       width=\"24px\">\n",
              "    <path d=\"M0 0h24v24H0V0z\" fill=\"none\"/>\n",
              "    <path d=\"M18.56 5.44l.94 2.06.94-2.06 2.06-.94-2.06-.94-.94-2.06-.94 2.06-2.06.94zm-11 1L8.5 8.5l.94-2.06 2.06-.94-2.06-.94L8.5 2.5l-.94 2.06-2.06.94zm10 10l.94 2.06.94-2.06 2.06-.94-2.06-.94-.94-2.06-.94 2.06-2.06.94z\"/><path d=\"M17.41 7.96l-1.37-1.37c-.4-.4-.92-.59-1.43-.59-.52 0-1.04.2-1.43.59L10.3 9.45l-7.72 7.72c-.78.78-.78 2.05 0 2.83L4 21.41c.39.39.9.59 1.41.59.51 0 1.02-.2 1.41-.59l7.78-7.78 2.81-2.81c.8-.78.8-2.07 0-2.86zM5.41 20L4 18.59l7.72-7.72 1.47 1.35L5.41 20z\"/>\n",
              "  </svg>\n",
              "      </button>\n",
              "      \n",
              "  <style>\n",
              "    .colab-df-container {\n",
              "      display:flex;\n",
              "      flex-wrap:wrap;\n",
              "      gap: 12px;\n",
              "    }\n",
              "\n",
              "    .colab-df-convert {\n",
              "      background-color: #E8F0FE;\n",
              "      border: none;\n",
              "      border-radius: 50%;\n",
              "      cursor: pointer;\n",
              "      display: none;\n",
              "      fill: #1967D2;\n",
              "      height: 32px;\n",
              "      padding: 0 0 0 0;\n",
              "      width: 32px;\n",
              "    }\n",
              "\n",
              "    .colab-df-convert:hover {\n",
              "      background-color: #E2EBFA;\n",
              "      box-shadow: 0px 1px 2px rgba(60, 64, 67, 0.3), 0px 1px 3px 1px rgba(60, 64, 67, 0.15);\n",
              "      fill: #174EA6;\n",
              "    }\n",
              "\n",
              "    [theme=dark] .colab-df-convert {\n",
              "      background-color: #3B4455;\n",
              "      fill: #D2E3FC;\n",
              "    }\n",
              "\n",
              "    [theme=dark] .colab-df-convert:hover {\n",
              "      background-color: #434B5C;\n",
              "      box-shadow: 0px 1px 3px 1px rgba(0, 0, 0, 0.15);\n",
              "      filter: drop-shadow(0px 1px 2px rgba(0, 0, 0, 0.3));\n",
              "      fill: #FFFFFF;\n",
              "    }\n",
              "  </style>\n",
              "\n",
              "      <script>\n",
              "        const buttonEl =\n",
              "          document.querySelector('#df-051c1f5c-93d6-4f67-af48-96c671da1427 button.colab-df-convert');\n",
              "        buttonEl.style.display =\n",
              "          google.colab.kernel.accessAllowed ? 'block' : 'none';\n",
              "\n",
              "        async function convertToInteractive(key) {\n",
              "          const element = document.querySelector('#df-051c1f5c-93d6-4f67-af48-96c671da1427');\n",
              "          const dataTable =\n",
              "            await google.colab.kernel.invokeFunction('convertToInteractive',\n",
              "                                                     [key], {});\n",
              "          if (!dataTable) return;\n",
              "\n",
              "          const docLinkHtml = 'Like what you see? Visit the ' +\n",
              "            '<a target=\"_blank\" href=https://colab.research.google.com/notebooks/data_table.ipynb>data table notebook</a>'\n",
              "            + ' to learn more about interactive tables.';\n",
              "          element.innerHTML = '';\n",
              "          dataTable['output_type'] = 'display_data';\n",
              "          await google.colab.output.renderOutput(dataTable, element);\n",
              "          const docLink = document.createElement('div');\n",
              "          docLink.innerHTML = docLinkHtml;\n",
              "          element.appendChild(docLink);\n",
              "        }\n",
              "      </script>\n",
              "    </div>\n",
              "  </div>\n",
              "  "
            ]
          },
          "metadata": {},
          "execution_count": 71
        }
      ]
    },
    {
      "cell_type": "markdown",
      "metadata": {
        "id": "-RC5P3fqHXkj"
      },
      "source": [
        "<div class=\"alert alert-block alert-danger\" style=\"color:black;background-color:#E7F4FA\">\n",
        "\n",
        "**2.4.3** - Choose any sentence from the list of Prof. Protopapas's texts to predict the next word. Input this to the RNN model built for prediction and print the predicted word. Try this out with multiple sentences.\n",
        "    \n",
        "</div>"
      ]
    },
    {
      "cell_type": "markdown",
      "source": [
        "**We will predict the last word of every sentences in the PP_test. We will be adding that to the dataframe along with the actucal last word, so that we can compare the predicted and actual last word**"
      ],
      "metadata": {
        "id": "BPAip18zQ7xP"
      }
    },
    {
      "cell_type": "code",
      "source": [
        "# creating predictions from the test set for all the sentences\n",
        "predictions = new_rnn_model.predict(X_pred_padded)\n",
        "predictions.shape"
      ],
      "metadata": {
        "colab": {
          "base_uri": "https://localhost:8080/"
        },
        "outputId": "e83f851b-2b30-4105-c689-f1dd73e9153f",
        "id": "_mjZSB9KQ0Uk"
      },
      "execution_count": 72,
      "outputs": [
        {
          "output_type": "execute_result",
          "data": {
            "text/plain": [
              "(35, 5001)"
            ]
          },
          "metadata": {},
          "execution_count": 72
        }
      ]
    },
    {
      "cell_type": "code",
      "source": [
        "word_to_token = tokenizer_tf.word_index"
      ],
      "metadata": {
        "id": "5ERI9stpQ0Uk"
      },
      "execution_count": 73,
      "outputs": []
    },
    {
      "cell_type": "code",
      "source": [
        "token_to_word = {j:i for i,j in word_to_token.items() }"
      ],
      "metadata": {
        "id": "q6ImLHhDQ0Ul"
      },
      "execution_count": 74,
      "outputs": []
    },
    {
      "cell_type": "code",
      "source": [
        "# finding the predicted last word for each of the sentences\n",
        "predicted_words = []\n",
        "\n",
        "for pred in predictions:\n",
        "  idx = np.argmax(pred)\n",
        "  word = token_to_word[idx]\n",
        "  predicted_words.append(word)\n"
      ],
      "metadata": {
        "id": "IC-OedY-Q0Ul"
      },
      "execution_count": 75,
      "outputs": []
    },
    {
      "cell_type": "code",
      "source": [
        "df_pred['predicted_word'] = predicted_words"
      ],
      "metadata": {
        "id": "cFS_J_IFQ0Ul"
      },
      "execution_count": 76,
      "outputs": []
    },
    {
      "cell_type": "markdown",
      "source": [
        "**Here we have predicted the last word for every sentence, with the help of dataframe we can see the acutual last word and predicted last word**"
      ],
      "metadata": {
        "id": "aOsliiK7Ecz0"
      }
    },
    {
      "cell_type": "code",
      "source": [
        "df_pred.head(33)"
      ],
      "metadata": {
        "colab": {
          "base_uri": "https://localhost:8080/",
          "height": 1000
        },
        "outputId": "116c4ce0-b6ab-4c79-c42f-74c484266fa9",
        "id": "tZx3qUErQ0Ul"
      },
      "execution_count": 77,
      "outputs": [
        {
          "output_type": "execute_result",
          "data": {
            "text/plain": [
              "                                                 Text last_word  \\\n",
              "0   <s> When you make changes please always check ...   working   \n",
              "1                               <s> I found them very   similar   \n",
              "2   <s> Give some overview of what the exercises a...     there   \n",
              "3                               <s> Honestly I do not  remember   \n",
              "4                               <s> Can you check the     video   \n",
              "5                               <s> A&A when you have      time   \n",
              "6      <s> otherwise we will need to start working on        it   \n",
              "7   <s> I do believe these students will know CNNs...       end   \n",
              "8                                        <s> They are     ready   \n",
              "9                 <s> today I have as much as you can    handle   \n",
              "10                              <s> Almost done until      then   \n",
              "11                          <s> ok the video is super      cool   \n",
              "12                                 <s> this is for me       fun   \n",
              "13                                       <s> not much      time   \n",
              "14                                       <s> For main    course   \n",
              "15                                  <s> time to think        of   \n",
              "16                            <s> Could you share the    slides   \n",
              "17                          <s> Or we should write it      here   \n",
              "18                <s> FYI the meeting at 3pm has been     moved   \n",
              "19                                     <s> Hey ski is    closed   \n",
              "20                                       <s> V we can     start   \n",
              "21                                    <s> N just told        me   \n",
              "22                      <s> let's do this if you have      time   \n",
              "23                                       <s> Kids two    things   \n",
              "24                                      <s> about the  schedule   \n",
              "25                                         <s> to the  calendar   \n",
              "26            <s> I pushed very hard for him to start       now   \n",
              "27                                          <s> To be     frank   \n",
              "28                 <s> It is not urgent just catching        up   \n",
              "29                                       <s> here she        is   \n",
              "30                                <s> I will do it in     class   \n",
              "31                               <s> when I looked at        it   \n",
              "32                    <s> I can not exactly figure it       out   \n",
              "\n",
              "                                          text_as_seq y_last_word  \\\n",
              "0   [1, 1064, 261, 24, 1319, 695, 109, 1004, 324, ...       [708]   \n",
              "1                             [1, 49, 168, 193, 1580]       [676]   \n",
              "2   [1, 115, 1250, 533, 532, 9, 828, 86, 858, 1431...       [189]   \n",
              "3                             [1, 1295, 49, 517, 316]       [314]   \n",
              "4                             [1, 2155, 261, 1004, 9]       [321]   \n",
              "5                                [1, 1064, 261, 1676]        [12]   \n",
              "6       [1, 887, 1309, 2109, 299, 455, 302, 708, 231]        [16]   \n",
              "7   [1, 49, 517, 191, 3265, 1320, 2109, 46, 1580, ...        [54]   \n",
              "8                                      [1, 1431, 828]      [1491]   \n",
              "9         [1, 528, 49, 1676, 301, 17, 301, 261, 2155]      [2437]   \n",
              "10                                      [1, 126, 151]       [480]   \n",
              "11                        [1, 609, 9, 321, 174, 1450]       [710]   \n",
              "12                             [1, 53, 174, 409, 169]       [196]   \n",
              "13                                       [1, 316, 17]        [12]   \n",
              "14                                      [1, 409, 202]       [175]   \n",
              "15                                   [1, 12, 455, 32]       [533]   \n",
              "16                              [1, 30, 261, 1596, 9]          []   \n",
              "17                            [1, 599, 1309, 890, 16]       [192]   \n",
              "18                      [1, 9, 2095, 792, 3024, 2786]      [1625]   \n",
              "19                                     [1, 1353, 174]      [3623]   \n",
              "20                              [1, 3422, 1309, 2155]       [302]   \n",
              "21                               [1, 3189, 1838, 508]       [169]   \n",
              "22                       [1, 517, 53, 324, 261, 1676]        [12]   \n",
              "23                                       [1, 279, 34]        [89]   \n",
              "24                                        [1, 764, 9]          []   \n",
              "25                                        [1, 455, 9]          []   \n",
              "26       [1, 49, 3332, 1580, 180, 409, 162, 455, 302]       [369]   \n",
              "27                                      [1, 455, 557]      [1059]   \n",
              "28                      [1, 16, 174, 316, 1838, 4360]       [332]   \n",
              "29                                     [1, 192, 1800]       [174]   \n",
              "30                        [1, 49, 2109, 517, 16, 165]       [737]   \n",
              "31                            [1, 1064, 49, 587, 792]        [16]   \n",
              "32                   [1, 49, 2155, 316, 470, 721, 16]       [255]   \n",
              "\n",
              "   predicted_word  \n",
              "0            </s>  \n",
              "1            good  \n",
              "2            </s>  \n",
              "3            even  \n",
              "4           story  \n",
              "5           never  \n",
              "6             the  \n",
              "7            film  \n",
              "8             its  \n",
              "9            </s>  \n",
              "10           much  \n",
              "11          movie  \n",
              "12            its  \n",
              "13         better  \n",
              "14     characters  \n",
              "15            one  \n",
              "16          story  \n",
              "17           dont  \n",
              "18          movie  \n",
              "19          movie  \n",
              "20           know  \n",
              "21           know  \n",
              "22           </s>  \n",
              "23         people  \n",
              "24           film  \n",
              "25           film  \n",
              "26         finish  \n",
              "27            its  \n",
              "28          movie  \n",
              "29           also  \n",
              "30          movie  \n",
              "31           film  \n",
              "32           dont  "
            ],
            "text/html": [
              "\n",
              "  <div id=\"df-abb18b79-18e5-4bff-b9f9-e4e3b5542b18\">\n",
              "    <div class=\"colab-df-container\">\n",
              "      <div>\n",
              "<style scoped>\n",
              "    .dataframe tbody tr th:only-of-type {\n",
              "        vertical-align: middle;\n",
              "    }\n",
              "\n",
              "    .dataframe tbody tr th {\n",
              "        vertical-align: top;\n",
              "    }\n",
              "\n",
              "    .dataframe thead th {\n",
              "        text-align: right;\n",
              "    }\n",
              "</style>\n",
              "<table border=\"1\" class=\"dataframe\">\n",
              "  <thead>\n",
              "    <tr style=\"text-align: right;\">\n",
              "      <th></th>\n",
              "      <th>Text</th>\n",
              "      <th>last_word</th>\n",
              "      <th>text_as_seq</th>\n",
              "      <th>y_last_word</th>\n",
              "      <th>predicted_word</th>\n",
              "    </tr>\n",
              "  </thead>\n",
              "  <tbody>\n",
              "    <tr>\n",
              "      <th>0</th>\n",
              "      <td>&lt;s&gt; When you make changes please always check ...</td>\n",
              "      <td>working</td>\n",
              "      <td>[1, 1064, 261, 24, 1319, 695, 109, 1004, 324, ...</td>\n",
              "      <td>[708]</td>\n",
              "      <td>&lt;/s&gt;</td>\n",
              "    </tr>\n",
              "    <tr>\n",
              "      <th>1</th>\n",
              "      <td>&lt;s&gt; I found them very</td>\n",
              "      <td>similar</td>\n",
              "      <td>[1, 49, 168, 193, 1580]</td>\n",
              "      <td>[676]</td>\n",
              "      <td>good</td>\n",
              "    </tr>\n",
              "    <tr>\n",
              "      <th>2</th>\n",
              "      <td>&lt;s&gt; Give some overview of what the exercises a...</td>\n",
              "      <td>there</td>\n",
              "      <td>[1, 115, 1250, 533, 532, 9, 828, 86, 858, 1431...</td>\n",
              "      <td>[189]</td>\n",
              "      <td>&lt;/s&gt;</td>\n",
              "    </tr>\n",
              "    <tr>\n",
              "      <th>3</th>\n",
              "      <td>&lt;s&gt; Honestly I do not</td>\n",
              "      <td>remember</td>\n",
              "      <td>[1, 1295, 49, 517, 316]</td>\n",
              "      <td>[314]</td>\n",
              "      <td>even</td>\n",
              "    </tr>\n",
              "    <tr>\n",
              "      <th>4</th>\n",
              "      <td>&lt;s&gt; Can you check the</td>\n",
              "      <td>video</td>\n",
              "      <td>[1, 2155, 261, 1004, 9]</td>\n",
              "      <td>[321]</td>\n",
              "      <td>story</td>\n",
              "    </tr>\n",
              "    <tr>\n",
              "      <th>5</th>\n",
              "      <td>&lt;s&gt; A&amp;A when you have</td>\n",
              "      <td>time</td>\n",
              "      <td>[1, 1064, 261, 1676]</td>\n",
              "      <td>[12]</td>\n",
              "      <td>never</td>\n",
              "    </tr>\n",
              "    <tr>\n",
              "      <th>6</th>\n",
              "      <td>&lt;s&gt; otherwise we will need to start working on</td>\n",
              "      <td>it</td>\n",
              "      <td>[1, 887, 1309, 2109, 299, 455, 302, 708, 231]</td>\n",
              "      <td>[16]</td>\n",
              "      <td>the</td>\n",
              "    </tr>\n",
              "    <tr>\n",
              "      <th>7</th>\n",
              "      <td>&lt;s&gt; I do believe these students will know CNNs...</td>\n",
              "      <td>end</td>\n",
              "      <td>[1, 49, 517, 191, 3265, 1320, 2109, 46, 1580, ...</td>\n",
              "      <td>[54]</td>\n",
              "      <td>film</td>\n",
              "    </tr>\n",
              "    <tr>\n",
              "      <th>8</th>\n",
              "      <td>&lt;s&gt; They are</td>\n",
              "      <td>ready</td>\n",
              "      <td>[1, 1431, 828]</td>\n",
              "      <td>[1491]</td>\n",
              "      <td>its</td>\n",
              "    </tr>\n",
              "    <tr>\n",
              "      <th>9</th>\n",
              "      <td>&lt;s&gt; today I have as much as you can</td>\n",
              "      <td>handle</td>\n",
              "      <td>[1, 528, 49, 1676, 301, 17, 301, 261, 2155]</td>\n",
              "      <td>[2437]</td>\n",
              "      <td>&lt;/s&gt;</td>\n",
              "    </tr>\n",
              "    <tr>\n",
              "      <th>10</th>\n",
              "      <td>&lt;s&gt; Almost done until</td>\n",
              "      <td>then</td>\n",
              "      <td>[1, 126, 151]</td>\n",
              "      <td>[480]</td>\n",
              "      <td>much</td>\n",
              "    </tr>\n",
              "    <tr>\n",
              "      <th>11</th>\n",
              "      <td>&lt;s&gt; ok the video is super</td>\n",
              "      <td>cool</td>\n",
              "      <td>[1, 609, 9, 321, 174, 1450]</td>\n",
              "      <td>[710]</td>\n",
              "      <td>movie</td>\n",
              "    </tr>\n",
              "    <tr>\n",
              "      <th>12</th>\n",
              "      <td>&lt;s&gt; this is for me</td>\n",
              "      <td>fun</td>\n",
              "      <td>[1, 53, 174, 409, 169]</td>\n",
              "      <td>[196]</td>\n",
              "      <td>its</td>\n",
              "    </tr>\n",
              "    <tr>\n",
              "      <th>13</th>\n",
              "      <td>&lt;s&gt; not much</td>\n",
              "      <td>time</td>\n",
              "      <td>[1, 316, 17]</td>\n",
              "      <td>[12]</td>\n",
              "      <td>better</td>\n",
              "    </tr>\n",
              "    <tr>\n",
              "      <th>14</th>\n",
              "      <td>&lt;s&gt; For main</td>\n",
              "      <td>course</td>\n",
              "      <td>[1, 409, 202]</td>\n",
              "      <td>[175]</td>\n",
              "      <td>characters</td>\n",
              "    </tr>\n",
              "    <tr>\n",
              "      <th>15</th>\n",
              "      <td>&lt;s&gt; time to think</td>\n",
              "      <td>of</td>\n",
              "      <td>[1, 12, 455, 32]</td>\n",
              "      <td>[533]</td>\n",
              "      <td>one</td>\n",
              "    </tr>\n",
              "    <tr>\n",
              "      <th>16</th>\n",
              "      <td>&lt;s&gt; Could you share the</td>\n",
              "      <td>slides</td>\n",
              "      <td>[1, 30, 261, 1596, 9]</td>\n",
              "      <td>[]</td>\n",
              "      <td>story</td>\n",
              "    </tr>\n",
              "    <tr>\n",
              "      <th>17</th>\n",
              "      <td>&lt;s&gt; Or we should write it</td>\n",
              "      <td>here</td>\n",
              "      <td>[1, 599, 1309, 890, 16]</td>\n",
              "      <td>[192]</td>\n",
              "      <td>dont</td>\n",
              "    </tr>\n",
              "    <tr>\n",
              "      <th>18</th>\n",
              "      <td>&lt;s&gt; FYI the meeting at 3pm has been</td>\n",
              "      <td>moved</td>\n",
              "      <td>[1, 9, 2095, 792, 3024, 2786]</td>\n",
              "      <td>[1625]</td>\n",
              "      <td>movie</td>\n",
              "    </tr>\n",
              "    <tr>\n",
              "      <th>19</th>\n",
              "      <td>&lt;s&gt; Hey ski is</td>\n",
              "      <td>closed</td>\n",
              "      <td>[1, 1353, 174]</td>\n",
              "      <td>[3623]</td>\n",
              "      <td>movie</td>\n",
              "    </tr>\n",
              "    <tr>\n",
              "      <th>20</th>\n",
              "      <td>&lt;s&gt; V we can</td>\n",
              "      <td>start</td>\n",
              "      <td>[1, 3422, 1309, 2155]</td>\n",
              "      <td>[302]</td>\n",
              "      <td>know</td>\n",
              "    </tr>\n",
              "    <tr>\n",
              "      <th>21</th>\n",
              "      <td>&lt;s&gt; N just told</td>\n",
              "      <td>me</td>\n",
              "      <td>[1, 3189, 1838, 508]</td>\n",
              "      <td>[169]</td>\n",
              "      <td>know</td>\n",
              "    </tr>\n",
              "    <tr>\n",
              "      <th>22</th>\n",
              "      <td>&lt;s&gt; let's do this if you have</td>\n",
              "      <td>time</td>\n",
              "      <td>[1, 517, 53, 324, 261, 1676]</td>\n",
              "      <td>[12]</td>\n",
              "      <td>&lt;/s&gt;</td>\n",
              "    </tr>\n",
              "    <tr>\n",
              "      <th>23</th>\n",
              "      <td>&lt;s&gt; Kids two</td>\n",
              "      <td>things</td>\n",
              "      <td>[1, 279, 34]</td>\n",
              "      <td>[89]</td>\n",
              "      <td>people</td>\n",
              "    </tr>\n",
              "    <tr>\n",
              "      <th>24</th>\n",
              "      <td>&lt;s&gt; about the</td>\n",
              "      <td>schedule</td>\n",
              "      <td>[1, 764, 9]</td>\n",
              "      <td>[]</td>\n",
              "      <td>film</td>\n",
              "    </tr>\n",
              "    <tr>\n",
              "      <th>25</th>\n",
              "      <td>&lt;s&gt; to the</td>\n",
              "      <td>calendar</td>\n",
              "      <td>[1, 455, 9]</td>\n",
              "      <td>[]</td>\n",
              "      <td>film</td>\n",
              "    </tr>\n",
              "    <tr>\n",
              "      <th>26</th>\n",
              "      <td>&lt;s&gt; I pushed very hard for him to start</td>\n",
              "      <td>now</td>\n",
              "      <td>[1, 49, 3332, 1580, 180, 409, 162, 455, 302]</td>\n",
              "      <td>[369]</td>\n",
              "      <td>finish</td>\n",
              "    </tr>\n",
              "    <tr>\n",
              "      <th>27</th>\n",
              "      <td>&lt;s&gt; To be</td>\n",
              "      <td>frank</td>\n",
              "      <td>[1, 455, 557]</td>\n",
              "      <td>[1059]</td>\n",
              "      <td>its</td>\n",
              "    </tr>\n",
              "    <tr>\n",
              "      <th>28</th>\n",
              "      <td>&lt;s&gt; It is not urgent just catching</td>\n",
              "      <td>up</td>\n",
              "      <td>[1, 16, 174, 316, 1838, 4360]</td>\n",
              "      <td>[332]</td>\n",
              "      <td>movie</td>\n",
              "    </tr>\n",
              "    <tr>\n",
              "      <th>29</th>\n",
              "      <td>&lt;s&gt; here she</td>\n",
              "      <td>is</td>\n",
              "      <td>[1, 192, 1800]</td>\n",
              "      <td>[174]</td>\n",
              "      <td>also</td>\n",
              "    </tr>\n",
              "    <tr>\n",
              "      <th>30</th>\n",
              "      <td>&lt;s&gt; I will do it in</td>\n",
              "      <td>class</td>\n",
              "      <td>[1, 49, 2109, 517, 16, 165]</td>\n",
              "      <td>[737]</td>\n",
              "      <td>movie</td>\n",
              "    </tr>\n",
              "    <tr>\n",
              "      <th>31</th>\n",
              "      <td>&lt;s&gt; when I looked at</td>\n",
              "      <td>it</td>\n",
              "      <td>[1, 1064, 49, 587, 792]</td>\n",
              "      <td>[16]</td>\n",
              "      <td>film</td>\n",
              "    </tr>\n",
              "    <tr>\n",
              "      <th>32</th>\n",
              "      <td>&lt;s&gt; I can not exactly figure it</td>\n",
              "      <td>out</td>\n",
              "      <td>[1, 49, 2155, 316, 470, 721, 16]</td>\n",
              "      <td>[255]</td>\n",
              "      <td>dont</td>\n",
              "    </tr>\n",
              "  </tbody>\n",
              "</table>\n",
              "</div>\n",
              "      <button class=\"colab-df-convert\" onclick=\"convertToInteractive('df-abb18b79-18e5-4bff-b9f9-e4e3b5542b18')\"\n",
              "              title=\"Convert this dataframe to an interactive table.\"\n",
              "              style=\"display:none;\">\n",
              "        \n",
              "  <svg xmlns=\"http://www.w3.org/2000/svg\" height=\"24px\"viewBox=\"0 0 24 24\"\n",
              "       width=\"24px\">\n",
              "    <path d=\"M0 0h24v24H0V0z\" fill=\"none\"/>\n",
              "    <path d=\"M18.56 5.44l.94 2.06.94-2.06 2.06-.94-2.06-.94-.94-2.06-.94 2.06-2.06.94zm-11 1L8.5 8.5l.94-2.06 2.06-.94-2.06-.94L8.5 2.5l-.94 2.06-2.06.94zm10 10l.94 2.06.94-2.06 2.06-.94-2.06-.94-.94-2.06-.94 2.06-2.06.94z\"/><path d=\"M17.41 7.96l-1.37-1.37c-.4-.4-.92-.59-1.43-.59-.52 0-1.04.2-1.43.59L10.3 9.45l-7.72 7.72c-.78.78-.78 2.05 0 2.83L4 21.41c.39.39.9.59 1.41.59.51 0 1.02-.2 1.41-.59l7.78-7.78 2.81-2.81c.8-.78.8-2.07 0-2.86zM5.41 20L4 18.59l7.72-7.72 1.47 1.35L5.41 20z\"/>\n",
              "  </svg>\n",
              "      </button>\n",
              "      \n",
              "  <style>\n",
              "    .colab-df-container {\n",
              "      display:flex;\n",
              "      flex-wrap:wrap;\n",
              "      gap: 12px;\n",
              "    }\n",
              "\n",
              "    .colab-df-convert {\n",
              "      background-color: #E8F0FE;\n",
              "      border: none;\n",
              "      border-radius: 50%;\n",
              "      cursor: pointer;\n",
              "      display: none;\n",
              "      fill: #1967D2;\n",
              "      height: 32px;\n",
              "      padding: 0 0 0 0;\n",
              "      width: 32px;\n",
              "    }\n",
              "\n",
              "    .colab-df-convert:hover {\n",
              "      background-color: #E2EBFA;\n",
              "      box-shadow: 0px 1px 2px rgba(60, 64, 67, 0.3), 0px 1px 3px 1px rgba(60, 64, 67, 0.15);\n",
              "      fill: #174EA6;\n",
              "    }\n",
              "\n",
              "    [theme=dark] .colab-df-convert {\n",
              "      background-color: #3B4455;\n",
              "      fill: #D2E3FC;\n",
              "    }\n",
              "\n",
              "    [theme=dark] .colab-df-convert:hover {\n",
              "      background-color: #434B5C;\n",
              "      box-shadow: 0px 1px 3px 1px rgba(0, 0, 0, 0.15);\n",
              "      filter: drop-shadow(0px 1px 2px rgba(0, 0, 0, 0.3));\n",
              "      fill: #FFFFFF;\n",
              "    }\n",
              "  </style>\n",
              "\n",
              "      <script>\n",
              "        const buttonEl =\n",
              "          document.querySelector('#df-abb18b79-18e5-4bff-b9f9-e4e3b5542b18 button.colab-df-convert');\n",
              "        buttonEl.style.display =\n",
              "          google.colab.kernel.accessAllowed ? 'block' : 'none';\n",
              "\n",
              "        async function convertToInteractive(key) {\n",
              "          const element = document.querySelector('#df-abb18b79-18e5-4bff-b9f9-e4e3b5542b18');\n",
              "          const dataTable =\n",
              "            await google.colab.kernel.invokeFunction('convertToInteractive',\n",
              "                                                     [key], {});\n",
              "          if (!dataTable) return;\n",
              "\n",
              "          const docLinkHtml = 'Like what you see? Visit the ' +\n",
              "            '<a target=\"_blank\" href=https://colab.research.google.com/notebooks/data_table.ipynb>data table notebook</a>'\n",
              "            + ' to learn more about interactive tables.';\n",
              "          element.innerHTML = '';\n",
              "          dataTable['output_type'] = 'display_data';\n",
              "          await google.colab.output.renderOutput(dataTable, element);\n",
              "          const docLink = document.createElement('div');\n",
              "          docLink.innerHTML = docLinkHtml;\n",
              "          element.appendChild(docLink);\n",
              "        }\n",
              "      </script>\n",
              "    </div>\n",
              "  </div>\n",
              "  "
            ]
          },
          "metadata": {},
          "execution_count": 77
        }
      ]
    },
    {
      "cell_type": "markdown",
      "source": [
        "**Predicting One sentence at a time**"
      ],
      "metadata": {
        "id": "9QROIxuRR_4T"
      }
    },
    {
      "cell_type": "code",
      "source": [
        "print(f'predicting the next word of the second senetence- \" {df_pred.iloc[1][\"Text\"]} \"')\n",
        "# X_pred_padded[0] # predicting the next word of the first senetence"
      ],
      "metadata": {
        "colab": {
          "base_uri": "https://localhost:8080/"
        },
        "id": "251EVcgszR6E",
        "outputId": "c648d262-4c53-41e5-d6b0-159ba6c53039"
      },
      "execution_count": 85,
      "outputs": [
        {
          "output_type": "stream",
          "name": "stdout",
          "text": [
            "predicting the next word of the second senetence- \" <s> I found them very \"\n"
          ]
        }
      ]
    },
    {
      "cell_type": "code",
      "source": [
        "# changinf the shape of input variable\n",
        "test_x = X_pred_padded[1].reshape(1,-1)\n",
        "test_x.shape"
      ],
      "metadata": {
        "colab": {
          "base_uri": "https://localhost:8080/"
        },
        "id": "-8ebV_NDygBd",
        "outputId": "e091ec67-3467-4d7a-aca4-3ee7b5409c5a"
      },
      "execution_count": 86,
      "outputs": [
        {
          "output_type": "execute_result",
          "data": {
            "text/plain": [
              "(1, 30)"
            ]
          },
          "metadata": {},
          "execution_count": 86
        }
      ]
    },
    {
      "cell_type": "code",
      "source": [
        "print(f'predicting the next word of the second senetence- \" {df_pred.iloc[1][\"Text\"]} \"')\n",
        "print('-----')\n",
        "preds = new_rnn_model.predict(test_x) # getting the list of probabilty\n",
        "idx = np.argmax(preds) # getting the index from the prob districution of the highest\n",
        "print(f\"the predicted next word of the second sentece is : {token_to_word[idx]}, the actual last word is : {df_pred['last_word'][0]}\")"
      ],
      "metadata": {
        "colab": {
          "base_uri": "https://localhost:8080/"
        },
        "id": "gKHht6R0x08_",
        "outputId": "1684fcd5-339c-4f99-f005-4cbd74f13bce"
      },
      "execution_count": 90,
      "outputs": [
        {
          "output_type": "stream",
          "name": "stdout",
          "text": [
            "predicting the next word of the second senetence- \" <s> I found them very \"\n",
            "-----\n",
            "the predicted next word of the second sentece is : good, the actual last word is : working\n"
          ]
        }
      ]
    },
    {
      "cell_type": "markdown",
      "metadata": {
        "id": "appaIgaqHXkj"
      },
      "source": [
        "<div class=\"alert alert-block alert-danger\" style=\"color:black;background-color:#E7F4FA\">\n",
        "\n",
        "**2.4.4** - Do you notice any pattern in the predicted words? Do they seem approriate to the context of the texts as you understand it? What do you attribute this discrepency to? How can you resolve it?\n",
        "\n",
        "Answer in less than 150 words.\n",
        "    \n",
        "</div>"
      ]
    },
    {
      "cell_type": "markdown",
      "metadata": {
        "id": "KKGvrS06HXkj"
      },
      "source": [
        "**Type your answer here**\n",
        "\n",
        "We see that most of the predicted words to be the startig token '<s->\", the reason for that might be the vanishing gradients that we see in RNN models. The fixed weights of RNN layers will add to this. Here, we also have a comparitively small dataset.\n",
        "\n",
        "At the sametime, we also predicted some words which seems appropriate to the context. \n",
        "\n",
        "We could improve this model by solving the issue of vanishing gradients and introducing more parameter which would be a function of the input word and the previous hidden states/"
      ]
    },
    {
      "cell_type": "markdown",
      "metadata": {
        "id": "8uKAkAUYHXkj"
      },
      "source": [
        "<div class=\"alert alert-block alert-danger\" style=\"color:black;background-color:#E7F4FA\">\n",
        "\n",
        "\n",
        "### **2.5 [7 points] TRAINING AND PREDICTING WITH A DIFFERENT DATASET**\n",
        "<br />\n",
        "    \n",
        "**2.5.1** - Read the dataset `cleaned_sarcasm.csv`. This dataset has been preprocessed for you, all you need to do is tokenize, convert to sequence and pad it, similar to 2.2.1, 2.2.2 and 2.3.1.\n",
        "    \n",
        "</div>"
      ]
    },
    {
      "cell_type": "code",
      "execution_count": 91,
      "metadata": {
        "id": "8eVJUn-hHXkj",
        "colab": {
          "base_uri": "https://localhost:8080/",
          "height": 206
        },
        "outputId": "1e88915e-51bd-4e9c-8f85-173dd9669f54"
      },
      "outputs": [
        {
          "output_type": "execute_result",
          "data": {
            "text/plain": [
              "                                                text\n",
              "0  you do know west teams play against west teams...\n",
              "1  they were underdogs earlier today but since gr...\n",
              "2  you dont have to you have a good build buy gam...\n",
              "3  i think a significant amount would be against ...\n",
              "4  ayy bb wassup it makes a bit more sense in con..."
            ],
            "text/html": [
              "\n",
              "  <div id=\"df-7f55984c-e882-450c-946e-3a7a17ae5977\">\n",
              "    <div class=\"colab-df-container\">\n",
              "      <div>\n",
              "<style scoped>\n",
              "    .dataframe tbody tr th:only-of-type {\n",
              "        vertical-align: middle;\n",
              "    }\n",
              "\n",
              "    .dataframe tbody tr th {\n",
              "        vertical-align: top;\n",
              "    }\n",
              "\n",
              "    .dataframe thead th {\n",
              "        text-align: right;\n",
              "    }\n",
              "</style>\n",
              "<table border=\"1\" class=\"dataframe\">\n",
              "  <thead>\n",
              "    <tr style=\"text-align: right;\">\n",
              "      <th></th>\n",
              "      <th>text</th>\n",
              "    </tr>\n",
              "  </thead>\n",
              "  <tbody>\n",
              "    <tr>\n",
              "      <th>0</th>\n",
              "      <td>you do know west teams play against west teams...</td>\n",
              "    </tr>\n",
              "    <tr>\n",
              "      <th>1</th>\n",
              "      <td>they were underdogs earlier today but since gr...</td>\n",
              "    </tr>\n",
              "    <tr>\n",
              "      <th>2</th>\n",
              "      <td>you dont have to you have a good build buy gam...</td>\n",
              "    </tr>\n",
              "    <tr>\n",
              "      <th>3</th>\n",
              "      <td>i think a significant amount would be against ...</td>\n",
              "    </tr>\n",
              "    <tr>\n",
              "      <th>4</th>\n",
              "      <td>ayy bb wassup it makes a bit more sense in con...</td>\n",
              "    </tr>\n",
              "  </tbody>\n",
              "</table>\n",
              "</div>\n",
              "      <button class=\"colab-df-convert\" onclick=\"convertToInteractive('df-7f55984c-e882-450c-946e-3a7a17ae5977')\"\n",
              "              title=\"Convert this dataframe to an interactive table.\"\n",
              "              style=\"display:none;\">\n",
              "        \n",
              "  <svg xmlns=\"http://www.w3.org/2000/svg\" height=\"24px\"viewBox=\"0 0 24 24\"\n",
              "       width=\"24px\">\n",
              "    <path d=\"M0 0h24v24H0V0z\" fill=\"none\"/>\n",
              "    <path d=\"M18.56 5.44l.94 2.06.94-2.06 2.06-.94-2.06-.94-.94-2.06-.94 2.06-2.06.94zm-11 1L8.5 8.5l.94-2.06 2.06-.94-2.06-.94L8.5 2.5l-.94 2.06-2.06.94zm10 10l.94 2.06.94-2.06 2.06-.94-2.06-.94-.94-2.06-.94 2.06-2.06.94z\"/><path d=\"M17.41 7.96l-1.37-1.37c-.4-.4-.92-.59-1.43-.59-.52 0-1.04.2-1.43.59L10.3 9.45l-7.72 7.72c-.78.78-.78 2.05 0 2.83L4 21.41c.39.39.9.59 1.41.59.51 0 1.02-.2 1.41-.59l7.78-7.78 2.81-2.81c.8-.78.8-2.07 0-2.86zM5.41 20L4 18.59l7.72-7.72 1.47 1.35L5.41 20z\"/>\n",
              "  </svg>\n",
              "      </button>\n",
              "      \n",
              "  <style>\n",
              "    .colab-df-container {\n",
              "      display:flex;\n",
              "      flex-wrap:wrap;\n",
              "      gap: 12px;\n",
              "    }\n",
              "\n",
              "    .colab-df-convert {\n",
              "      background-color: #E8F0FE;\n",
              "      border: none;\n",
              "      border-radius: 50%;\n",
              "      cursor: pointer;\n",
              "      display: none;\n",
              "      fill: #1967D2;\n",
              "      height: 32px;\n",
              "      padding: 0 0 0 0;\n",
              "      width: 32px;\n",
              "    }\n",
              "\n",
              "    .colab-df-convert:hover {\n",
              "      background-color: #E2EBFA;\n",
              "      box-shadow: 0px 1px 2px rgba(60, 64, 67, 0.3), 0px 1px 3px 1px rgba(60, 64, 67, 0.15);\n",
              "      fill: #174EA6;\n",
              "    }\n",
              "\n",
              "    [theme=dark] .colab-df-convert {\n",
              "      background-color: #3B4455;\n",
              "      fill: #D2E3FC;\n",
              "    }\n",
              "\n",
              "    [theme=dark] .colab-df-convert:hover {\n",
              "      background-color: #434B5C;\n",
              "      box-shadow: 0px 1px 3px 1px rgba(0, 0, 0, 0.15);\n",
              "      filter: drop-shadow(0px 1px 2px rgba(0, 0, 0, 0.3));\n",
              "      fill: #FFFFFF;\n",
              "    }\n",
              "  </style>\n",
              "\n",
              "      <script>\n",
              "        const buttonEl =\n",
              "          document.querySelector('#df-7f55984c-e882-450c-946e-3a7a17ae5977 button.colab-df-convert');\n",
              "        buttonEl.style.display =\n",
              "          google.colab.kernel.accessAllowed ? 'block' : 'none';\n",
              "\n",
              "        async function convertToInteractive(key) {\n",
              "          const element = document.querySelector('#df-7f55984c-e882-450c-946e-3a7a17ae5977');\n",
              "          const dataTable =\n",
              "            await google.colab.kernel.invokeFunction('convertToInteractive',\n",
              "                                                     [key], {});\n",
              "          if (!dataTable) return;\n",
              "\n",
              "          const docLinkHtml = 'Like what you see? Visit the ' +\n",
              "            '<a target=\"_blank\" href=https://colab.research.google.com/notebooks/data_table.ipynb>data table notebook</a>'\n",
              "            + ' to learn more about interactive tables.';\n",
              "          element.innerHTML = '';\n",
              "          dataTable['output_type'] = 'display_data';\n",
              "          await google.colab.output.renderOutput(dataTable, element);\n",
              "          const docLink = document.createElement('div');\n",
              "          docLink.innerHTML = docLinkHtml;\n",
              "          element.appendChild(docLink);\n",
              "        }\n",
              "      </script>\n",
              "    </div>\n",
              "  </div>\n",
              "  "
            ]
          },
          "metadata": {},
          "execution_count": 91
        }
      ],
      "source": [
        "# Read the data\n",
        "file_path = \"https://drive.google.com/uc?id=1kHZIXEcf_t0t2GcxtafF3mL0kuoC4etf&export=download\"\n",
        "df_sarcasm = pd.read_csv(file_path)\n",
        "df_sarcasm.head()"
      ]
    },
    {
      "cell_type": "code",
      "source": [
        "print(f'Shape of new Datafame(sarcasm) {df_sarcasm.shape}')"
      ],
      "metadata": {
        "colab": {
          "base_uri": "https://localhost:8080/"
        },
        "id": "6ujxhqDCWw_Q",
        "outputId": "1d9a6757-45c7-4892-c46c-1e1a56f195ac"
      },
      "execution_count": 92,
      "outputs": [
        {
          "output_type": "stream",
          "name": "stdout",
          "text": [
            "Shape of new Datafame(sarcasm) (289506, 1)\n"
          ]
        }
      ]
    },
    {
      "cell_type": "code",
      "execution_count": 93,
      "metadata": {
        "id": "0RMbwMBOHXkj",
        "colab": {
          "base_uri": "https://localhost:8080/",
          "height": 300
        },
        "outputId": "ec7a2121-8306-44bb-c7c8-cdd4e5dfb3a7"
      },
      "outputs": [
        {
          "output_type": "execute_result",
          "data": {
            "text/plain": [
              "                                                text  \\\n",
              "0  you do know west teams play against west teams...   \n",
              "1  they were underdogs earlier today but since gr...   \n",
              "2  you dont have to you have a good build buy gam...   \n",
              "3  i think a significant amount would be against ...   \n",
              "4  ayy bb wassup it makes a bit more sense in con...   \n",
              "5  because its what really bothers him and its a ...   \n",
              "6  because theyre not real human beings with actu...   \n",
              "7  tbh that giant dent was probably made by the g...   \n",
              "\n",
              "                                              tokens  \n",
              "0    [261, 517, 46, 1071, 194, 1071, 592, 2573, 133]  \n",
              "1  [1431, 739, 654, 528, 222, 116, 53, 2444, 9, 3...  \n",
              "2  [261, 29, 1676, 455, 261, 1676, 214, 8, 1784, ...  \n",
              "3  [49, 32, 214, 2387, 925, 11, 557, 2581, 2543, ...  \n",
              "4            [16, 65, 214, 134, 592, 198, 165, 1732]  \n",
              "5  [1536, 7, 532, 15, 162, 86, 7, 214, 2019, 533,...  \n",
              "6  [1536, 423, 316, 66, 317, 2908, 421, 647, 1297...  \n",
              "7           [143, 1322, 539, 127, 26, 1257, 9, 1036]  "
            ],
            "text/html": [
              "\n",
              "  <div id=\"df-e322b607-6193-4141-a380-8d993fde64d6\">\n",
              "    <div class=\"colab-df-container\">\n",
              "      <div>\n",
              "<style scoped>\n",
              "    .dataframe tbody tr th:only-of-type {\n",
              "        vertical-align: middle;\n",
              "    }\n",
              "\n",
              "    .dataframe tbody tr th {\n",
              "        vertical-align: top;\n",
              "    }\n",
              "\n",
              "    .dataframe thead th {\n",
              "        text-align: right;\n",
              "    }\n",
              "</style>\n",
              "<table border=\"1\" class=\"dataframe\">\n",
              "  <thead>\n",
              "    <tr style=\"text-align: right;\">\n",
              "      <th></th>\n",
              "      <th>text</th>\n",
              "      <th>tokens</th>\n",
              "    </tr>\n",
              "  </thead>\n",
              "  <tbody>\n",
              "    <tr>\n",
              "      <th>0</th>\n",
              "      <td>you do know west teams play against west teams...</td>\n",
              "      <td>[261, 517, 46, 1071, 194, 1071, 592, 2573, 133]</td>\n",
              "    </tr>\n",
              "    <tr>\n",
              "      <th>1</th>\n",
              "      <td>they were underdogs earlier today but since gr...</td>\n",
              "      <td>[1431, 739, 654, 528, 222, 116, 53, 2444, 9, 3...</td>\n",
              "    </tr>\n",
              "    <tr>\n",
              "      <th>2</th>\n",
              "      <td>you dont have to you have a good build buy gam...</td>\n",
              "      <td>[261, 29, 1676, 455, 261, 1676, 214, 8, 1784, ...</td>\n",
              "    </tr>\n",
              "    <tr>\n",
              "      <th>3</th>\n",
              "      <td>i think a significant amount would be against ...</td>\n",
              "      <td>[49, 32, 214, 2387, 925, 11, 557, 2581, 2543, ...</td>\n",
              "    </tr>\n",
              "    <tr>\n",
              "      <th>4</th>\n",
              "      <td>ayy bb wassup it makes a bit more sense in con...</td>\n",
              "      <td>[16, 65, 214, 134, 592, 198, 165, 1732]</td>\n",
              "    </tr>\n",
              "    <tr>\n",
              "      <th>5</th>\n",
              "      <td>because its what really bothers him and its a ...</td>\n",
              "      <td>[1536, 7, 532, 15, 162, 86, 7, 214, 2019, 533,...</td>\n",
              "    </tr>\n",
              "    <tr>\n",
              "      <th>6</th>\n",
              "      <td>because theyre not real human beings with actu...</td>\n",
              "      <td>[1536, 423, 316, 66, 317, 2908, 421, 647, 1297...</td>\n",
              "    </tr>\n",
              "    <tr>\n",
              "      <th>7</th>\n",
              "      <td>tbh that giant dent was probably made by the g...</td>\n",
              "      <td>[143, 1322, 539, 127, 26, 1257, 9, 1036]</td>\n",
              "    </tr>\n",
              "  </tbody>\n",
              "</table>\n",
              "</div>\n",
              "      <button class=\"colab-df-convert\" onclick=\"convertToInteractive('df-e322b607-6193-4141-a380-8d993fde64d6')\"\n",
              "              title=\"Convert this dataframe to an interactive table.\"\n",
              "              style=\"display:none;\">\n",
              "        \n",
              "  <svg xmlns=\"http://www.w3.org/2000/svg\" height=\"24px\"viewBox=\"0 0 24 24\"\n",
              "       width=\"24px\">\n",
              "    <path d=\"M0 0h24v24H0V0z\" fill=\"none\"/>\n",
              "    <path d=\"M18.56 5.44l.94 2.06.94-2.06 2.06-.94-2.06-.94-.94-2.06-.94 2.06-2.06.94zm-11 1L8.5 8.5l.94-2.06 2.06-.94-2.06-.94L8.5 2.5l-.94 2.06-2.06.94zm10 10l.94 2.06.94-2.06 2.06-.94-2.06-.94-.94-2.06-.94 2.06-2.06.94z\"/><path d=\"M17.41 7.96l-1.37-1.37c-.4-.4-.92-.59-1.43-.59-.52 0-1.04.2-1.43.59L10.3 9.45l-7.72 7.72c-.78.78-.78 2.05 0 2.83L4 21.41c.39.39.9.59 1.41.59.51 0 1.02-.2 1.41-.59l7.78-7.78 2.81-2.81c.8-.78.8-2.07 0-2.86zM5.41 20L4 18.59l7.72-7.72 1.47 1.35L5.41 20z\"/>\n",
              "  </svg>\n",
              "      </button>\n",
              "      \n",
              "  <style>\n",
              "    .colab-df-container {\n",
              "      display:flex;\n",
              "      flex-wrap:wrap;\n",
              "      gap: 12px;\n",
              "    }\n",
              "\n",
              "    .colab-df-convert {\n",
              "      background-color: #E8F0FE;\n",
              "      border: none;\n",
              "      border-radius: 50%;\n",
              "      cursor: pointer;\n",
              "      display: none;\n",
              "      fill: #1967D2;\n",
              "      height: 32px;\n",
              "      padding: 0 0 0 0;\n",
              "      width: 32px;\n",
              "    }\n",
              "\n",
              "    .colab-df-convert:hover {\n",
              "      background-color: #E2EBFA;\n",
              "      box-shadow: 0px 1px 2px rgba(60, 64, 67, 0.3), 0px 1px 3px 1px rgba(60, 64, 67, 0.15);\n",
              "      fill: #174EA6;\n",
              "    }\n",
              "\n",
              "    [theme=dark] .colab-df-convert {\n",
              "      background-color: #3B4455;\n",
              "      fill: #D2E3FC;\n",
              "    }\n",
              "\n",
              "    [theme=dark] .colab-df-convert:hover {\n",
              "      background-color: #434B5C;\n",
              "      box-shadow: 0px 1px 3px 1px rgba(0, 0, 0, 0.15);\n",
              "      filter: drop-shadow(0px 1px 2px rgba(0, 0, 0, 0.3));\n",
              "      fill: #FFFFFF;\n",
              "    }\n",
              "  </style>\n",
              "\n",
              "      <script>\n",
              "        const buttonEl =\n",
              "          document.querySelector('#df-e322b607-6193-4141-a380-8d993fde64d6 button.colab-df-convert');\n",
              "        buttonEl.style.display =\n",
              "          google.colab.kernel.accessAllowed ? 'block' : 'none';\n",
              "\n",
              "        async function convertToInteractive(key) {\n",
              "          const element = document.querySelector('#df-e322b607-6193-4141-a380-8d993fde64d6');\n",
              "          const dataTable =\n",
              "            await google.colab.kernel.invokeFunction('convertToInteractive',\n",
              "                                                     [key], {});\n",
              "          if (!dataTable) return;\n",
              "\n",
              "          const docLinkHtml = 'Like what you see? Visit the ' +\n",
              "            '<a target=\"_blank\" href=https://colab.research.google.com/notebooks/data_table.ipynb>data table notebook</a>'\n",
              "            + ' to learn more about interactive tables.';\n",
              "          element.innerHTML = '';\n",
              "          dataTable['output_type'] = 'display_data';\n",
              "          await google.colab.output.renderOutput(dataTable, element);\n",
              "          const docLink = document.createElement('div');\n",
              "          docLink.innerHTML = docLinkHtml;\n",
              "          element.appendChild(docLink);\n",
              "        }\n",
              "      </script>\n",
              "    </div>\n",
              "  </div>\n",
              "  "
            ]
          },
          "metadata": {},
          "execution_count": 93
        }
      ],
      "source": [
        "# Tokenize the data\n",
        "df_sarcasm['tokens'] = tokenizer_tf.texts_to_sequences(df_sarcasm['text'])\n",
        "df_sarcasm.head(8)"
      ]
    },
    {
      "cell_type": "code",
      "source": [
        "data = tf.keras.preprocessing.sequence.pad_sequences(df_sarcasm['tokens'],maxlen=31,padding='post')\n",
        "data.shape"
      ],
      "metadata": {
        "colab": {
          "base_uri": "https://localhost:8080/"
        },
        "id": "K2dhMsFJVepk",
        "outputId": "169be26d-af20-49b4-a793-85b1e7081736"
      },
      "execution_count": 95,
      "outputs": [
        {
          "output_type": "execute_result",
          "data": {
            "text/plain": [
              "(289506, 31)"
            ]
          },
          "metadata": {},
          "execution_count": 95
        }
      ]
    },
    {
      "cell_type": "code",
      "source": [
        "df_sarcasm['text'][0]"
      ],
      "metadata": {
        "colab": {
          "base_uri": "https://localhost:8080/",
          "height": 35
        },
        "id": "9OF-7G3JXL_Q",
        "outputId": "2039709f-e647-4812-f596-b7503933b535"
      },
      "execution_count": 96,
      "outputs": [
        {
          "output_type": "execute_result",
          "data": {
            "text/plain": [
              "'you do know west teams play against west teams more than east teams right'"
            ],
            "application/vnd.google.colaboratory.intrinsic+json": {
              "type": "string"
            }
          },
          "metadata": {},
          "execution_count": 96
        }
      ]
    },
    {
      "cell_type": "code",
      "source": [
        "data[0]"
      ],
      "metadata": {
        "colab": {
          "base_uri": "https://localhost:8080/"
        },
        "id": "QYyaRc4qW_qC",
        "outputId": "304cbfac-d438-4097-acc6-5338344d876a"
      },
      "execution_count": 97,
      "outputs": [
        {
          "output_type": "execute_result",
          "data": {
            "text/plain": [
              "array([ 261,  517,   46, 1071,  194, 1071,  592, 2573,  133,    0,    0,\n",
              "          0,    0,    0,    0,    0,    0,    0,    0,    0,    0,    0,\n",
              "          0,    0,    0,    0,    0,    0,    0,    0,    0], dtype=int32)"
            ]
          },
          "metadata": {},
          "execution_count": 97
        }
      ]
    },
    {
      "cell_type": "code",
      "source": [
        "#creating X and Y \n",
        "X = data[:,0:30]\n",
        "y = data[:,1:31]"
      ],
      "metadata": {
        "id": "wdA8qVT8XyMp"
      },
      "execution_count": 98,
      "outputs": []
    },
    {
      "cell_type": "code",
      "source": [
        "print(f'example of train_x {X[0]}')\n",
        "print(f'example of train_y {y[0]}')\n",
        "# we can see that the elements in y, is the next element in X"
      ],
      "metadata": {
        "colab": {
          "base_uri": "https://localhost:8080/"
        },
        "id": "Og_WucREYEpn",
        "outputId": "38af2ebe-dbf6-432c-f3dc-dc4a7e38cbbb"
      },
      "execution_count": 99,
      "outputs": [
        {
          "output_type": "stream",
          "name": "stdout",
          "text": [
            "example of train_x [ 261  517   46 1071  194 1071  592 2573  133    0    0    0    0    0\n",
            "    0    0    0    0    0    0    0    0    0    0    0    0    0    0\n",
            "    0    0]\n",
            "example of train_y [ 517   46 1071  194 1071  592 2573  133    0    0    0    0    0    0\n",
            "    0    0    0    0    0    0    0    0    0    0    0    0    0    0\n",
            "    0    0]\n"
          ]
        }
      ]
    },
    {
      "cell_type": "markdown",
      "metadata": {
        "id": "EDo-fIiXHXkk"
      },
      "source": [
        "<div class=\"alert alert-block alert-danger\" style=\"color:black;background-color:#E7F4FA\">\n",
        "\n",
        "**2.5.2** - Train your RNN model with this data and plot the train and validation trace plot. This part is similar to 2.3.2, 2.3.3 and 2.3.4.\n",
        "    \n",
        "</div>"
      ]
    },
    {
      "cell_type": "code",
      "execution_count": 100,
      "metadata": {
        "id": "41SMwk6BHXkk"
      },
      "outputs": [],
      "source": [
        "# Your code here\n",
        "inputs = Input(shape=(30,))\n",
        "embedding = Embedding(input_dim= vocab_size+1,output_dim= 300,mask_zero =True)(inputs)\n",
        "rnn_layer = SimpleRNN(50,input_shape=(300,30), return_sequences=True)(embedding) # we can have the input_shape as (300,) as well - maybe (300,None) might also work\n",
        "outputs = Dense(vocab_size+1,activation='softmax')(rnn_layer)\n",
        "rnn_model_sarcasm = Model(inputs=inputs,outputs=outputs)\n"
      ]
    },
    {
      "cell_type": "code",
      "source": [
        "rnn_model_sarcasm.compile(loss= tf.keras.losses.SparseCategoricalCrossentropy(),optimizer='adam',\n",
        "                            metrics= ['accuracy'])"
      ],
      "metadata": {
        "id": "N7HdpRP4cEi-"
      },
      "execution_count": 101,
      "outputs": []
    },
    {
      "cell_type": "code",
      "source": [
        "history_sarcasm= rnn_model_sarcasm.fit(X,y,epochs=20,validation_split=0.2,batch_size=512)"
      ],
      "metadata": {
        "colab": {
          "base_uri": "https://localhost:8080/"
        },
        "id": "gioj29QQgo_r",
        "outputId": "078eded0-8c3e-414a-d37c-6ac03b597e99"
      },
      "execution_count": null,
      "outputs": [
        {
          "output_type": "stream",
          "name": "stdout",
          "text": [
            "Epoch 1/20\n",
            "453/453 [==============================] - 42s 90ms/step - loss: 2.6749 - accuracy: 0.0693 - val_loss: 2.6890 - val_accuracy: 0.0727\n",
            "Epoch 2/20\n",
            "453/453 [==============================] - 41s 91ms/step - loss: 2.4514 - accuracy: 0.0992 - val_loss: 2.5156 - val_accuracy: 0.1172\n",
            "Epoch 3/20\n",
            "453/453 [==============================] - 40s 87ms/step - loss: 2.3135 - accuracy: 0.1392 - val_loss: 2.4150 - val_accuracy: 0.1385\n",
            "Epoch 4/20\n",
            "453/453 [==============================] - 39s 87ms/step - loss: 2.2434 - accuracy: 0.1521 - val_loss: 2.3657 - val_accuracy: 0.1513\n",
            "Epoch 5/20\n",
            "453/453 [==============================] - 39s 87ms/step - loss: 2.1958 - accuracy: 0.1665 - val_loss: 2.3296 - val_accuracy: 0.1618\n",
            "Epoch 6/20\n",
            "453/453 [==============================] - 40s 87ms/step - loss: 2.1681 - accuracy: 0.1731 - val_loss: 2.3114 - val_accuracy: 0.1646\n",
            "Epoch 7/20\n",
            "453/453 [==============================] - 40s 87ms/step - loss: 2.1509 - accuracy: 0.1758 - val_loss: 2.2992 - val_accuracy: 0.1667\n",
            "Epoch 8/20\n",
            "453/453 [==============================] - 39s 87ms/step - loss: 2.1378 - accuracy: 0.1778 - val_loss: 2.2890 - val_accuracy: 0.1682\n",
            "Epoch 9/20\n",
            "453/453 [==============================] - 39s 87ms/step - loss: 2.1276 - accuracy: 0.1794 - val_loss: 2.2823 - val_accuracy: 0.1691\n",
            "Epoch 10/20\n",
            "453/453 [==============================] - 39s 87ms/step - loss: 2.1191 - accuracy: 0.1805 - val_loss: 2.2756 - val_accuracy: 0.1704\n",
            "Epoch 11/20\n",
            "453/453 [==============================] - 39s 87ms/step - loss: 2.1119 - accuracy: 0.1816 - val_loss: 2.2713 - val_accuracy: 0.1711\n",
            "Epoch 12/20\n",
            "453/453 [==============================] - 39s 87ms/step - loss: 2.1058 - accuracy: 0.1827 - val_loss: 2.2666 - val_accuracy: 0.1723\n",
            "Epoch 13/20\n",
            "453/453 [==============================] - 39s 87ms/step - loss: 2.1004 - accuracy: 0.1836 - val_loss: 2.2629 - val_accuracy: 0.1729\n",
            "Epoch 14/20\n",
            "453/453 [==============================] - 39s 87ms/step - loss: 2.0955 - accuracy: 0.1844 - val_loss: 2.2597 - val_accuracy: 0.1738\n",
            "Epoch 15/20\n",
            "453/453 [==============================] - 39s 87ms/step - loss: 2.0913 - accuracy: 0.1851 - val_loss: 2.2571 - val_accuracy: 0.1739\n",
            "Epoch 16/20\n",
            "453/453 [==============================] - 39s 86ms/step - loss: 2.0875 - accuracy: 0.1856 - val_loss: 2.2547 - val_accuracy: 0.1742\n",
            "Epoch 17/20\n",
            "453/453 [==============================] - 39s 87ms/step - loss: 2.0840 - accuracy: 0.1861 - val_loss: 2.2527 - val_accuracy: 0.1747\n",
            "Epoch 18/20\n",
            "453/453 [==============================] - 39s 86ms/step - loss: 2.0811 - accuracy: 0.1865 - val_loss: 2.2521 - val_accuracy: 0.1740\n",
            "Epoch 19/20\n",
            "453/453 [==============================] - 40s 88ms/step - loss: 2.0783 - accuracy: 0.1869 - val_loss: 2.2487 - val_accuracy: 0.1752\n",
            "Epoch 20/20\n",
            "163/453 [=========>....................] - ETA: 23s - loss: 2.0762 - accuracy: 0.1876"
          ]
        }
      ]
    },
    {
      "cell_type": "code",
      "source": [
        "history_sarcasm= rnn_model_sarcasm.fit(X,y,epochs=20,validation_split=0.2,batch_size=512)"
      ],
      "metadata": {
        "colab": {
          "base_uri": "https://localhost:8080/"
        },
        "id": "DKKurLYNcb9d",
        "outputId": "f2769af1-a50b-4d15-8b3f-fc076e9e1b97"
      },
      "execution_count": null,
      "outputs": [
        {
          "output_type": "stream",
          "name": "stdout",
          "text": [
            "Epoch 1/20\n",
            "453/453 [==============================] - 39s 85ms/step - loss: 2.5142 - accuracy: 0.0892 - val_loss: 2.5450 - val_accuracy: 0.1027\n",
            "Epoch 2/20\n",
            "453/453 [==============================] - 38s 84ms/step - loss: 2.3282 - accuracy: 0.1342 - val_loss: 2.4194 - val_accuracy: 0.1403\n",
            "Epoch 3/20\n",
            "453/453 [==============================] - 38s 83ms/step - loss: 2.2432 - accuracy: 0.1547 - val_loss: 2.3632 - val_accuracy: 0.1556\n",
            "Epoch 4/20\n",
            "453/453 [==============================] - 37s 83ms/step - loss: 2.1964 - accuracy: 0.1674 - val_loss: 2.3322 - val_accuracy: 0.1605\n",
            "Epoch 5/20\n",
            "453/453 [==============================] - 38s 83ms/step - loss: 2.1707 - accuracy: 0.1719 - val_loss: 2.3154 - val_accuracy: 0.1633\n",
            "Epoch 6/20\n",
            "453/453 [==============================] - 38s 83ms/step - loss: 2.1533 - accuracy: 0.1749 - val_loss: 2.3015 - val_accuracy: 0.1657\n",
            "Epoch 7/20\n",
            "453/453 [==============================] - 38s 85ms/step - loss: 2.1401 - accuracy: 0.1772 - val_loss: 2.2915 - val_accuracy: 0.1673\n",
            "Epoch 8/20\n",
            "453/453 [==============================] - 37s 83ms/step - loss: 2.1295 - accuracy: 0.1789 - val_loss: 2.2837 - val_accuracy: 0.1686\n",
            "Epoch 9/20\n",
            "453/453 [==============================] - 37s 83ms/step - loss: 2.1209 - accuracy: 0.1802 - val_loss: 2.2772 - val_accuracy: 0.1698\n",
            "Epoch 10/20\n",
            "453/453 [==============================] - 37s 82ms/step - loss: 2.1138 - accuracy: 0.1815 - val_loss: 2.2726 - val_accuracy: 0.1703\n",
            "Epoch 11/20\n",
            "453/453 [==============================] - 37s 82ms/step - loss: 2.1079 - accuracy: 0.1822 - val_loss: 2.2683 - val_accuracy: 0.1714\n",
            "Epoch 12/20\n",
            "453/453 [==============================] - 38s 83ms/step - loss: 2.1027 - accuracy: 0.1832 - val_loss: 2.2651 - val_accuracy: 0.1723\n",
            "Epoch 13/20\n",
            "453/453 [==============================] - 38s 83ms/step - loss: 2.0982 - accuracy: 0.1839 - val_loss: 2.2619 - val_accuracy: 0.1722\n",
            "Epoch 14/20\n",
            "453/453 [==============================] - 38s 83ms/step - loss: 2.0940 - accuracy: 0.1845 - val_loss: 2.2595 - val_accuracy: 0.1728\n",
            "Epoch 15/20\n",
            "453/453 [==============================] - 38s 83ms/step - loss: 2.0903 - accuracy: 0.1851 - val_loss: 2.2574 - val_accuracy: 0.1731\n",
            "Epoch 16/20\n",
            "453/453 [==============================] - 38s 84ms/step - loss: 2.0869 - accuracy: 0.1857 - val_loss: 2.2546 - val_accuracy: 0.1742\n",
            "Epoch 17/20\n",
            "453/453 [==============================] - 38s 84ms/step - loss: 2.0838 - accuracy: 0.1863 - val_loss: 2.2527 - val_accuracy: 0.1747\n",
            "Epoch 18/20\n",
            "453/453 [==============================] - 38s 83ms/step - loss: 2.0810 - accuracy: 0.1868 - val_loss: 2.2508 - val_accuracy: 0.1748\n",
            "Epoch 19/20\n",
            "453/453 [==============================] - 38s 85ms/step - loss: 2.0783 - accuracy: 0.1872 - val_loss: 2.2494 - val_accuracy: 0.1754\n",
            "Epoch 20/20\n",
            "453/453 [==============================] - 39s 85ms/step - loss: 2.0759 - accuracy: 0.1875 - val_loss: 2.2476 - val_accuracy: 0.1755\n"
          ]
        }
      ]
    },
    {
      "cell_type": "code",
      "source": [
        "plt.figure(figsize=(13,10))\n",
        "\n",
        "plt.plot(list(range(no_of_epochs)), history_sarcasm.history['loss'], label='Train loss')\n",
        "plt.plot(list(range(no_of_epochs)), history_sarcasm.history['val_loss'], label='Val loss')\n",
        "plt.xlabel('epochs')\n",
        "plt.legend()\n",
        "plt.ylabel('loss')\n",
        "plt.show();"
      ],
      "metadata": {
        "id": "Vux4DtDAGbqn"
      },
      "execution_count": null,
      "outputs": []
    },
    {
      "cell_type": "code",
      "source": [
        "plt.figure(figsize=(13,10))\n",
        "\n",
        "plt.plot(list(range(no_of_epochs)), history_sarcasm.history['loss'], label='Train loss')\n",
        "plt.plot(list(range(no_of_epochs)), history_sarcasm.history['val_loss'], label='Val loss')\n",
        "plt.xlabel('epochs')\n",
        "plt.legend()\n",
        "plt.ylabel('loss')\n",
        "plt.show();"
      ],
      "metadata": {
        "id": "ZGqQLa5UdZJF",
        "colab": {
          "base_uri": "https://localhost:8080/",
          "height": 606
        },
        "outputId": "a1bfbb4c-07e5-40d7-8175-40433c014ea2"
      },
      "execution_count": null,
      "outputs": [
        {
          "output_type": "display_data",
          "data": {
            "text/plain": [
              "<Figure size 936x720 with 1 Axes>"
            ],
            "image/png": "[encoded data removed]"
          },
          "metadata": {
            "needs_background": "light"
          }
        }
      ]
    },
    {
      "cell_type": "markdown",
      "metadata": {
        "id": "ZpqpMMQTHXkk"
      },
      "source": [
        "<div class=\"alert alert-block alert-danger\" style=\"color:black;background-color:#E7F4FA\">\n",
        "\n",
        "**2.5.3** - Repeat 2.4.1, 2.4.2 and 2.4.3 with the RNN model trained using the new dataset.\n",
        "\n",
        "</div>"
      ]
    },
    {
      "cell_type": "code",
      "source": [
        "new_inputs = Input(shape=(30,))\n",
        "new_embedding = Embedding(input_dim= vocab_size+1, output_dim = 300, mask_zero =True)(new_inputs)\n",
        "new_simple_rnn = SimpleRNN(50,input_shape= (300,),name ='rnn_layer')(new_embedding) #without return_sequences= True, which gives hidden_state of only the last element\n",
        "new_outputs = Dense(vocab_size+1,activation= 'softmax',name ='final_dense_layer'  )(new_simple_rnn)\n",
        "\n",
        "new_rnn_model = Model(inputs=new_inputs,outputs=new_outputs)\n",
        "\n",
        "new_rnn_model.summary()"
      ],
      "metadata": {
        "colab": {
          "base_uri": "https://localhost:8080/"
        },
        "id": "ddBPtnisefmK",
        "outputId": "2294f4fa-67f3-4842-cad9-0e03536a55ed"
      },
      "execution_count": null,
      "outputs": [
        {
          "output_type": "stream",
          "name": "stdout",
          "text": [
            "Model: \"model_1\"\n",
            "_________________________________________________________________\n",
            " Layer (type)                Output Shape              Param #   \n",
            "=================================================================\n",
            " input_2 (InputLayer)        [(None, 30)]              0         \n",
            "                                                                 \n",
            " embedding_1 (Embedding)     (None, 30, 300)           1500300   \n",
            "                                                                 \n",
            " rnn_layer (SimpleRNN)       (None, 50)                17550     \n",
            "                                                                 \n",
            " final_dense_layer (Dense)   (None, 5001)              255051    \n",
            "                                                                 \n",
            "=================================================================\n",
            "Total params: 1,772,901\n",
            "Trainable params: 1,772,901\n",
            "Non-trainable params: 0\n",
            "_________________________________________________________________\n"
          ]
        }
      ]
    },
    {
      "cell_type": "code",
      "source": [
        "rnn_sarcasm_dic = {layer.name: layer.get_weights() for layer in rnn_model_sarcasm.layers} "
      ],
      "metadata": {
        "id": "nhsJhTQJe3AQ"
      },
      "execution_count": null,
      "outputs": []
    },
    {
      "cell_type": "code",
      "source": [
        "# setting weights in the new rnn model\n",
        "new_rnn_model.layers[1].set_weights(rnn_sarcasm_dic['embedding_1']) # setting weights in embedding layer from previous rnn model\n",
        "new_rnn_model.layers[2].set_weights(rnn_sarcasm_dic['simple_rnn']) # setting weights in rnn layer from previous rnn model\n",
        "new_rnn_model.layers[3].set_weights(rnn_sarcasm_dic['dense'])"
      ],
      "metadata": {
        "id": "saVtJ8hEe25Y"
      },
      "execution_count": null,
      "outputs": []
    },
    {
      "cell_type": "code",
      "source": [
        "predictions = new_rnn_model.predict(X_pred_padded)\n",
        "predictions.shape"
      ],
      "metadata": {
        "colab": {
          "base_uri": "https://localhost:8080/"
        },
        "id": "M1UbIQtffQSm",
        "outputId": "59fc3e78-4e7e-44e9-8781-ddf01f0689d0"
      },
      "execution_count": null,
      "outputs": [
        {
          "output_type": "execute_result",
          "data": {
            "text/plain": [
              "(35, 5001)"
            ]
          },
          "metadata": {},
          "execution_count": 39
        }
      ]
    },
    {
      "cell_type": "code",
      "source": [
        "# converting tokens back to word\n",
        "word_to_token = tokenizer_tf.word_index\n",
        "\n",
        "token_to_word = {j:i for i,j in word_to_token.items() }\n",
        "token_to_word[0] = '</s>'"
      ],
      "metadata": {
        "id": "KalznMQUfSbV"
      },
      "execution_count": null,
      "outputs": []
    },
    {
      "cell_type": "code",
      "source": [
        "# finding the predicted last word for each of the sentences\n",
        "predicted_words = []\n",
        "\n",
        "for pred in predictions:\n",
        "  idx = np.argmax(pred)\n",
        "  word = token_to_word[idx]\n",
        "  predicted_words.append(word)\n",
        "\n"
      ],
      "metadata": {
        "id": "jZ_d5quAfZeZ"
      },
      "execution_count": null,
      "outputs": []
    },
    {
      "cell_type": "code",
      "source": [
        "df_pred['predicted_word_sarcasm'] = predicted_words"
      ],
      "metadata": {
        "id": "JAcEdq90fhif"
      },
      "execution_count": null,
      "outputs": []
    },
    {
      "cell_type": "code",
      "source": [
        "df_pred.head(20)"
      ],
      "metadata": {
        "colab": {
          "base_uri": "https://localhost:8080/",
          "height": 825
        },
        "id": "bCkaLFXTfoFX",
        "outputId": "413c0700-6ff5-46ac-ad00-64683a186936"
      },
      "execution_count": null,
      "outputs": [
        {
          "output_type": "execute_result",
          "data": {
            "text/plain": [
              "                                                 Text last_word  \\\n",
              "0   <s> When you make changes please always check ...   working   \n",
              "1                               <s> I found them very   similar   \n",
              "2   <s> Give some overview of what the exercises a...     there   \n",
              "3                               <s> Honestly I do not  remember   \n",
              "4                               <s> Can you check the     video   \n",
              "5                               <s> A&A when you have      time   \n",
              "6      <s> otherwise we will need to start working on        it   \n",
              "7   <s> I do believe these students will know CNNs...       end   \n",
              "8                                        <s> They are     ready   \n",
              "9                 <s> today I have as much as you can    handle   \n",
              "10                              <s> Almost done until      then   \n",
              "11                          <s> ok the video is super      cool   \n",
              "12                                 <s> this is for me       fun   \n",
              "13                                       <s> not much      time   \n",
              "14                                       <s> For main    course   \n",
              "15                                  <s> time to think        of   \n",
              "16                            <s> Could you share the    slides   \n",
              "17                          <s> Or we should write it      here   \n",
              "18                <s> FYI the meeting at 3pm has been     moved   \n",
              "19                                     <s> Hey ski is    closed   \n",
              "\n",
              "                                          text_as_seq y_last_word  \\\n",
              "0   [1, 1064, 261, 24, 1319, 695, 109, 1004, 324, ...       [708]   \n",
              "1                             [1, 49, 168, 193, 1580]       [676]   \n",
              "2   [1, 115, 1250, 533, 532, 9, 828, 86, 858, 1431...       [189]   \n",
              "3                             [1, 1295, 49, 517, 316]       [314]   \n",
              "4                             [1, 2155, 261, 1004, 9]       [321]   \n",
              "5                                [1, 1064, 261, 1676]        [12]   \n",
              "6       [1, 887, 1309, 2109, 299, 455, 302, 708, 231]        [16]   \n",
              "7   [1, 49, 517, 191, 3265, 1320, 2109, 46, 1580, ...        [54]   \n",
              "8                                      [1, 1431, 828]      [1491]   \n",
              "9         [1, 528, 49, 1676, 301, 17, 301, 261, 2155]      [2437]   \n",
              "10                                      [1, 126, 151]       [480]   \n",
              "11                        [1, 609, 9, 321, 174, 1450]       [710]   \n",
              "12                             [1, 53, 174, 409, 169]       [196]   \n",
              "13                                       [1, 316, 17]        [12]   \n",
              "14                                      [1, 409, 202]       [175]   \n",
              "15                                   [1, 12, 455, 32]       [533]   \n",
              "16                              [1, 30, 261, 1596, 9]          []   \n",
              "17                            [1, 599, 1309, 890, 16]       [192]   \n",
              "18                      [1, 9, 2095, 792, 3024, 2786]      [1625]   \n",
              "19                                     [1, 1353, 174]      [3623]   \n",
              "\n",
              "   predicted_word predicted_word_sarcasm  \n",
              "0            </s>                      a  \n",
              "1            good                   much  \n",
              "2            </s>                   </s>  \n",
              "3            like                   know  \n",
              "4           story                     to  \n",
              "5            seen                      a  \n",
              "6             its                    the  \n",
              "7            film                   </s>  \n",
              "8            dont                    the  \n",
              "9            </s>                    get  \n",
              "10           film                   that  \n",
              "11           film                   easy  \n",
              "12            its                    but  \n",
              "13         better                     as  \n",
              "14      character                 reason  \n",
              "15           film                     of  \n",
              "16           film                   same  \n",
              "17            its                     in  \n",
              "18            one                    the  \n",
              "19           like                      a  "
            ],
            "text/html": [
              "\n",
              "  <div id=\"df-dd1c0e9e-ea01-4097-857e-8e5ab2d13866\">\n",
              "    <div class=\"colab-df-container\">\n",
              "      <div>\n",
              "<style scoped>\n",
              "    .dataframe tbody tr th:only-of-type {\n",
              "        vertical-align: middle;\n",
              "    }\n",
              "\n",
              "    .dataframe tbody tr th {\n",
              "        vertical-align: top;\n",
              "    }\n",
              "\n",
              "    .dataframe thead th {\n",
              "        text-align: right;\n",
              "    }\n",
              "</style>\n",
              "<table border=\"1\" class=\"dataframe\">\n",
              "  <thead>\n",
              "    <tr style=\"text-align: right;\">\n",
              "      <th></th>\n",
              "      <th>Text</th>\n",
              "      <th>last_word</th>\n",
              "      <th>text_as_seq</th>\n",
              "      <th>y_last_word</th>\n",
              "      <th>predicted_word</th>\n",
              "      <th>predicted_word_sarcasm</th>\n",
              "    </tr>\n",
              "  </thead>\n",
              "  <tbody>\n",
              "    <tr>\n",
              "      <th>0</th>\n",
              "      <td>&lt;s&gt; When you make changes please always check ...</td>\n",
              "      <td>working</td>\n",
              "      <td>[1, 1064, 261, 24, 1319, 695, 109, 1004, 324, ...</td>\n",
              "      <td>[708]</td>\n",
              "      <td>&lt;/s&gt;</td>\n",
              "      <td>a</td>\n",
              "    </tr>\n",
              "    <tr>\n",
              "      <th>1</th>\n",
              "      <td>&lt;s&gt; I found them very</td>\n",
              "      <td>similar</td>\n",
              "      <td>[1, 49, 168, 193, 1580]</td>\n",
              "      <td>[676]</td>\n",
              "      <td>good</td>\n",
              "      <td>much</td>\n",
              "    </tr>\n",
              "    <tr>\n",
              "      <th>2</th>\n",
              "      <td>&lt;s&gt; Give some overview of what the exercises a...</td>\n",
              "      <td>there</td>\n",
              "      <td>[1, 115, 1250, 533, 532, 9, 828, 86, 858, 1431...</td>\n",
              "      <td>[189]</td>\n",
              "      <td>&lt;/s&gt;</td>\n",
              "      <td>&lt;/s&gt;</td>\n",
              "    </tr>\n",
              "    <tr>\n",
              "      <th>3</th>\n",
              "      <td>&lt;s&gt; Honestly I do not</td>\n",
              "      <td>remember</td>\n",
              "      <td>[1, 1295, 49, 517, 316]</td>\n",
              "      <td>[314]</td>\n",
              "      <td>like</td>\n",
              "      <td>know</td>\n",
              "    </tr>\n",
              "    <tr>\n",
              "      <th>4</th>\n",
              "      <td>&lt;s&gt; Can you check the</td>\n",
              "      <td>video</td>\n",
              "      <td>[1, 2155, 261, 1004, 9]</td>\n",
              "      <td>[321]</td>\n",
              "      <td>story</td>\n",
              "      <td>to</td>\n",
              "    </tr>\n",
              "    <tr>\n",
              "      <th>5</th>\n",
              "      <td>&lt;s&gt; A&amp;A when you have</td>\n",
              "      <td>time</td>\n",
              "      <td>[1, 1064, 261, 1676]</td>\n",
              "      <td>[12]</td>\n",
              "      <td>seen</td>\n",
              "      <td>a</td>\n",
              "    </tr>\n",
              "    <tr>\n",
              "      <th>6</th>\n",
              "      <td>&lt;s&gt; otherwise we will need to start working on</td>\n",
              "      <td>it</td>\n",
              "      <td>[1, 887, 1309, 2109, 299, 455, 302, 708, 231]</td>\n",
              "      <td>[16]</td>\n",
              "      <td>its</td>\n",
              "      <td>the</td>\n",
              "    </tr>\n",
              "    <tr>\n",
              "      <th>7</th>\n",
              "      <td>&lt;s&gt; I do believe these students will know CNNs...</td>\n",
              "      <td>end</td>\n",
              "      <td>[1, 49, 517, 191, 3265, 1320, 2109, 46, 1580, ...</td>\n",
              "      <td>[54]</td>\n",
              "      <td>film</td>\n",
              "      <td>&lt;/s&gt;</td>\n",
              "    </tr>\n",
              "    <tr>\n",
              "      <th>8</th>\n",
              "      <td>&lt;s&gt; They are</td>\n",
              "      <td>ready</td>\n",
              "      <td>[1, 1431, 828]</td>\n",
              "      <td>[1491]</td>\n",
              "      <td>dont</td>\n",
              "      <td>the</td>\n",
              "    </tr>\n",
              "    <tr>\n",
              "      <th>9</th>\n",
              "      <td>&lt;s&gt; today I have as much as you can</td>\n",
              "      <td>handle</td>\n",
              "      <td>[1, 528, 49, 1676, 301, 17, 301, 261, 2155]</td>\n",
              "      <td>[2437]</td>\n",
              "      <td>&lt;/s&gt;</td>\n",
              "      <td>get</td>\n",
              "    </tr>\n",
              "    <tr>\n",
              "      <th>10</th>\n",
              "      <td>&lt;s&gt; Almost done until</td>\n",
              "      <td>then</td>\n",
              "      <td>[1, 126, 151]</td>\n",
              "      <td>[480]</td>\n",
              "      <td>film</td>\n",
              "      <td>that</td>\n",
              "    </tr>\n",
              "    <tr>\n",
              "      <th>11</th>\n",
              "      <td>&lt;s&gt; ok the video is super</td>\n",
              "      <td>cool</td>\n",
              "      <td>[1, 609, 9, 321, 174, 1450]</td>\n",
              "      <td>[710]</td>\n",
              "      <td>film</td>\n",
              "      <td>easy</td>\n",
              "    </tr>\n",
              "    <tr>\n",
              "      <th>12</th>\n",
              "      <td>&lt;s&gt; this is for me</td>\n",
              "      <td>fun</td>\n",
              "      <td>[1, 53, 174, 409, 169]</td>\n",
              "      <td>[196]</td>\n",
              "      <td>its</td>\n",
              "      <td>but</td>\n",
              "    </tr>\n",
              "    <tr>\n",
              "      <th>13</th>\n",
              "      <td>&lt;s&gt; not much</td>\n",
              "      <td>time</td>\n",
              "      <td>[1, 316, 17]</td>\n",
              "      <td>[12]</td>\n",
              "      <td>better</td>\n",
              "      <td>as</td>\n",
              "    </tr>\n",
              "    <tr>\n",
              "      <th>14</th>\n",
              "      <td>&lt;s&gt; For main</td>\n",
              "      <td>course</td>\n",
              "      <td>[1, 409, 202]</td>\n",
              "      <td>[175]</td>\n",
              "      <td>character</td>\n",
              "      <td>reason</td>\n",
              "    </tr>\n",
              "    <tr>\n",
              "      <th>15</th>\n",
              "      <td>&lt;s&gt; time to think</td>\n",
              "      <td>of</td>\n",
              "      <td>[1, 12, 455, 32]</td>\n",
              "      <td>[533]</td>\n",
              "      <td>film</td>\n",
              "      <td>of</td>\n",
              "    </tr>\n",
              "    <tr>\n",
              "      <th>16</th>\n",
              "      <td>&lt;s&gt; Could you share the</td>\n",
              "      <td>slides</td>\n",
              "      <td>[1, 30, 261, 1596, 9]</td>\n",
              "      <td>[]</td>\n",
              "      <td>film</td>\n",
              "      <td>same</td>\n",
              "    </tr>\n",
              "    <tr>\n",
              "      <th>17</th>\n",
              "      <td>&lt;s&gt; Or we should write it</td>\n",
              "      <td>here</td>\n",
              "      <td>[1, 599, 1309, 890, 16]</td>\n",
              "      <td>[192]</td>\n",
              "      <td>its</td>\n",
              "      <td>in</td>\n",
              "    </tr>\n",
              "    <tr>\n",
              "      <th>18</th>\n",
              "      <td>&lt;s&gt; FYI the meeting at 3pm has been</td>\n",
              "      <td>moved</td>\n",
              "      <td>[1, 9, 2095, 792, 3024, 2786]</td>\n",
              "      <td>[1625]</td>\n",
              "      <td>one</td>\n",
              "      <td>the</td>\n",
              "    </tr>\n",
              "    <tr>\n",
              "      <th>19</th>\n",
              "      <td>&lt;s&gt; Hey ski is</td>\n",
              "      <td>closed</td>\n",
              "      <td>[1, 1353, 174]</td>\n",
              "      <td>[3623]</td>\n",
              "      <td>like</td>\n",
              "      <td>a</td>\n",
              "    </tr>\n",
              "  </tbody>\n",
              "</table>\n",
              "</div>\n",
              "      <button class=\"colab-df-convert\" onclick=\"convertToInteractive('df-dd1c0e9e-ea01-4097-857e-8e5ab2d13866')\"\n",
              "              title=\"Convert this dataframe to an interactive table.\"\n",
              "              style=\"display:none;\">\n",
              "        \n",
              "  <svg xmlns=\"http://www.w3.org/2000/svg\" height=\"24px\"viewBox=\"0 0 24 24\"\n",
              "       width=\"24px\">\n",
              "    <path d=\"M0 0h24v24H0V0z\" fill=\"none\"/>\n",
              "    <path d=\"M18.56 5.44l.94 2.06.94-2.06 2.06-.94-2.06-.94-.94-2.06-.94 2.06-2.06.94zm-11 1L8.5 8.5l.94-2.06 2.06-.94-2.06-.94L8.5 2.5l-.94 2.06-2.06.94zm10 10l.94 2.06.94-2.06 2.06-.94-2.06-.94-.94-2.06-.94 2.06-2.06.94z\"/><path d=\"M17.41 7.96l-1.37-1.37c-.4-.4-.92-.59-1.43-.59-.52 0-1.04.2-1.43.59L10.3 9.45l-7.72 7.72c-.78.78-.78 2.05 0 2.83L4 21.41c.39.39.9.59 1.41.59.51 0 1.02-.2 1.41-.59l7.78-7.78 2.81-2.81c.8-.78.8-2.07 0-2.86zM5.41 20L4 18.59l7.72-7.72 1.47 1.35L5.41 20z\"/>\n",
              "  </svg>\n",
              "      </button>\n",
              "      \n",
              "  <style>\n",
              "    .colab-df-container {\n",
              "      display:flex;\n",
              "      flex-wrap:wrap;\n",
              "      gap: 12px;\n",
              "    }\n",
              "\n",
              "    .colab-df-convert {\n",
              "      background-color: #E8F0FE;\n",
              "      border: none;\n",
              "      border-radius: 50%;\n",
              "      cursor: pointer;\n",
              "      display: none;\n",
              "      fill: #1967D2;\n",
              "      height: 32px;\n",
              "      padding: 0 0 0 0;\n",
              "      width: 32px;\n",
              "    }\n",
              "\n",
              "    .colab-df-convert:hover {\n",
              "      background-color: #E2EBFA;\n",
              "      box-shadow: 0px 1px 2px rgba(60, 64, 67, 0.3), 0px 1px 3px 1px rgba(60, 64, 67, 0.15);\n",
              "      fill: #174EA6;\n",
              "    }\n",
              "\n",
              "    [theme=dark] .colab-df-convert {\n",
              "      background-color: #3B4455;\n",
              "      fill: #D2E3FC;\n",
              "    }\n",
              "\n",
              "    [theme=dark] .colab-df-convert:hover {\n",
              "      background-color: #434B5C;\n",
              "      box-shadow: 0px 1px 3px 1px rgba(0, 0, 0, 0.15);\n",
              "      filter: drop-shadow(0px 1px 2px rgba(0, 0, 0, 0.3));\n",
              "      fill: #FFFFFF;\n",
              "    }\n",
              "  </style>\n",
              "\n",
              "      <script>\n",
              "        const buttonEl =\n",
              "          document.querySelector('#df-dd1c0e9e-ea01-4097-857e-8e5ab2d13866 button.colab-df-convert');\n",
              "        buttonEl.style.display =\n",
              "          google.colab.kernel.accessAllowed ? 'block' : 'none';\n",
              "\n",
              "        async function convertToInteractive(key) {\n",
              "          const element = document.querySelector('#df-dd1c0e9e-ea01-4097-857e-8e5ab2d13866');\n",
              "          const dataTable =\n",
              "            await google.colab.kernel.invokeFunction('convertToInteractive',\n",
              "                                                     [key], {});\n",
              "          if (!dataTable) return;\n",
              "\n",
              "          const docLinkHtml = 'Like what you see? Visit the ' +\n",
              "            '<a target=\"_blank\" href=https://colab.research.google.com/notebooks/data_table.ipynb>data table notebook</a>'\n",
              "            + ' to learn more about interactive tables.';\n",
              "          element.innerHTML = '';\n",
              "          dataTable['output_type'] = 'display_data';\n",
              "          await google.colab.output.renderOutput(dataTable, element);\n",
              "          const docLink = document.createElement('div');\n",
              "          docLink.innerHTML = docLinkHtml;\n",
              "          element.appendChild(docLink);\n",
              "        }\n",
              "      </script>\n",
              "    </div>\n",
              "  </div>\n",
              "  "
            ]
          },
          "metadata": {},
          "execution_count": 83
        }
      ]
    },
    {
      "cell_type": "markdown",
      "metadata": {
        "id": "h2pfM2rZHXkk"
      },
      "source": [
        "<div class=\"alert alert-block alert-danger\" style=\"color:black;background-color:#E7F4FA\">\n",
        "\n",
        "**2.5.4** - How do the results with the new dataset compare to the previous ones? Why do you think so? \n",
        "\n",
        "Answer in less than 100 words.\n",
        "    \n",
        "Since the dataset was longer, we have better result with the new model trained on the df_sarcasm data"
      ]
    },
    {
      "cell_type": "markdown",
      "metadata": {
        "id": "c4LSts_RHXkk"
      },
      "source": [
        "<div class=\"alert alert-block alert-danger\" style=\"color:black;background-color:#E7F4FA\">\n",
        "\n",
        "\n",
        "### **2.6 [4 points] COMPLETING THE SENTENCE**\n",
        "<br />\n",
        "\n",
        "**2.6.1** Until now we have predicted a single word for a given sentence. However, what if he meant more than one word when he typed in `...`\n",
        "\n",
        "We will now predict multiple words for each input sentence. To do this we will first predict one word, append this word to the input text and then predict once more with the updated input. Continue doing this to predict 5 words or until the end token `</s>` (whichever comes first). \n",
        "\n",
        "</div>"
      ]
    },
    {
      "cell_type": "markdown",
      "source": [
        "- first we will have a sentence\n",
        "- we will post pad to length =30\n",
        "- chnage the shape so that it will go as input to the model.\n",
        "- once we get the output add the word into the string, and repeat the process from start, till we do this 5 times or its predicts stops,"
      ],
      "metadata": {
        "id": "p98iY354Sh57"
      }
    },
    {
      "cell_type": "code",
      "source": [
        "# Your code here\n",
        "final_sentence = []\n",
        "def input_sentence(sentence):\n",
        "  predicted_word = ' '\n",
        "  count=0\n",
        "\n",
        "  while True:\n",
        "      if (count >= 5) or predicted_word == '</s>':\n",
        "        break\n",
        "      count +=1\n",
        "      # print(sentence)\n",
        "      input_string = [sentence]\n",
        "\n",
        "      input_as_tokens= tokenizer_tf.texts_to_sequences(input_string)\n",
        "\n",
        "      input_array = tf.keras.preprocessing.sequence.pad_sequences(input_as_tokens,maxlen=30,padding='post')\n",
        "\n",
        "      preds = new_rnn_model.predict(input_array)\n",
        "\n",
        "      idx = np.argmax(preds)\n",
        "      predicted_word = token_to_word[idx]\n",
        "      # print(predicted_word)\n",
        "\n",
        "\n",
        "\n",
        "      sentence = sentence+ ' ' + predicted_word\n",
        "\n",
        "\n",
        "  return sentence\n",
        "\n",
        "\n"
      ],
      "metadata": {
        "id": "graclyZ9mlvB"
      },
      "execution_count": null,
      "outputs": []
    },
    {
      "cell_type": "code",
      "source": [
        "input_string = 'this is one of'"
      ],
      "metadata": {
        "id": "Se_A5FowXUdW"
      },
      "execution_count": null,
      "outputs": []
    },
    {
      "cell_type": "code",
      "source": [
        "print(f'For the input sentence: \"{input_string}\", the predicted output sentence is \"{input_sentence(input_string)}\"')"
      ],
      "metadata": {
        "colab": {
          "base_uri": "https://localhost:8080/"
        },
        "id": "zVyvVUteXUwg",
        "outputId": "b344af79-553b-4896-d822-57b3541bbef7"
      },
      "execution_count": null,
      "outputs": [
        {
          "output_type": "stream",
          "name": "stdout",
          "text": [
            "For the input sentence: \"this is one of\", the predicted output sentence is \"this is one of course film would like it\"\n"
          ]
        }
      ]
    },
    {
      "cell_type": "code",
      "source": [
        ""
      ],
      "metadata": {
        "id": "fp3yBL-kmQXO"
      },
      "execution_count": null,
      "outputs": []
    }
  ],
  "metadata": {
    "accelerator": "GPU",
    "colab": {
      "collapsed_sections": [],
      "name": "AI3_HW1_Language_Modeling.ipynb",
      "provenance": [],
      "toc_visible": true,
      "include_colab_link": true
    },
    "kernelspec": {
      "display_name": "Python 3 (ipykernel)",
      "language": "python",
      "name": "python3"
    },
    "language_info": {
      "codemirror_mode": {
        "name": "ipython",
        "version": 3
      },
      "file_extension": ".py",
      "mimetype": "text/x-python",
      "name": "python",
      "nbconvert_exporter": "python",
      "pygments_lexer": "ipython3",
      "version": "3.9.9"
    }
  },
  "nbformat": 4,
  "nbformat_minor": 0
}